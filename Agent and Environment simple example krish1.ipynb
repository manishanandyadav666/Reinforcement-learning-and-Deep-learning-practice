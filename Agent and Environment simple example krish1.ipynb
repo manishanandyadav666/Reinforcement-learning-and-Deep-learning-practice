{
 "cells": [
  {
   "cell_type": "markdown",
   "metadata": {},
   "source": [
    "## Simple implementation of agent and environment"
   ]
  },
  {
   "cell_type": "markdown",
   "metadata": {},
   "source": [
    "### For Environment"
   ]
  },
  {
   "cell_type": "code",
   "execution_count": 13,
   "metadata": {},
   "outputs": [],
   "source": [
    "import random\n",
    "from typing import List\n",
    "\n",
    "class SampleEnvironment:\n",
    "    def __init__(self):\n",
    "        self.steps_left=20\n",
    "    def get_observation(self) -> List[float]:\n",
    "        return [0.0,0.0,0.0]\n",
    "    def get_action(self) -> List[int]:\n",
    "        return[0,1]\n",
    "    def is_done(self)  ->bool:\n",
    "        return self.steps_left==0\n",
    "    def action(self,action: int) ->float:\n",
    "        if self.is_done():\n",
    "            raise Exception('Game is over!')\n",
    "        self.steps_left-=1\n",
    "        return random.random()"
   ]
  },
  {
   "cell_type": "markdown",
   "metadata": {},
   "source": [
    "### For Agent"
   ]
  },
  {
   "cell_type": "code",
   "execution_count": 14,
   "metadata": {},
   "outputs": [],
   "source": [
    "class Agent:\n",
    "    def __init__(self):\n",
    "        self.total_reward=0.0\n",
    "    def step(self, env: SampleEnvironment):\n",
    "        current_jobs=env.get_observation()\n",
    "        print(\"Observation {}\".format(current_jobs))\n",
    "        actions=env.get_action()\n",
    "        print(actions)\n",
    "        reward=env.action(random.choice(actions))\n",
    "        self.total_reward+=reward\n",
    "        print(\"Total reward {}\".format(self.total_reward))"
   ]
  },
  {
   "cell_type": "code",
   "execution_count": 15,
   "metadata": {},
   "outputs": [
    {
     "name": "stdout",
     "output_type": "stream",
     "text": [
      "Step 1\n",
      "Observation [0.0, 0.0, 0.0]\n",
      "[0, 1]\n",
      "Total reward 0.2760026946701756\n",
      "Step 2\n",
      "Observation [0.0, 0.0, 0.0]\n",
      "[0, 1]\n",
      "Total reward 1.1478916800300671\n",
      "Step 3\n",
      "Observation [0.0, 0.0, 0.0]\n",
      "[0, 1]\n",
      "Total reward 1.7240684108402986\n",
      "Step 4\n",
      "Observation [0.0, 0.0, 0.0]\n",
      "[0, 1]\n",
      "Total reward 2.3525903568835536\n",
      "Step 5\n",
      "Observation [0.0, 0.0, 0.0]\n",
      "[0, 1]\n",
      "Total reward 2.9795042556641125\n",
      "Step 6\n",
      "Observation [0.0, 0.0, 0.0]\n",
      "[0, 1]\n",
      "Total reward 3.0930818691493704\n",
      "Step 7\n",
      "Observation [0.0, 0.0, 0.0]\n",
      "[0, 1]\n",
      "Total reward 3.457475466861335\n",
      "Step 8\n",
      "Observation [0.0, 0.0, 0.0]\n",
      "[0, 1]\n",
      "Total reward 4.250554266935676\n",
      "Step 9\n",
      "Observation [0.0, 0.0, 0.0]\n",
      "[0, 1]\n",
      "Total reward 4.284859612192973\n",
      "Step 10\n",
      "Observation [0.0, 0.0, 0.0]\n",
      "[0, 1]\n",
      "Total reward 4.544674151387869\n",
      "Step 11\n",
      "Observation [0.0, 0.0, 0.0]\n",
      "[0, 1]\n",
      "Total reward 5.503792473566012\n",
      "Step 12\n",
      "Observation [0.0, 0.0, 0.0]\n",
      "[0, 1]\n",
      "Total reward 5.696434135847535\n",
      "Step 13\n",
      "Observation [0.0, 0.0, 0.0]\n",
      "[0, 1]\n",
      "Total reward 6.161977508252274\n",
      "Step 14\n",
      "Observation [0.0, 0.0, 0.0]\n",
      "[0, 1]\n",
      "Total reward 6.988218725972478\n",
      "Step 15\n",
      "Observation [0.0, 0.0, 0.0]\n",
      "[0, 1]\n",
      "Total reward 7.778744896268702\n",
      "Step 16\n",
      "Observation [0.0, 0.0, 0.0]\n",
      "[0, 1]\n",
      "Total reward 7.976071041144015\n",
      "Step 17\n",
      "Observation [0.0, 0.0, 0.0]\n",
      "[0, 1]\n",
      "Total reward 8.940647345626646\n",
      "Step 18\n",
      "Observation [0.0, 0.0, 0.0]\n",
      "[0, 1]\n",
      "Total reward 9.377851214610125\n",
      "Step 19\n",
      "Observation [0.0, 0.0, 0.0]\n",
      "[0, 1]\n",
      "Total reward 9.462391543477862\n",
      "Step 20\n",
      "Observation [0.0, 0.0, 0.0]\n",
      "[0, 1]\n",
      "Total reward 10.276764135717254\n"
     ]
    }
   ],
   "source": [
    "if __name__=='__main__':\n",
    "    env=SampleEnvironment()\n",
    "    agent=Agent()\n",
    "    i=0\n",
    "    while not env.is_done():\n",
    "        i=i+1\n",
    "        print(\"Step {}\".format(i))\n",
    "        agent.step(env)\n",
    "        "
   ]
  },
  {
   "cell_type": "code",
   "execution_count": null,
   "metadata": {},
   "outputs": [],
   "source": []
  }
 ],
 "metadata": {
  "kernelspec": {
   "display_name": "Python 3",
   "language": "python",
   "name": "python3"
  },
  "language_info": {
   "codemirror_mode": {
    "name": "ipython",
    "version": 3
   },
   "file_extension": ".py",
   "mimetype": "text/x-python",
   "name": "python",
   "nbconvert_exporter": "python",
   "pygments_lexer": "ipython3",
   "version": "3.7.3"
  }
 },
 "nbformat": 4,
 "nbformat_minor": 4
}
