{
 "cells": [
  {
   "cell_type": "markdown",
   "metadata": {},
   "source": [
    "### Prepration and processing of data"
   ]
  },
  {
   "cell_type": "code",
   "execution_count": 33,
   "metadata": {},
   "outputs": [],
   "source": [
    "# Importing the required libraries\n",
    "import numpy as np\n",
    "from random import randint\n",
    "from sklearn.utils import shuffle\n",
    "from sklearn.preprocessing import MinMaxScaler\n"
   ]
  },
  {
   "cell_type": "code",
   "execution_count": 34,
   "metadata": {},
   "outputs": [],
   "source": [
    "# Creting two empty lists\n",
    "train_labels=[]\n",
    "train_samples=[]\n",
    "\n",
    "\n"
   ]
  },
  {
   "cell_type": "markdown",
   "metadata": {},
   "source": [
    "####Creating an example data\n",
    "####A fictitious drug tested on individuals from age 13 to 100\n",
    "####A trial of 2100 patients, half of age under 65 and another half aged over 65\n",
    "####95 % of older goupps had sideeffects whereas 95 % of younger groups had no sideeffects"
   ]
  },
  {
   "cell_type": "code",
   "execution_count": 35,
   "metadata": {},
   "outputs": [
    {
     "name": "stdout",
     "output_type": "stream",
     "text": [
      "100\n",
      "100\n",
      "2100\n",
      "2100\n"
     ]
    }
   ],
   "source": [
    "for i in range(50):\n",
    "    # For 5 % of individuals who experienced side effects\n",
    "    random_younger=randint(13,64)\n",
    "    train_samples.append(random_younger)\n",
    "    # 1 to denote individuals who experienced sideeffects\n",
    "    train_labels.append(1)\n",
    "    \n",
    "    # For 5% of olders who did not experience side effexts\n",
    "    \n",
    "    random_older=randint(65,100)\n",
    "    train_samples.append(random_older)\n",
    "    # 0 to denote individuals who did not experience side effects\n",
    "    train_labels.append(0)\n",
    "    \n",
    "print(len(train_samples))\n",
    "print(len(train_labels))\n",
    "    \n",
    "\n",
    "for i in range(1000):\n",
    "    # for the 95% of younger who did not experience side effects\n",
    "    random_younger=randint(13,64)\n",
    "    train_samples.append(random_younger)\n",
    "    train_labels.append(0)\n",
    "    \n",
    "    # for the 95% of olders who experienced side effects\n",
    "    random_older=randint(65,100)\n",
    "    train_samples.append(random_older)\n",
    "    train_labels.append(1)\n",
    "\n",
    "print(len(train_samples))\n",
    "print(len(train_labels))\n",
    "    "
   ]
  },
  {
   "cell_type": "code",
   "execution_count": 41,
   "metadata": {},
   "outputs": [
    {
     "name": "stdout",
     "output_type": "stream",
     "text": [
      "2100\n",
      "2100\n"
     ]
    },
    {
     "data": {
      "text/plain": [
       "'for i in train_samples:\\n    print(i)'"
      ]
     },
     "execution_count": 41,
     "metadata": {},
     "output_type": "execute_result"
    }
   ],
   "source": [
    "print(len(train_samples))\n",
    "print(len(train_labels))\n",
    "\"\"\"for i in train_samples:\n",
    "    print(i)\"\"\""
   ]
  },
  {
   "cell_type": "code",
   "execution_count": 40,
   "metadata": {},
   "outputs": [
    {
     "data": {
      "text/plain": [
       "'\"for i in train_labels:\\n    print(i)'"
      ]
     },
     "execution_count": 40,
     "metadata": {},
     "output_type": "execute_result"
    }
   ],
   "source": [
    "\"\"\"\"for i in train_labels:\n",
    "    print(i)\"\"\""
   ]
  },
  {
   "cell_type": "code",
   "execution_count": 36,
   "metadata": {},
   "outputs": [],
   "source": [
    "train_labels=np.array(train_labels)\n",
    "train_samples=np.array(train_samples)\n",
    "train_labels, train_samples=shuffle(train_labels, train_samples)"
   ]
  },
  {
   "cell_type": "code",
   "execution_count": 37,
   "metadata": {},
   "outputs": [],
   "source": [
    "scaler=MinMaxScaler(feature_range=(0,1))\n",
    "scaled_train_samples=scaler.fit_transform(train_samples.reshape(-1,1))"
   ]
  },
  {
   "cell_type": "code",
   "execution_count": 46,
   "metadata": {},
   "outputs": [
    {
     "name": "stdout",
     "output_type": "stream",
     "text": [
      "[0.85057471]\n",
      "[0.64367816]\n",
      "[0.26436782]\n",
      "[0.08045977]\n",
      "[0.91954023]\n",
      "[0.31034483]\n",
      "[0.1954023]\n",
      "[0.26436782]\n",
      "[0.35632184]\n",
      "[0.35632184]\n",
      "[0.]\n",
      "[0.85057471]\n",
      "[0.77011494]\n",
      "[0.1954023]\n",
      "[0.18390805]\n",
      "[0.05747126]\n",
      "[0.6091954]\n",
      "[0.49425287]\n",
      "[0.98850575]\n",
      "[0.47126437]\n",
      "[0.62068966]\n",
      "[0.5862069]\n",
      "[0.04597701]\n",
      "[0.90804598]\n",
      "[0.74712644]\n",
      "[0.5862069]\n",
      "[0.33333333]\n",
      "[0.5862069]\n",
      "[0.95402299]\n",
      "[0.48275862]\n",
      "[0.93103448]\n",
      "[0.50574713]\n",
      "[0.42528736]\n",
      "[0.27586207]\n",
      "[0.85057471]\n",
      "[0.09195402]\n",
      "[0.67816092]\n",
      "[0.62068966]\n",
      "[0.37931034]\n",
      "[0.10344828]\n",
      "[0.35632184]\n",
      "[0.36781609]\n",
      "[0.59770115]\n",
      "[0.12643678]\n",
      "[0.02298851]\n",
      "[0.75862069]\n",
      "[0.90804598]\n",
      "[0.73563218]\n",
      "[0.95402299]\n",
      "[0.88505747]\n"
     ]
    }
   ],
   "source": [
    "for j in range(50):\n",
    "    print(scaled_train_samples[j])\n",
    "    "
   ]
  },
  {
   "cell_type": "code",
   "execution_count": null,
   "metadata": {},
   "outputs": [],
   "source": []
  }
 ],
 "metadata": {
  "kernelspec": {
   "display_name": "Python 3",
   "language": "python",
   "name": "python3"
  },
  "language_info": {
   "codemirror_mode": {
    "name": "ipython",
    "version": 3
   },
   "file_extension": ".py",
   "mimetype": "text/x-python",
   "name": "python",
   "nbconvert_exporter": "python",
   "pygments_lexer": "ipython3",
   "version": "3.7.3"
  }
 },
 "nbformat": 4,
 "nbformat_minor": 2
}
