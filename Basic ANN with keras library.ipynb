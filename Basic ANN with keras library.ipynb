{
 "cells": [
  {
   "cell_type": "code",
   "execution_count": 6,
   "metadata": {},
   "outputs": [
    {
     "name": "stderr",
     "output_type": "stream",
     "text": [
      "/home/dell/snap/jupyter/common/lib/python3.7/site-packages/joblib/_multiprocessing_helpers.py:45: UserWarning: [Errno 13] Permission denied.  joblib will operate in serial mode\n",
      "  warnings.warn('%s.  joblib will operate in serial mode' % (e,))\n"
     ]
    }
   ],
   "source": [
    "# Importing the required libraries\n",
    "import numpy as np\n",
    "from random import randint\n",
    "from sklearn.utils import shuffle\n",
    "from sklearn.preprocessing import MinMaxScaler"
   ]
  },
  {
   "cell_type": "code",
   "execution_count": 7,
   "metadata": {},
   "outputs": [],
   "source": [
    "train_labels = []\n",
    "train_samples = []"
   ]
  },
  {
   "cell_type": "code",
   "execution_count": 8,
   "metadata": {},
   "outputs": [],
   "source": [
    "# The creation of data for trainning \n",
    "for i in range(50):\n",
    "    # The ~5% of younger individuals who did experience side effects\n",
    "    random_younger = randint(13,64)\n",
    "    train_samples.append(random_younger)\n",
    "    train_labels.append(1)\n",
    "\n",
    "    # The ~5% of older individuals who did not experience side effects\n",
    "    random_older = randint(65,100)\n",
    "    train_samples.append(random_older)\n",
    "    train_labels.append(0)\n",
    "\n",
    "for i in range(1000):\n",
    "    # The ~95% of younger individuals who did not experience side effects\n",
    "    random_younger = randint(13,64)\n",
    "    train_samples.append(random_younger)\n",
    "    train_labels.append(0)\n",
    "\n",
    "    # The ~95% of older individuals who did experience side effects\n",
    "    random_older = randint(65,100)\n",
    "    train_samples.append(random_older)\n",
    "    train_labels.append(1)"
   ]
  },
  {
   "cell_type": "code",
   "execution_count": 9,
   "metadata": {},
   "outputs": [],
   "source": [
    "train_labels = np.array(train_labels)\n",
    "train_samples = np.array(train_samples)\n",
    "train_labels, train_samples = shuffle(train_labels, train_samples)"
   ]
  },
  {
   "cell_type": "code",
   "execution_count": 10,
   "metadata": {},
   "outputs": [],
   "source": [
    "# Performing Scaling so as to reduce the compuational complextiy\n",
    "scaler = MinMaxScaler(feature_range=(0,1))\n",
    "scaled_train_samples = scaler.fit_transform(train_samples.reshape(-1,1))"
   ]
  },
  {
   "cell_type": "code",
   "execution_count": null,
   "metadata": {},
   "outputs": [],
   "source": []
  },
  {
   "cell_type": "code",
   "execution_count": 11,
   "metadata": {},
   "outputs": [],
   "source": [
    "# Importing tensorflow and other libraires and packages to train ANN\n",
    "import tensorflow as tf\n",
    "from tensorflow import keras\n",
    "from tensorflow.keras.models import Sequential\n",
    "from tensorflow.keras.layers import Activation, Dense\n",
    "from tensorflow.keras.optimizers import Adam\n",
    "from tensorflow.keras.metrics import categorical_crossentropy"
   ]
  },
  {
   "cell_type": "code",
   "execution_count": 12,
   "metadata": {},
   "outputs": [],
   "source": [
    "model = Sequential([\n",
    "    Dense(units=16, input_shape=(1,), activation='relu'),\n",
    "    Dense(units=32, activation='relu'),\n",
    "    Dense(units=2, activation='softmax')\n",
    "])"
   ]
  },
  {
   "cell_type": "code",
   "execution_count": 13,
   "metadata": {},
   "outputs": [],
   "source": [
    "model.compile(optimizer=Adam(learning_rate=0.0001), loss='sparse_categorical_crossentropy', metrics=['accuracy'])"
   ]
  },
  {
   "cell_type": "code",
   "execution_count": 14,
   "metadata": {},
   "outputs": [
    {
     "name": "stdout",
     "output_type": "stream",
     "text": [
      "Epoch 1/30\n",
      "210/210 - 1s - loss: 0.7120 - accuracy: 0.4029\n",
      "Epoch 2/30\n",
      "210/210 - 0s - loss: 0.6671 - accuracy: 0.6110\n",
      "Epoch 3/30\n",
      "210/210 - 0s - loss: 0.6197 - accuracy: 0.7100\n",
      "Epoch 4/30\n",
      "210/210 - 0s - loss: 0.5805 - accuracy: 0.7590\n",
      "Epoch 5/30\n",
      "210/210 - 0s - loss: 0.5429 - accuracy: 0.7905\n",
      "Epoch 6/30\n",
      "210/210 - 0s - loss: 0.5066 - accuracy: 0.8224\n",
      "Epoch 7/30\n",
      "210/210 - 0s - loss: 0.4721 - accuracy: 0.8419\n",
      "Epoch 8/30\n",
      "210/210 - 0s - loss: 0.4387 - accuracy: 0.8648\n",
      "Epoch 9/30\n",
      "210/210 - 0s - loss: 0.4076 - accuracy: 0.8876\n",
      "Epoch 10/30\n",
      "210/210 - 0s - loss: 0.3805 - accuracy: 0.8957\n",
      "Epoch 11/30\n",
      "210/210 - 0s - loss: 0.3575 - accuracy: 0.9038\n",
      "Epoch 12/30\n",
      "210/210 - 0s - loss: 0.3389 - accuracy: 0.9152\n",
      "Epoch 13/30\n",
      "210/210 - 0s - loss: 0.3240 - accuracy: 0.9148\n",
      "Epoch 14/30\n",
      "210/210 - 0s - loss: 0.3119 - accuracy: 0.9186\n",
      "Epoch 15/30\n",
      "210/210 - 0s - loss: 0.3021 - accuracy: 0.9276\n",
      "Epoch 16/30\n",
      "210/210 - 0s - loss: 0.2942 - accuracy: 0.9281\n",
      "Epoch 17/30\n",
      "210/210 - 0s - loss: 0.2879 - accuracy: 0.9262\n",
      "Epoch 18/30\n",
      "210/210 - 0s - loss: 0.2824 - accuracy: 0.9310\n",
      "Epoch 19/30\n",
      "210/210 - 0s - loss: 0.2783 - accuracy: 0.9310\n",
      "Epoch 20/30\n",
      "210/210 - 0s - loss: 0.2747 - accuracy: 0.9314\n",
      "Epoch 21/30\n",
      "210/210 - 0s - loss: 0.2715 - accuracy: 0.9343\n",
      "Epoch 22/30\n",
      "210/210 - 0s - loss: 0.2688 - accuracy: 0.9333\n",
      "Epoch 23/30\n",
      "210/210 - 0s - loss: 0.2665 - accuracy: 0.9348\n",
      "Epoch 24/30\n",
      "210/210 - 0s - loss: 0.2647 - accuracy: 0.9343\n",
      "Epoch 25/30\n",
      "210/210 - 0s - loss: 0.2627 - accuracy: 0.9367\n",
      "Epoch 26/30\n",
      "210/210 - 0s - loss: 0.2612 - accuracy: 0.9343\n",
      "Epoch 27/30\n",
      "210/210 - 0s - loss: 0.2597 - accuracy: 0.9362\n",
      "Epoch 28/30\n",
      "210/210 - 0s - loss: 0.2583 - accuracy: 0.9357\n",
      "Epoch 29/30\n",
      "210/210 - 0s - loss: 0.2570 - accuracy: 0.9343\n",
      "Epoch 30/30\n",
      "210/210 - 0s - loss: 0.2557 - accuracy: 0.9352\n"
     ]
    },
    {
     "data": {
      "text/plain": [
       "<tensorflow.python.keras.callbacks.History at 0x7f2cf42536a0>"
      ]
     },
     "execution_count": 14,
     "metadata": {},
     "output_type": "execute_result"
    }
   ],
   "source": [
    "model.fit(x=scaled_train_samples, y=train_labels, batch_size=10, epochs=30, verbose=2)"
   ]
  },
  {
   "cell_type": "code",
   "execution_count": null,
   "metadata": {},
   "outputs": [],
   "source": []
  }
 ],
 "metadata": {
  "kernelspec": {
   "display_name": "Python 3",
   "language": "python",
   "name": "python3"
  },
  "language_info": {
   "codemirror_mode": {
    "name": "ipython",
    "version": 3
   },
   "file_extension": ".py",
   "mimetype": "text/x-python",
   "name": "python",
   "nbconvert_exporter": "python",
   "pygments_lexer": "ipython3",
   "version": "3.7.3"
  }
 },
 "nbformat": 4,
 "nbformat_minor": 2
}
