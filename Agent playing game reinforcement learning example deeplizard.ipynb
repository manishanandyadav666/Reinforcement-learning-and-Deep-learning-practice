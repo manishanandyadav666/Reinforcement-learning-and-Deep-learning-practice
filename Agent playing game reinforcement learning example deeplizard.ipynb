{
 "cells": [
  {
   "cell_type": "code",
   "execution_count": null,
   "metadata": {},
   "outputs": [],
   "source": []
  },
  {
   "cell_type": "code",
   "execution_count": null,
   "metadata": {},
   "outputs": [],
   "source": []
  },
  {
   "cell_type": "code",
   "execution_count": 37,
   "metadata": {},
   "outputs": [],
   "source": [
    "# Importing the  required libraries\n",
    "import numpy as np\n",
    "import gym\n",
    "import random\n",
    "import time\n",
    "from IPython.display import clear_output"
   ]
  },
  {
   "cell_type": "code",
   "execution_count": 38,
   "metadata": {},
   "outputs": [],
   "source": [
    "# Creating the environment\n",
    "env=gym.make('FrozenLake-v0')"
   ]
  },
  {
   "cell_type": "code",
   "execution_count": 39,
   "metadata": {},
   "outputs": [
    {
     "name": "stdout",
     "output_type": "stream",
     "text": [
      "[[0. 0. 0. 0.]\n",
      " [0. 0. 0. 0.]\n",
      " [0. 0. 0. 0.]\n",
      " [0. 0. 0. 0.]\n",
      " [0. 0. 0. 0.]\n",
      " [0. 0. 0. 0.]\n",
      " [0. 0. 0. 0.]\n",
      " [0. 0. 0. 0.]\n",
      " [0. 0. 0. 0.]\n",
      " [0. 0. 0. 0.]\n",
      " [0. 0. 0. 0.]\n",
      " [0. 0. 0. 0.]\n",
      " [0. 0. 0. 0.]\n",
      " [0. 0. 0. 0.]\n",
      " [0. 0. 0. 0.]\n",
      " [0. 0. 0. 0.]]\n"
     ]
    }
   ],
   "source": [
    "# Creating the Q_table\n",
    "action_space_size=env.action_space.n\n",
    "state_space_size=env.observation_space.n\n",
    "q_table=np.zeros((state_space_size,action_space_size))\n",
    "print(q_table)"
   ]
  },
  {
   "cell_type": "code",
   "execution_count": 42,
   "metadata": {},
   "outputs": [],
   "source": [
    "# Parameter Initialization\n",
    "num_episodes = 20000\n",
    "max_steps_per_episode = 100\n",
    "\n",
    "learning_rate = 0.1\n",
    "discount_rate = 0.99\n",
    "\n",
    "exploration_rate = 1\n",
    "max_exploration_rate = 1\n",
    "min_exploration_rate = 0.01\n",
    "exploration_decay_rate = 0.001"
   ]
  },
  {
   "cell_type": "code",
   "execution_count": 43,
   "metadata": {},
   "outputs": [
    {
     "name": "stdout",
     "output_type": "stream",
     "text": [
      "An average reward per thousand episode\n",
      "1000 -- 0.06500000000000004\n",
      "2000 -- 0.21100000000000016\n",
      "3000 -- 0.4060000000000003\n",
      "4000 -- 0.5470000000000004\n",
      "5000 -- 0.6170000000000004\n",
      "6000 -- 0.6230000000000004\n",
      "7000 -- 0.6650000000000005\n",
      "8000 -- 0.6690000000000005\n",
      "9000 -- 0.6950000000000005\n",
      "10000 -- 0.6900000000000005\n",
      "11000 -- 0.7000000000000005\n",
      "12000 -- 0.6960000000000005\n",
      "13000 -- 0.6540000000000005\n",
      "14000 -- 0.6790000000000005\n",
      "15000 -- 0.6720000000000005\n",
      "16000 -- 0.6860000000000005\n",
      "17000 -- 0.6890000000000005\n",
      "18000 -- 0.6770000000000005\n",
      "19000 -- 0.6960000000000005\n",
      "20000 -- 0.6940000000000005\n",
      "The updated version of Q-table\n",
      "[[0.52937595 0.52812849 0.52794514 0.52476293]\n",
      " [0.3836632  0.30875556 0.28383789 0.51453326]\n",
      " [0.42957164 0.43115323 0.40271509 0.49617091]\n",
      " [0.36529069 0.3297155  0.22607682 0.47368656]\n",
      " [0.54566397 0.30774747 0.29974734 0.34341897]\n",
      " [0.         0.         0.         0.        ]\n",
      " [0.33434691 0.12258344 0.18201361 0.1010013 ]\n",
      " [0.         0.         0.         0.        ]\n",
      " [0.48100024 0.45093927 0.39510804 0.57263424]\n",
      " [0.40553228 0.5925225  0.42823112 0.37394243]\n",
      " [0.54338411 0.50697798 0.37141606 0.27890294]\n",
      " [0.         0.         0.         0.        ]\n",
      " [0.         0.         0.         0.        ]\n",
      " [0.51553746 0.65987266 0.70592915 0.58236428]\n",
      " [0.718415   0.7394859  0.80960806 0.73741333]\n",
      " [0.         0.         0.         0.        ]]\n"
     ]
    }
   ],
   "source": [
    "# Implementation of Q-learning algorithm\n",
    "rewards_all_episodes=[]\n",
    "for episode in range(num_episodes):\n",
    "    state=env.reset()\n",
    "    done=False\n",
    "    rewards_current_episode=0\n",
    "    \n",
    "    for step in range(max_steps_per_episode):\n",
    "        # Exploration and exploitaion trade-off\n",
    "        exploration_rate_threshold=random.uniform(0,1)\n",
    "        if exploration_rate_threshold>exploration_rate:\n",
    "            action=np.argmax(q_table[state,:])\n",
    "        else:\n",
    "            action=env.action_space.sample()\n",
    "        \n",
    "        new_state, reward, done, info=env.step(action)\n",
    "        #Update Q-value \n",
    "        q_table[state,action]=q_table[state,action]*(1-learning_rate)+learning_rate*(reward + discount_rate * np.max(q_table[new_state, :]))\n",
    "        \n",
    "        state=new_state\n",
    "        rewards_current_episode+= reward\n",
    "        \n",
    "        if done==True:\n",
    "            break\n",
    "    # Exploration rate decay\n",
    "    exploration_rate = min_exploration_rate + \\\n",
    "    (max_exploration_rate - min_exploration_rate) * np.exp(-exploration_decay_rate*episode)\n",
    "    rewards_all_episodes.append(rewards_current_episode)\n",
    "# The calcualtion of rewards per thousand episodes\n",
    "rewards_per_thousand_episodes = np.split(np.array(rewards_all_episodes),num_episodes/1000)\n",
    "count=1000\n",
    "print(\"An average reward per thousand episode\")\n",
    "for r in rewards_per_thousand_episodes:\n",
    "    \n",
    "    print(count, \"--\",(sum(r/1000)))\n",
    "    count=count+1000\n",
    "print(\"The updated version of Q-table\")\n",
    "print(q_table)\n"
   ]
  },
  {
   "cell_type": "code",
   "execution_count": 46,
   "metadata": {},
   "outputs": [
    {
     "name": "stdout",
     "output_type": "stream",
     "text": [
      "  (Right)\n",
      "SFFF\n",
      "FHFH\n",
      "FFFH\n",
      "HFF\u001b[41mG\u001b[0m\n",
      "@@@Mission Accomplished@@@\n"
     ]
    }
   ],
   "source": [
    "# Watching the agent play game \n",
    "for episode in range(3):\n",
    "    state=env.reset()\n",
    "    done=False\n",
    "    print(\"###\",\"Episode no.\",episode+1,\"####\")\n",
    "    time.sleep(1)\n",
    "    \n",
    "    for step in range(max_steps_per_episode):\n",
    "        clear_output(wait=True)\n",
    "        env.render()\n",
    "        time.sleep(0.3)\n",
    "        action=np.argmax(q_table[state,:])\n",
    "        new_state, reward, done, info=env.step(action)\n",
    "        if done:\n",
    "            clear_output(wait=True)\n",
    "            env.render()\n",
    "            if reward==1:\n",
    "                print(\"@@@Mission Accomplished@@@\")\n",
    "                time.sleep(3)\n",
    "            else:\n",
    "                print(\"*** Nashrudin fell into a well****\")\n",
    "                time.sleep(3)\n",
    "            clear_output(wait=True)\n",
    "            break\n",
    "        state=new_state\n",
    "    env.close()\n",
    "        "
   ]
  },
  {
   "cell_type": "code",
   "execution_count": null,
   "metadata": {},
   "outputs": [],
   "source": []
  }
 ],
 "metadata": {
  "kernelspec": {
   "display_name": "Python 3",
   "language": "python",
   "name": "python3"
  },
  "language_info": {
   "codemirror_mode": {
    "name": "ipython",
    "version": 3
   },
   "file_extension": ".py",
   "mimetype": "text/x-python",
   "name": "python",
   "nbconvert_exporter": "python",
   "pygments_lexer": "ipython3",
   "version": "3.7.3"
  }
 },
 "nbformat": 4,
 "nbformat_minor": 2
}
