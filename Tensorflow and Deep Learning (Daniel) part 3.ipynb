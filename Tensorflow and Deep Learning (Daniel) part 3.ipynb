{
 "cells": [
  {
   "cell_type": "markdown",
   "id": "collect-chemistry",
   "metadata": {},
   "source": [
    "### Preprocessing Data (Normalization and Standardization)"
   ]
  },
  {
   "cell_type": "code",
   "execution_count": 1,
   "id": "alpine-aurora",
   "metadata": {},
   "outputs": [],
   "source": [
    "import matplotlib.pyplot as plt\n",
    "import tensorflow as tf\n",
    "import pandas as pd\n",
    "insurance= pd.read_csv('https://raw.githubusercontent.com/stedy/Machine-Learning-with-R-datasets/master/insurance.csv')"
   ]
  },
  {
   "cell_type": "code",
   "execution_count": 2,
   "id": "nervous-transparency",
   "metadata": {},
   "outputs": [
    {
     "data": {
      "text/html": [
       "<div>\n",
       "<style scoped>\n",
       "    .dataframe tbody tr th:only-of-type {\n",
       "        vertical-align: middle;\n",
       "    }\n",
       "\n",
       "    .dataframe tbody tr th {\n",
       "        vertical-align: top;\n",
       "    }\n",
       "\n",
       "    .dataframe thead th {\n",
       "        text-align: right;\n",
       "    }\n",
       "</style>\n",
       "<table border=\"1\" class=\"dataframe\">\n",
       "  <thead>\n",
       "    <tr style=\"text-align: right;\">\n",
       "      <th></th>\n",
       "      <th>age</th>\n",
       "      <th>sex</th>\n",
       "      <th>bmi</th>\n",
       "      <th>children</th>\n",
       "      <th>smoker</th>\n",
       "      <th>region</th>\n",
       "      <th>charges</th>\n",
       "    </tr>\n",
       "  </thead>\n",
       "  <tbody>\n",
       "    <tr>\n",
       "      <th>0</th>\n",
       "      <td>19</td>\n",
       "      <td>female</td>\n",
       "      <td>27.900</td>\n",
       "      <td>0</td>\n",
       "      <td>yes</td>\n",
       "      <td>southwest</td>\n",
       "      <td>16884.92400</td>\n",
       "    </tr>\n",
       "    <tr>\n",
       "      <th>1</th>\n",
       "      <td>18</td>\n",
       "      <td>male</td>\n",
       "      <td>33.770</td>\n",
       "      <td>1</td>\n",
       "      <td>no</td>\n",
       "      <td>southeast</td>\n",
       "      <td>1725.55230</td>\n",
       "    </tr>\n",
       "    <tr>\n",
       "      <th>2</th>\n",
       "      <td>28</td>\n",
       "      <td>male</td>\n",
       "      <td>33.000</td>\n",
       "      <td>3</td>\n",
       "      <td>no</td>\n",
       "      <td>southeast</td>\n",
       "      <td>4449.46200</td>\n",
       "    </tr>\n",
       "    <tr>\n",
       "      <th>3</th>\n",
       "      <td>33</td>\n",
       "      <td>male</td>\n",
       "      <td>22.705</td>\n",
       "      <td>0</td>\n",
       "      <td>no</td>\n",
       "      <td>northwest</td>\n",
       "      <td>21984.47061</td>\n",
       "    </tr>\n",
       "    <tr>\n",
       "      <th>4</th>\n",
       "      <td>32</td>\n",
       "      <td>male</td>\n",
       "      <td>28.880</td>\n",
       "      <td>0</td>\n",
       "      <td>no</td>\n",
       "      <td>northwest</td>\n",
       "      <td>3866.85520</td>\n",
       "    </tr>\n",
       "  </tbody>\n",
       "</table>\n",
       "</div>"
      ],
      "text/plain": [
       "   age     sex     bmi  children smoker     region      charges\n",
       "0   19  female  27.900         0    yes  southwest  16884.92400\n",
       "1   18    male  33.770         1     no  southeast   1725.55230\n",
       "2   28    male  33.000         3     no  southeast   4449.46200\n",
       "3   33    male  22.705         0     no  northwest  21984.47061\n",
       "4   32    male  28.880         0     no  northwest   3866.85520"
      ]
     },
     "execution_count": 2,
     "metadata": {},
     "output_type": "execute_result"
    }
   ],
   "source": [
    "insurance.head()"
   ]
  },
  {
   "cell_type": "code",
   "execution_count": 3,
   "id": "unique-satisfaction",
   "metadata": {},
   "outputs": [
    {
     "data": {
      "text/html": [
       "<div>\n",
       "<style scoped>\n",
       "    .dataframe tbody tr th:only-of-type {\n",
       "        vertical-align: middle;\n",
       "    }\n",
       "\n",
       "    .dataframe tbody tr th {\n",
       "        vertical-align: top;\n",
       "    }\n",
       "\n",
       "    .dataframe thead th {\n",
       "        text-align: right;\n",
       "    }\n",
       "</style>\n",
       "<table border=\"1\" class=\"dataframe\">\n",
       "  <thead>\n",
       "    <tr style=\"text-align: right;\">\n",
       "      <th></th>\n",
       "      <th>age</th>\n",
       "      <th>sex</th>\n",
       "      <th>bmi</th>\n",
       "      <th>children</th>\n",
       "      <th>smoker</th>\n",
       "      <th>region</th>\n",
       "    </tr>\n",
       "  </thead>\n",
       "  <tbody>\n",
       "    <tr>\n",
       "      <th>0</th>\n",
       "      <td>19</td>\n",
       "      <td>female</td>\n",
       "      <td>27.900</td>\n",
       "      <td>0</td>\n",
       "      <td>yes</td>\n",
       "      <td>southwest</td>\n",
       "    </tr>\n",
       "    <tr>\n",
       "      <th>1</th>\n",
       "      <td>18</td>\n",
       "      <td>male</td>\n",
       "      <td>33.770</td>\n",
       "      <td>1</td>\n",
       "      <td>no</td>\n",
       "      <td>southeast</td>\n",
       "    </tr>\n",
       "    <tr>\n",
       "      <th>2</th>\n",
       "      <td>28</td>\n",
       "      <td>male</td>\n",
       "      <td>33.000</td>\n",
       "      <td>3</td>\n",
       "      <td>no</td>\n",
       "      <td>southeast</td>\n",
       "    </tr>\n",
       "    <tr>\n",
       "      <th>3</th>\n",
       "      <td>33</td>\n",
       "      <td>male</td>\n",
       "      <td>22.705</td>\n",
       "      <td>0</td>\n",
       "      <td>no</td>\n",
       "      <td>northwest</td>\n",
       "    </tr>\n",
       "    <tr>\n",
       "      <th>4</th>\n",
       "      <td>32</td>\n",
       "      <td>male</td>\n",
       "      <td>28.880</td>\n",
       "      <td>0</td>\n",
       "      <td>no</td>\n",
       "      <td>northwest</td>\n",
       "    </tr>\n",
       "  </tbody>\n",
       "</table>\n",
       "</div>"
      ],
      "text/plain": [
       "   age     sex     bmi  children smoker     region\n",
       "0   19  female  27.900         0    yes  southwest\n",
       "1   18    male  33.770         1     no  southeast\n",
       "2   28    male  33.000         3     no  southeast\n",
       "3   33    male  22.705         0     no  northwest\n",
       "4   32    male  28.880         0     no  northwest"
      ]
     },
     "execution_count": 3,
     "metadata": {},
     "output_type": "execute_result"
    }
   ],
   "source": [
    "#insurance_one_hot= pd.get_dummies(insurance)\n",
    "X= insurance.drop(['charges'], axis=1)\n",
    "y=insurance['charges']\n",
    "X.head()\n"
   ]
  },
  {
   "cell_type": "code",
   "execution_count": 4,
   "id": "noted-class",
   "metadata": {},
   "outputs": [
    {
     "data": {
      "text/plain": [
       "0    16884.92400\n",
       "1     1725.55230\n",
       "2     4449.46200\n",
       "3    21984.47061\n",
       "4     3866.85520\n",
       "Name: charges, dtype: float64"
      ]
     },
     "execution_count": 4,
     "metadata": {},
     "output_type": "execute_result"
    }
   ],
   "source": [
    "y.head()"
   ]
  },
  {
   "cell_type": "code",
   "execution_count": 5,
   "id": "understanding-compiler",
   "metadata": {},
   "outputs": [
    {
     "data": {
      "text/plain": [
       "<matplotlib.axes._subplots.AxesSubplot at 0x7f823c2f8280>"
      ]
     },
     "execution_count": 5,
     "metadata": {},
     "output_type": "execute_result"
    },
    {
     "data": {
      "image/png": "[encoded data removed]",
      "text/plain": [
       "<Figure size 432x288 with 1 Axes>"
      ]
     },
     "metadata": {
      "needs_background": "light"
     },
     "output_type": "display_data"
    }
   ],
   "source": [
    "X['age'].plot(kind='hist')"
   ]
  },
  {
   "cell_type": "code",
   "execution_count": 6,
   "id": "inner-watts",
   "metadata": {},
   "outputs": [
    {
     "data": {
      "text/plain": [
       "<matplotlib.axes._subplots.AxesSubplot at 0x7f81c3e8c8b0>"
      ]
     },
     "execution_count": 6,
     "metadata": {},
     "output_type": "execute_result"
    },
    {
     "data": {
      "image/png": "[encoded data removed]",
      "text/plain": [
       "<Figure size 432x288 with 1 Axes>"
      ]
     },
     "metadata": {
      "needs_background": "light"
     },
     "output_type": "display_data"
    }
   ],
   "source": [
    "X['bmi'].plot(kind='hist')"
   ]
  },
  {
   "cell_type": "code",
   "execution_count": 7,
   "id": "amateur-diesel",
   "metadata": {},
   "outputs": [],
   "source": [
    "from sklearn.compose import make_column_transformer\n",
    "from sklearn.preprocessing import MinMaxScaler, OneHotEncoder\n",
    "from sklearn.model_selection import train_test_split\n",
    "\n",
    "ct= make_column_transformer(\n",
    "(MinMaxScaler(), ['age', 'bmi', 'children']),\n",
    "(OneHotEncoder(handle_unknown=\"ignore\"), [\"sex\", \"smoker\", \"region\"]))\n",
    "\n",
    "X_train, X_test, y_train, y_test= train_test_split(X, y, test_size=0.2, random_state=42)\n",
    "\n",
    "# Fit the column transformer to our training data\n",
    "\n",
    "ct.fit(X_train)\n",
    "# Transform training and test data with normalization(MinMaxScaler)\n",
    "X_train_normal= ct.transform(X_train)\n",
    "X_test_normal= ct.transform(X_test)"
   ]
  },
  {
   "cell_type": "code",
   "execution_count": 8,
   "id": "minus-dealing",
   "metadata": {},
   "outputs": [
    {
     "data": {
      "text/plain": [
       "age                19\n",
       "sex            female\n",
       "bmi              27.9\n",
       "children            0\n",
       "smoker            yes\n",
       "region      southwest\n",
       "Name: 0, dtype: object"
      ]
     },
     "execution_count": 8,
     "metadata": {},
     "output_type": "execute_result"
    }
   ],
   "source": [
    "X_train.loc[0]"
   ]
  },
  {
   "cell_type": "code",
   "execution_count": 9,
   "id": "parallel-exclusion",
   "metadata": {},
   "outputs": [
    {
     "data": {
      "text/plain": [
       "array([0.73913043, 0.69518429, 0.4       , 0.        , 1.        ,\n",
       "       0.        , 1.        , 0.        , 0.        , 1.        ,\n",
       "       0.        ])"
      ]
     },
     "execution_count": 9,
     "metadata": {},
     "output_type": "execute_result"
    }
   ],
   "source": [
    "X_train_normal[19]"
   ]
  },
  {
   "cell_type": "code",
   "execution_count": 10,
   "id": "tutorial-progressive",
   "metadata": {},
   "outputs": [
    {
     "data": {
      "text/plain": [
       "((1070, 6), (1070, 11))"
      ]
     },
     "execution_count": 10,
     "metadata": {},
     "output_type": "execute_result"
    }
   ],
   "source": [
    "X_train.shape, X_train_normal.shape"
   ]
  },
  {
   "cell_type": "code",
   "execution_count": 11,
   "id": "cutting-saudi",
   "metadata": {},
   "outputs": [
    {
     "data": {
      "text/plain": [
       "<tensorflow.python.keras.callbacks.History at 0x7f81c01f4400>"
      ]
     },
     "execution_count": 11,
     "metadata": {},
     "output_type": "execute_result"
    }
   ],
   "source": [
    "# Build a neural network model to fit in our normalized data\n",
    "model= tf.keras.Sequential([\n",
    "    tf.keras.layers.Dense(100), \n",
    "    tf.keras.layers.Dense(100), \n",
    "    tf.keras.layers.Dense(1)\n",
    "])\n",
    "\n",
    "# Compile the model\n",
    "model.compile(loss='mae',\n",
    "             optimizer= tf.keras.optimizers.Adam(), \n",
    "             metrics=['mae'])\n",
    "\n",
    "# Fit the model\n",
    "model.fit(X_train_normal, y_train, epochs=100, verbose=0)"
   ]
  },
  {
   "cell_type": "code",
   "execution_count": 12,
   "id": "known-injection",
   "metadata": {},
   "outputs": [
    {
     "name": "stdout",
     "output_type": "stream",
     "text": [
      "9/9 [==============================] - 0s 2ms/step - loss: 3170.5767 - mae: 3170.5767\n"
     ]
    },
    {
     "data": {
      "text/plain": [
       "[3170.57666015625, 3170.57666015625]"
      ]
     },
     "execution_count": 12,
     "metadata": {},
     "output_type": "execute_result"
    }
   ],
   "source": [
    "model.evaluate(X_test_normal, y_test)"
   ]
  },
  {
   "cell_type": "markdown",
   "id": "official-giving",
   "metadata": {},
   "source": [
    "### Neural network Classification"
   ]
  },
  {
   "cell_type": "markdown",
   "id": "adjacent-institute",
   "metadata": {},
   "source": [
    "#### Creating data to view and fit"
   ]
  },
  {
   "cell_type": "code",
   "execution_count": 13,
   "id": "offensive-defense",
   "metadata": {},
   "outputs": [],
   "source": [
    "from sklearn.datasets import make_circles\n",
    "# make 1000 examples\n",
    "n_samples= 1000\n",
    "# Create circles\n",
    "X, y= make_circles(n_samples, \n",
    "                  noise= 0.03,\n",
    "                  random_state=42)"
   ]
  },
  {
   "cell_type": "code",
   "execution_count": 14,
   "id": "deadly-quick",
   "metadata": {},
   "outputs": [
    {
     "data": {
      "text/plain": [
       "array([[ 0.75424625,  0.23148074],\n",
       "       [-0.75615888,  0.15325888],\n",
       "       [-0.81539193,  0.17328203],\n",
       "       ...,\n",
       "       [-0.13690036, -0.81001183],\n",
       "       [ 0.67036156, -0.76750154],\n",
       "       [ 0.28105665,  0.96382443]])"
      ]
     },
     "execution_count": 14,
     "metadata": {},
     "output_type": "execute_result"
    }
   ],
   "source": [
    "# Features\n",
    "X"
   ]
  },
  {
   "cell_type": "code",
   "execution_count": 15,
   "id": "moral-dodge",
   "metadata": {},
   "outputs": [
    {
     "data": {
      "text/plain": [
       "array([1, 1, 1, 1, 0, 1, 1, 1, 1, 0, 1, 0, 1, 1, 1, 1, 0, 1, 1, 0, 1, 0,\n",
       "       0, 1, 0, 0, 0, 1, 1, 1, 0, 0, 1, 0, 0, 0, 1, 1, 1, 0, 0, 0, 0, 1,\n",
       "       0, 0, 1, 1, 0, 1, 1, 1, 0, 1, 0, 0, 1, 0, 0, 1, 0, 0, 1, 0, 1, 1,\n",
       "       1, 1, 0, 1, 0, 0, 1, 1, 0, 0, 1, 0, 1, 0, 1, 0, 0, 0, 0, 1, 1, 1,\n",
       "       1, 0, 0, 0, 1, 0, 1, 0, 1, 0, 0, 1, 1, 0, 1, 0, 1, 1, 1, 1, 0, 1,\n",
       "       1, 1, 1, 1, 0, 0, 0, 1, 1, 0, 1, 0, 1, 0, 0, 1, 1, 0, 1, 1, 1, 1,\n",
       "       0, 1, 1, 0, 0, 0, 0, 0, 0, 0, 1, 0, 1, 1, 1, 0, 1, 0, 1, 0, 1, 0,\n",
       "       1, 0, 0, 1, 0, 1, 1, 1, 1, 1, 1, 1, 0, 1, 0, 0, 0, 0, 0, 1, 0, 0,\n",
       "       0, 0, 1, 1, 0, 1, 0, 1, 1, 0, 0, 0, 1, 1, 1, 1, 1, 0, 0, 0, 0, 0,\n",
       "       1, 0, 0, 1, 1, 1, 1, 1, 0, 1, 0, 1, 0, 0, 1, 1, 1, 0, 1, 0, 1, 1,\n",
       "       0, 1, 1, 0, 1, 0, 1, 0, 1, 1, 0, 1, 0, 1, 0, 0, 0, 1, 0, 0, 0, 0,\n",
       "       1, 1, 0, 0, 0, 0, 0, 0, 0, 1, 1, 1, 0, 0, 1, 1, 1, 0, 1, 0, 0, 0,\n",
       "       0, 1, 1, 0, 1, 0, 0, 0, 1, 0, 1, 0, 0, 1, 0, 1, 1, 1, 0, 0, 0, 1,\n",
       "       0, 0, 0, 1, 1, 1, 1, 0, 0, 0, 1, 0, 0, 0, 1, 0, 0, 0, 1, 1, 0, 1,\n",
       "       1, 1, 1, 1, 1, 1, 0, 0, 0, 0, 1, 0, 0, 0, 0, 1, 1, 1, 0, 0, 1, 0,\n",
       "       1, 0, 1, 1, 0, 0, 1, 1, 1, 1, 0, 0, 0, 0, 0, 0, 1, 1, 0, 1, 0, 0,\n",
       "       1, 0, 0, 0, 0, 0, 0, 0, 0, 1, 0, 0, 0, 0, 1, 0, 0, 1, 0, 1, 0, 0,\n",
       "       0, 1, 0, 0, 1, 1, 0, 0, 1, 0, 0, 1, 1, 0, 1, 1, 0, 0, 1, 0, 1, 0,\n",
       "       0, 0, 1, 1, 0, 0, 1, 1, 1, 1, 1, 0, 0, 1, 1, 1, 1, 0, 1, 1, 1, 1,\n",
       "       1, 0, 0, 1, 0, 1, 0, 0, 0, 0, 1, 0, 0, 0, 0, 0, 0, 0, 0, 0, 1, 1,\n",
       "       0, 1, 1, 1, 1, 1, 1, 0, 1, 1, 1, 1, 0, 0, 0, 1, 1, 1, 0, 0, 0, 0,\n",
       "       1, 1, 0, 0, 0, 0, 1, 0, 0, 0, 1, 0, 0, 1, 1, 1, 1, 1, 1, 0, 0, 0,\n",
       "       1, 0, 0, 0, 0, 0, 1, 1, 1, 0, 0, 0, 0, 0, 1, 1, 1, 0, 0, 1, 1, 1,\n",
       "       1, 0, 1, 1, 0, 1, 0, 0, 0, 1, 0, 0, 1, 0, 0, 1, 1, 0, 0, 1, 1, 0,\n",
       "       1, 0, 1, 0, 1, 0, 1, 0, 0, 0, 1, 0, 0, 0, 0, 0, 0, 1, 1, 1, 1, 0,\n",
       "       0, 0, 1, 0, 1, 1, 0, 0, 0, 0, 0, 1, 1, 1, 0, 0, 1, 0, 0, 1, 0, 0,\n",
       "       1, 0, 0, 1, 0, 0, 0, 1, 0, 0, 1, 1, 1, 0, 1, 1, 0, 0, 0, 1, 1, 1,\n",
       "       1, 0, 0, 1, 1, 1, 0, 0, 0, 0, 1, 1, 0, 0, 1, 1, 0, 0, 1, 1, 1, 1,\n",
       "       1, 1, 1, 0, 1, 0, 1, 0, 0, 1, 0, 1, 1, 1, 1, 0, 0, 1, 1, 0, 0, 1,\n",
       "       0, 1, 0, 0, 0, 1, 0, 0, 1, 1, 1, 1, 0, 1, 1, 1, 1, 1, 1, 1, 0, 1,\n",
       "       0, 1, 1, 1, 0, 0, 1, 0, 0, 0, 1, 1, 1, 1, 0, 0, 0, 0, 1, 0, 1, 1,\n",
       "       1, 0, 1, 0, 0, 1, 0, 0, 1, 1, 1, 1, 1, 0, 1, 0, 0, 0, 1, 1, 1, 1,\n",
       "       1, 0, 0, 0, 1, 1, 1, 1, 0, 0, 0, 0, 0, 1, 1, 0, 1, 0, 1, 0, 0, 0,\n",
       "       0, 0, 0, 0, 0, 0, 1, 1, 1, 1, 1, 0, 1, 0, 1, 1, 1, 1, 0, 1, 1, 1,\n",
       "       1, 1, 1, 1, 1, 0, 1, 1, 0, 1, 0, 0, 0, 1, 0, 1, 1, 1, 0, 1, 1, 0,\n",
       "       1, 1, 0, 1, 0, 1, 1, 0, 0, 1, 1, 1, 0, 0, 0, 0, 1, 1, 0, 0, 1, 1,\n",
       "       1, 1, 1, 1, 1, 1, 1, 1, 1, 1, 1, 1, 0, 0, 1, 0, 1, 0, 1, 0, 1, 1,\n",
       "       1, 1, 1, 1, 0, 1, 0, 1, 1, 1, 0, 1, 1, 0, 0, 1, 0, 1, 1, 0, 0, 1,\n",
       "       1, 1, 1, 1, 1, 1, 1, 0, 1, 1, 1, 0, 1, 0, 0, 1, 1, 0, 0, 0, 1, 0,\n",
       "       0, 1, 0, 0, 0, 1, 0, 1, 0, 0, 0, 0, 1, 0, 1, 1, 1, 1, 0, 1, 0, 0,\n",
       "       0, 0, 0, 0, 1, 0, 1, 0, 1, 0, 1, 1, 1, 0, 1, 0, 1, 0, 0, 1, 1, 1,\n",
       "       0, 0, 0, 1, 1, 0, 1, 0, 1, 1, 0, 1, 0, 0, 1, 1, 1, 0, 0, 0, 1, 1,\n",
       "       0, 0, 0, 0, 0, 1, 1, 0, 1, 0, 0, 0, 1, 0, 0, 0, 1, 1, 1, 1, 0, 1,\n",
       "       1, 1, 0, 1, 1, 1, 1, 0, 1, 1, 0, 1, 1, 0, 0, 1, 1, 1, 0, 0, 0, 0,\n",
       "       0, 0, 1, 0, 0, 1, 0, 0, 0, 1, 0, 1, 0, 1, 1, 0, 0, 0, 0, 0, 0, 0,\n",
       "       0, 1, 0, 1, 0, 0, 0, 1, 0, 0])"
      ]
     },
     "execution_count": 15,
     "metadata": {},
     "output_type": "execute_result"
    }
   ],
   "source": [
    "# Labels\n",
    "y"
   ]
  },
  {
   "cell_type": "code",
   "execution_count": 16,
   "id": "adjusted-research",
   "metadata": {},
   "outputs": [
    {
     "data": {
      "text/html": [
       "<div>\n",
       "<style scoped>\n",
       "    .dataframe tbody tr th:only-of-type {\n",
       "        vertical-align: middle;\n",
       "    }\n",
       "\n",
       "    .dataframe tbody tr th {\n",
       "        vertical-align: top;\n",
       "    }\n",
       "\n",
       "    .dataframe thead th {\n",
       "        text-align: right;\n",
       "    }\n",
       "</style>\n",
       "<table border=\"1\" class=\"dataframe\">\n",
       "  <thead>\n",
       "    <tr style=\"text-align: right;\">\n",
       "      <th></th>\n",
       "      <th>X0</th>\n",
       "      <th>X1</th>\n",
       "      <th>label</th>\n",
       "    </tr>\n",
       "  </thead>\n",
       "  <tbody>\n",
       "    <tr>\n",
       "      <th>0</th>\n",
       "      <td>0.754246</td>\n",
       "      <td>0.231481</td>\n",
       "      <td>1</td>\n",
       "    </tr>\n",
       "    <tr>\n",
       "      <th>1</th>\n",
       "      <td>-0.756159</td>\n",
       "      <td>0.153259</td>\n",
       "      <td>1</td>\n",
       "    </tr>\n",
       "    <tr>\n",
       "      <th>2</th>\n",
       "      <td>-0.815392</td>\n",
       "      <td>0.173282</td>\n",
       "      <td>1</td>\n",
       "    </tr>\n",
       "    <tr>\n",
       "      <th>3</th>\n",
       "      <td>-0.393731</td>\n",
       "      <td>0.692883</td>\n",
       "      <td>1</td>\n",
       "    </tr>\n",
       "    <tr>\n",
       "      <th>4</th>\n",
       "      <td>0.442208</td>\n",
       "      <td>-0.896723</td>\n",
       "      <td>0</td>\n",
       "    </tr>\n",
       "  </tbody>\n",
       "</table>\n",
       "</div>"
      ],
      "text/plain": [
       "         X0        X1  label\n",
       "0  0.754246  0.231481      1\n",
       "1 -0.756159  0.153259      1\n",
       "2 -0.815392  0.173282      1\n",
       "3 -0.393731  0.692883      1\n",
       "4  0.442208 -0.896723      0"
      ]
     },
     "execution_count": 16,
     "metadata": {},
     "output_type": "execute_result"
    }
   ],
   "source": [
    "# Visualize our data\n",
    "import pandas as pd\n",
    "circles= pd. DataFrame({'X0':X[:, 0], \"X1\": X[:, 1], 'label':y})\n",
    "circles.head()"
   ]
  },
  {
   "cell_type": "code",
   "execution_count": 17,
   "id": "phantom-february",
   "metadata": {},
   "outputs": [
    {
     "data": {
      "image/png": "[encoded data removed]",
      "text/plain": [
       "<Figure size 432x288 with 1 Axes>"
      ]
     },
     "metadata": {
      "needs_background": "light"
     },
     "output_type": "display_data"
    }
   ],
   "source": [
    "# Visualize with a plot\n",
    "import matplotlib.pyplot as plt\n",
    "plt.scatter(X[:, 0], X[:, 1], c=y, cmap= plt.cm.RdYlBu);\n"
   ]
  },
  {
   "cell_type": "code",
   "execution_count": 18,
   "id": "turned-failure",
   "metadata": {},
   "outputs": [
    {
     "data": {
      "text/plain": [
       "((1000, 2), (1000,))"
      ]
     },
     "execution_count": 18,
     "metadata": {},
     "output_type": "execute_result"
    }
   ],
   "source": [
    "# Check the shape of our features and labels\n",
    "X.shape, y.shape"
   ]
  },
  {
   "cell_type": "code",
   "execution_count": 19,
   "id": "agricultural-member",
   "metadata": {},
   "outputs": [
    {
     "data": {
      "text/plain": [
       "(1000, 1000)"
      ]
     },
     "execution_count": 19,
     "metadata": {},
     "output_type": "execute_result"
    }
   ],
   "source": [
    "len(X), len(y)"
   ]
  },
  {
   "cell_type": "code",
   "execution_count": 20,
   "id": "comparable-nitrogen",
   "metadata": {},
   "outputs": [
    {
     "data": {
      "text/plain": [
       "(array([0.75424625, 0.23148074]), 1)"
      ]
     },
     "execution_count": 20,
     "metadata": {},
     "output_type": "execute_result"
    }
   ],
   "source": [
    "X[0], y[0]"
   ]
  },
  {
   "cell_type": "code",
   "execution_count": 21,
   "id": "fleet-fisher",
   "metadata": {},
   "outputs": [
    {
     "data": {
      "text/plain": [
       "<tensorflow.python.keras.callbacks.History at 0x7f8199503760>"
      ]
     },
     "execution_count": 21,
     "metadata": {},
     "output_type": "execute_result"
    }
   ],
   "source": [
    "# Building the model\n",
    "tf.random.set_seed(42)\n",
    "\n",
    "model_1= tf.keras.Sequential([\n",
    "    tf.keras.layers.Dense(1)\n",
    "])\n",
    "\n",
    "model_1.compile(loss='BinaryCrossentropy',\n",
    "               optimizer= tf.keras.optimizers.Adam(),\n",
    "               metrics=['accuracy'])\n",
    "\n",
    "model_1.fit(X, y, epochs=200, verbose=0)"
   ]
  },
  {
   "cell_type": "code",
   "execution_count": 22,
   "id": "brilliant-software",
   "metadata": {},
   "outputs": [
    {
     "name": "stdout",
     "output_type": "stream",
     "text": [
      "32/32 [==============================] - 0s 854us/step - loss: 0.6932 - accuracy: 0.4820\n"
     ]
    },
    {
     "data": {
      "text/plain": [
       "[0.6931509375572205, 0.4819999933242798]"
      ]
     },
     "execution_count": 22,
     "metadata": {},
     "output_type": "execute_result"
    }
   ],
   "source": [
    "model_1.evaluate(X, y)"
   ]
  },
  {
   "cell_type": "code",
   "execution_count": 23,
   "id": "cheap-stack",
   "metadata": {},
   "outputs": [
    {
     "data": {
      "text/plain": [
       "<tensorflow.python.keras.callbacks.History at 0x7f81c3e527f0>"
      ]
     },
     "execution_count": 23,
     "metadata": {},
     "output_type": "execute_result"
    }
   ],
   "source": [
    "# Building another model( with two layers this time)\n",
    "tf.random.set_seed(42)\n",
    "\n",
    "model_2= tf.keras.Sequential([\n",
    "    tf.keras.layers.Dense(100),\n",
    "    tf.keras.layers.Dense(100),\n",
    "    tf.keras.layers.Dense(1)\n",
    "])\n",
    "\n",
    "model_2.compile(loss='BinaryCrossentropy',\n",
    "               optimizer= tf.keras.optimizers.Adam(),\n",
    "               metrics=['accuracy'])\n",
    "\n",
    "model_2.fit(X, y, epochs=100, verbose=0)"
   ]
  },
  {
   "cell_type": "code",
   "execution_count": 24,
   "id": "unknown-defendant",
   "metadata": {},
   "outputs": [
    {
     "name": "stdout",
     "output_type": "stream",
     "text": [
      "32/32 [==============================] - 0s 2ms/step - loss: 0.7041 - accuracy: 0.5070\n"
     ]
    },
    {
     "data": {
      "text/plain": [
       "[0.7041219472885132, 0.5070000290870667]"
      ]
     },
     "execution_count": 24,
     "metadata": {},
     "output_type": "execute_result"
    }
   ],
   "source": [
    "model_2.evaluate(X, y)"
   ]
  },
  {
   "cell_type": "code",
   "execution_count": 25,
   "id": "persistent-universe",
   "metadata": {},
   "outputs": [
    {
     "data": {
      "text/plain": [
       "<tensorflow.python.keras.callbacks.History at 0x7f819ae231c0>"
      ]
     },
     "execution_count": 25,
     "metadata": {},
     "output_type": "execute_result"
    }
   ],
   "source": [
    "# Building third model\n",
    "tf.random.set_seed(42)\n",
    "\n",
    "model_3= tf.keras.Sequential([\n",
    "    tf.keras.layers.Dense(100),\n",
    "    tf.keras.layers.Dense(10),\n",
    "    tf.keras.layers.Dense(1)\n",
    "])\n",
    "\n",
    "\n",
    "model_3.compile(loss='BinaryCrossentropy',\n",
    "               optimizer= tf.keras.optimizers.Adam(),\n",
    "               metrics=['accuracy'])\n",
    "\n",
    "model_3.fit(X, y, epochs=100, verbose=0)\n"
   ]
  },
  {
   "cell_type": "code",
   "execution_count": 26,
   "id": "verbal-scoop",
   "metadata": {},
   "outputs": [
    {
     "name": "stdout",
     "output_type": "stream",
     "text": [
      "32/32 [==============================] - 0s 2ms/step - loss: 0.6980 - accuracy: 0.5080\n"
     ]
    },
    {
     "data": {
      "text/plain": [
       "[0.6980252861976624, 0.5080000162124634]"
      ]
     },
     "execution_count": 26,
     "metadata": {},
     "output_type": "execute_result"
    }
   ],
   "source": [
    "model_3.evaluate(X, y)"
   ]
  },
  {
   "cell_type": "code",
   "execution_count": 27,
   "id": "sitting-citizenship",
   "metadata": {},
   "outputs": [],
   "source": [
    "import numpy as np\n",
    "def plot_decision_boundary(model, X, y):\n",
    "    x_min, x_max= X[:,0].min()-0.1, X[:, 1].max()+0.1\n",
    "    y_min, y_max= X[:, 1].min()-0.1, X[:, 1].max()+0.1\n",
    "    xx, yy= np.meshgrid(np.linspace(x_min, x_max, 100), \n",
    "                       np.linspace(y_min, y_max, 100))\n",
    "    \n",
    "    x_in= np.c_[xx.ravel(), yy.ravel()]\n",
    "    \n",
    "    y_pred= model.predict(x_in)\n",
    "    \n",
    "    # Check for multi-class\n",
    "    if len(y_pred[0])>1:\n",
    "        y_pred= np.argmax(y_pred, axis=1).reshape(xx.shape)\n",
    "    else: \n",
    "        print('Doing binary classification')\n",
    "        y_pred= np.round(y_pred).reshape(xx.shape)\n",
    "        \n",
    "    #plot the decision boundary\n",
    "    plt.contourf(xx, yy, y_pred, cmap= plt.cm.RdYlBu, alpha=0.7)\n",
    "    plt.scatter(X[:, 0], X[:, 1], c=y, s=40, cmap= plt.cm.RdYlBu)\n",
    "    plt.xlim(xx.min(), xx.max())\n",
    "    plt.ylim(yy.min(), yy.max())"
   ]
  },
  {
   "cell_type": "code",
   "execution_count": 28,
   "id": "herbal-virtue",
   "metadata": {},
   "outputs": [
    {
     "name": "stdout",
     "output_type": "stream",
     "text": [
      "Doing binary classification\n"
     ]
    },
    {
     "data": {
      "image/png": "[encoded data removed]",
      "text/plain": [
       "<Figure size 432x288 with 1 Axes>"
      ]
     },
     "metadata": {
      "needs_background": "light"
     },
     "output_type": "display_data"
    }
   ],
   "source": [
    "plot_decision_boundary(model=model_3,X=X, y=y)"
   ]
  },
  {
   "cell_type": "code",
   "execution_count": 29,
   "id": "medium-customer",
   "metadata": {},
   "outputs": [],
   "source": [
    "# Let's see if our model can be used for regression problem\n",
    "tf.random.set_seed(42)\n",
    "\n",
    "# Create some regression data\n",
    "X_regression= tf.range(0, 1000, 5)\n",
    "y_regression= tf.range(100, 1100, 5)\n",
    "X_reg_train= X_regression[:150]\n",
    "X_reg_test= X_regression[150: ]\n",
    "y_reg_train= y_regression[:150]\n",
    "y_reg_test= y_regression[150:]"
   ]
  },
  {
   "cell_type": "code",
   "execution_count": 30,
   "id": "becoming-guatemala",
   "metadata": {},
   "outputs": [],
   "source": [
    "tf.random.set_seed(42)\n",
    "\n",
    "model_4= tf.keras.Sequential([\n",
    "    tf.keras.layers.Dense(100),\n",
    "    tf.keras.layers.Dense(10),\n",
    "    tf.keras.layers.Dense(1)\n",
    "])\n",
    "\n",
    "model_4.compile(loss='mae',\n",
    "               optimizer= tf.keras.optimizers.Adam(),\n",
    "               metrics=['mae'])"
   ]
  },
  {
   "cell_type": "code",
   "execution_count": 31,
   "id": "assigned-moses",
   "metadata": {},
   "outputs": [
    {
     "data": {
      "text/plain": [
       "<tensorflow.python.keras.callbacks.History at 0x7f819ac4abe0>"
      ]
     },
     "execution_count": 31,
     "metadata": {},
     "output_type": "execute_result"
    }
   ],
   "source": [
    "model_4.fit(X_reg_train, y_reg_train, epochs=100, verbose=0)"
   ]
  },
  {
   "cell_type": "code",
   "execution_count": 32,
   "id": "pacific-friendly",
   "metadata": {},
   "outputs": [
    {
     "data": {
      "image/png": "[encoded data removed]",
      "text/plain": [
       "<Figure size 720x504 with 1 Axes>"
      ]
     },
     "metadata": {
      "needs_background": "light"
     },
     "output_type": "display_data"
    }
   ],
   "source": [
    "y_reg_pred= model_4.predict(X_reg_test)\n",
    "\n",
    "plt.figure(figsize=(10, 7))\n",
    "plt.scatter(X_reg_train, y_reg_train, c='b', label='Training data')\n",
    "plt.scatter(X_reg_test, y_reg_test, c='g', label='Testing data')\n",
    "plt.scatter(X_reg_test, y_reg_pred, c='r', label=\"Predictions\")\n",
    "plt.legend();\n"
   ]
  },
  {
   "cell_type": "markdown",
   "id": "civilian-vegetation",
   "metadata": {},
   "source": [
    "### The missing piece: Non-linearity"
   ]
  },
  {
   "cell_type": "code",
   "execution_count": 33,
   "id": "confidential-mention",
   "metadata": {},
   "outputs": [],
   "source": [
    "# set the random seed\n",
    "tf.random.set_seed(42)\n",
    "\n",
    "#1. Create the model\n",
    "model_4= tf.keras.Sequential([\n",
    "    tf.keras.layers.Dense(1, activation= 'linear')\n",
    "])\n",
    "\n",
    "#2. Compile the model\n",
    "model_4.compile(loss= tf.keras.losses.binary_crossentropy,\n",
    "               optimizer= 'Adam', \n",
    "               metrics=['accuracy'])\n",
    "\n",
    "#3. Fit the model\n",
    "history= model_4.fit(X, y, epochs=100, verbose=0)\n"
   ]
  },
  {
   "cell_type": "code",
   "execution_count": 34,
   "id": "front-being",
   "metadata": {},
   "outputs": [
    {
     "data": {
      "image/png": "[encoded data removed]",
      "text/plain": [
       "<Figure size 432x288 with 1 Axes>"
      ]
     },
     "metadata": {
      "needs_background": "light"
     },
     "output_type": "display_data"
    }
   ],
   "source": [
    "# Check out our data\n",
    "plt.scatter(X[:, 0], X[:, 1], c=y, cmap=plt.cm.RdYlBu);\n"
   ]
  },
  {
   "cell_type": "code",
   "execution_count": 35,
   "id": "martial-andrews",
   "metadata": {},
   "outputs": [
    {
     "name": "stdout",
     "output_type": "stream",
     "text": [
      "Doing binary classification\n"
     ]
    },
    {
     "data": {
      "image/png": "[encoded data removed]",
      "text/plain": [
       "<Figure size 432x288 with 1 Axes>"
      ]
     },
     "metadata": {
      "needs_background": "light"
     },
     "output_type": "display_data"
    }
   ],
   "source": [
    "# Check the decision boundary for our latest model\n",
    "plot_decision_boundary(model=model_4, X=X, y=y)"
   ]
  },
  {
   "cell_type": "code",
   "execution_count": 36,
   "id": "hindu-methodology",
   "metadata": {},
   "outputs": [
    {
     "name": "stdout",
     "output_type": "stream",
     "text": [
      "Epoch 1/100\n",
      "32/32 [==============================] - 0s 1ms/step - loss: 4.6225 - accuracy: 0.2406\n",
      "Epoch 2/100\n",
      "32/32 [==============================] - 0s 2ms/step - loss: 4.3079 - accuracy: 0.2387\n",
      "Epoch 3/100\n",
      "32/32 [==============================] - 0s 1ms/step - loss: 4.5266 - accuracy: 0.2273\n",
      "Epoch 4/100\n",
      "32/32 [==============================] - 0s 1ms/step - loss: 4.0583 - accuracy: 0.2300\n",
      "Epoch 5/100\n",
      "32/32 [==============================] - 0s 1ms/step - loss: 4.2318 - accuracy: 0.2168\n",
      "Epoch 6/100\n",
      "32/32 [==============================] - 0s 1ms/step - loss: 3.7731 - accuracy: 0.2326\n",
      "Epoch 7/100\n",
      "32/32 [==============================] - 0s 1ms/step - loss: 3.9250 - accuracy: 0.2119\n",
      "Epoch 8/100\n",
      "32/32 [==============================] - 0s 1ms/step - loss: 3.6242 - accuracy: 0.2278\n",
      "Epoch 9/100\n",
      "32/32 [==============================] - 0s 1ms/step - loss: 3.8760 - accuracy: 0.2058\n",
      "Epoch 10/100\n",
      "32/32 [==============================] - 0s 1ms/step - loss: 3.5485 - accuracy: 0.2390\n",
      "Epoch 11/100\n",
      "32/32 [==============================] - 0s 1ms/step - loss: 3.4338 - accuracy: 0.2151\n",
      "Epoch 12/100\n",
      "32/32 [==============================] - 0s 1ms/step - loss: 3.4128 - accuracy: 0.2117\n",
      "Epoch 13/100\n",
      "32/32 [==============================] - 0s 2ms/step - loss: 3.1922 - accuracy: 0.2204\n",
      "Epoch 14/100\n",
      "32/32 [==============================] - 0s 2ms/step - loss: 3.3721 - accuracy: 0.1968\n",
      "Epoch 15/100\n",
      "32/32 [==============================] - 0s 2ms/step - loss: 3.1795 - accuracy: 0.1990\n",
      "Epoch 16/100\n",
      "32/32 [==============================] - 0s 2ms/step - loss: 3.3716 - accuracy: 0.1801\n",
      "Epoch 17/100\n",
      "32/32 [==============================] - 0s 1ms/step - loss: 3.1860 - accuracy: 0.1908\n",
      "Epoch 18/100\n",
      "32/32 [==============================] - 0s 1ms/step - loss: 3.0358 - accuracy: 0.1629\n",
      "Epoch 19/100\n",
      "32/32 [==============================] - 0s 1ms/step - loss: 2.7941 - accuracy: 0.1594\n",
      "Epoch 20/100\n",
      "32/32 [==============================] - 0s 1ms/step - loss: 2.2395 - accuracy: 0.1416\n",
      "Epoch 21/100\n",
      "32/32 [==============================] - 0s 1ms/step - loss: 1.7785 - accuracy: 0.1111\n",
      "Epoch 22/100\n",
      "32/32 [==============================] - 0s 1ms/step - loss: 1.1640 - accuracy: 0.0966\n",
      "Epoch 23/100\n",
      "32/32 [==============================] - 0s 1ms/step - loss: 0.9496 - accuracy: 0.0785\n",
      "Epoch 24/100\n",
      "32/32 [==============================] - 0s 1ms/step - loss: 0.9747 - accuracy: 0.0582\n",
      "Epoch 25/100\n",
      "32/32 [==============================] - 0s 1ms/step - loss: 0.9257 - accuracy: 0.0244\n",
      "Epoch 26/100\n",
      "32/32 [==============================] - 0s 1ms/step - loss: 0.9163 - accuracy: 0.0188\n",
      "Epoch 27/100\n",
      "32/32 [==============================] - 0s 1ms/step - loss: 0.9078 - accuracy: 0.0062\n",
      "Epoch 28/100\n",
      "32/32 [==============================] - 0s 1ms/step - loss: 0.9196 - accuracy: 0.0000e+00\n",
      "Epoch 29/100\n",
      "32/32 [==============================] - 0s 1ms/step - loss: 0.8750 - accuracy: 0.0000e+00\n",
      "Epoch 30/100\n",
      "32/32 [==============================] - 0s 2ms/step - loss: 0.8568 - accuracy: 0.0000e+00\n",
      "Epoch 31/100\n",
      "32/32 [==============================] - 0s 1ms/step - loss: 0.8907 - accuracy: 0.0000e+00\n",
      "Epoch 32/100\n",
      "32/32 [==============================] - 0s 1ms/step - loss: 0.8439 - accuracy: 0.0000e+00\n",
      "Epoch 33/100\n",
      "32/32 [==============================] - 0s 1ms/step - loss: 0.8751 - accuracy: 0.0000e+00\n",
      "Epoch 34/100\n",
      "32/32 [==============================] - 0s 1ms/step - loss: 0.8625 - accuracy: 0.0000e+00\n",
      "Epoch 35/100\n",
      "32/32 [==============================] - 0s 1ms/step - loss: 0.8577 - accuracy: 0.0000e+00\n",
      "Epoch 36/100\n",
      "32/32 [==============================] - 0s 1ms/step - loss: 0.8304 - accuracy: 0.0000e+00\n",
      "Epoch 37/100\n",
      "32/32 [==============================] - 0s 2ms/step - loss: 0.8242 - accuracy: 0.0000e+00\n",
      "Epoch 38/100\n",
      "32/32 [==============================] - 0s 1ms/step - loss: 0.8219 - accuracy: 0.0000e+00\n",
      "Epoch 39/100\n",
      "32/32 [==============================] - 0s 1ms/step - loss: 0.8291 - accuracy: 0.0000e+00\n",
      "Epoch 40/100\n",
      "32/32 [==============================] - 0s 1ms/step - loss: 0.8192 - accuracy: 0.0000e+00\n",
      "Epoch 41/100\n",
      "32/32 [==============================] - 0s 1ms/step - loss: 0.8531 - accuracy: 0.0000e+00\n",
      "Epoch 42/100\n",
      "32/32 [==============================] - 0s 2ms/step - loss: 0.8241 - accuracy: 0.0000e+00\n",
      "Epoch 43/100\n",
      "32/32 [==============================] - 0s 1ms/step - loss: 0.7896 - accuracy: 0.0000e+00\n",
      "Epoch 44/100\n",
      "32/32 [==============================] - 0s 1ms/step - loss: 0.7718 - accuracy: 0.0000e+00\n",
      "Epoch 45/100\n",
      "32/32 [==============================] - 0s 1ms/step - loss: 0.7936 - accuracy: 0.0000e+00\n",
      "Epoch 46/100\n",
      "32/32 [==============================] - 0s 1ms/step - loss: 0.7825 - accuracy: 0.0000e+00\n",
      "Epoch 47/100\n",
      "32/32 [==============================] - 0s 1ms/step - loss: 0.8131 - accuracy: 0.0000e+00\n",
      "Epoch 48/100\n",
      "32/32 [==============================] - 0s 2ms/step - loss: 0.7833 - accuracy: 0.0000e+00\n",
      "Epoch 49/100\n",
      "32/32 [==============================] - 0s 1ms/step - loss: 0.7886 - accuracy: 0.0000e+00\n",
      "Epoch 50/100\n",
      "32/32 [==============================] - 0s 1ms/step - loss: 0.7949 - accuracy: 0.0000e+00\n",
      "Epoch 51/100\n",
      "32/32 [==============================] - 0s 2ms/step - loss: 0.7678 - accuracy: 0.0000e+00\n",
      "Epoch 52/100\n",
      "32/32 [==============================] - 0s 1ms/step - loss: 0.7814 - accuracy: 0.0000e+00\n",
      "Epoch 53/100\n",
      "32/32 [==============================] - 0s 2ms/step - loss: 0.7615 - accuracy: 0.0000e+00\n",
      "Epoch 54/100\n",
      "32/32 [==============================] - 0s 1ms/step - loss: 0.7632 - accuracy: 0.0000e+00\n",
      "Epoch 55/100\n",
      "32/32 [==============================] - 0s 1ms/step - loss: 0.7694 - accuracy: 0.0000e+00\n",
      "Epoch 56/100\n",
      "32/32 [==============================] - 0s 1ms/step - loss: 0.7684 - accuracy: 0.0000e+00\n",
      "Epoch 57/100\n",
      "32/32 [==============================] - 0s 1ms/step - loss: 0.7470 - accuracy: 0.0000e+00\n",
      "Epoch 58/100\n",
      "32/32 [==============================] - 0s 1ms/step - loss: 0.7680 - accuracy: 0.0000e+00\n",
      "Epoch 59/100\n",
      "32/32 [==============================] - 0s 1ms/step - loss: 0.7880 - accuracy: 0.0000e+00\n",
      "Epoch 60/100\n",
      "32/32 [==============================] - 0s 1ms/step - loss: 0.7646 - accuracy: 0.0000e+00\n",
      "Epoch 61/100\n",
      "32/32 [==============================] - 0s 1ms/step - loss: 0.7594 - accuracy: 0.0000e+00\n",
      "Epoch 62/100\n",
      "32/32 [==============================] - 0s 1ms/step - loss: 0.7626 - accuracy: 0.0000e+00\n",
      "Epoch 63/100\n",
      "32/32 [==============================] - 0s 1ms/step - loss: 0.7569 - accuracy: 0.0000e+00\n",
      "Epoch 64/100\n",
      "32/32 [==============================] - 0s 1ms/step - loss: 0.7427 - accuracy: 0.0000e+00\n",
      "Epoch 65/100\n",
      "32/32 [==============================] - 0s 1ms/step - loss: 0.7463 - accuracy: 0.0000e+00\n",
      "Epoch 66/100\n",
      "32/32 [==============================] - 0s 1ms/step - loss: 0.7601 - accuracy: 0.0000e+00\n",
      "Epoch 67/100\n",
      "32/32 [==============================] - 0s 1ms/step - loss: 0.7468 - accuracy: 0.0000e+00\n",
      "Epoch 68/100\n",
      "32/32 [==============================] - 0s 1ms/step - loss: 0.7486 - accuracy: 0.0000e+00\n",
      "Epoch 69/100\n",
      "32/32 [==============================] - 0s 1ms/step - loss: 0.7493 - accuracy: 0.0000e+00\n",
      "Epoch 70/100\n",
      "32/32 [==============================] - 0s 1ms/step - loss: 0.7380 - accuracy: 0.0000e+00\n",
      "Epoch 71/100\n",
      "32/32 [==============================] - 0s 1ms/step - loss: 0.7169 - accuracy: 0.0000e+00\n",
      "Epoch 72/100\n",
      "32/32 [==============================] - 0s 1ms/step - loss: 0.7306 - accuracy: 0.0000e+00\n",
      "Epoch 73/100\n",
      "32/32 [==============================] - 0s 1ms/step - loss: 0.7459 - accuracy: 0.0000e+00\n",
      "Epoch 74/100\n",
      "32/32 [==============================] - 0s 1ms/step - loss: 0.7316 - accuracy: 0.0000e+00\n",
      "Epoch 75/100\n",
      "32/32 [==============================] - 0s 1ms/step - loss: 0.7436 - accuracy: 0.0000e+00\n",
      "Epoch 76/100\n",
      "32/32 [==============================] - 0s 1ms/step - loss: 0.7195 - accuracy: 0.0000e+00\n",
      "Epoch 77/100\n",
      "32/32 [==============================] - 0s 1ms/step - loss: 0.7350 - accuracy: 0.0000e+00\n",
      "Epoch 78/100\n",
      "32/32 [==============================] - 0s 1ms/step - loss: 0.7204 - accuracy: 0.0000e+00\n",
      "Epoch 79/100\n",
      "32/32 [==============================] - 0s 1ms/step - loss: 0.7289 - accuracy: 0.0000e+00\n",
      "Epoch 80/100\n"
     ]
    },
    {
     "name": "stdout",
     "output_type": "stream",
     "text": [
      "32/32 [==============================] - 0s 1ms/step - loss: 0.7314 - accuracy: 0.0000e+00\n",
      "Epoch 81/100\n",
      "32/32 [==============================] - 0s 1ms/step - loss: 0.7269 - accuracy: 0.0000e+00\n",
      "Epoch 82/100\n",
      "32/32 [==============================] - 0s 1ms/step - loss: 0.7232 - accuracy: 0.0000e+00\n",
      "Epoch 83/100\n",
      "32/32 [==============================] - 0s 1ms/step - loss: 0.7127 - accuracy: 0.0000e+00\n",
      "Epoch 84/100\n",
      "32/32 [==============================] - 0s 1ms/step - loss: 0.7154 - accuracy: 0.0000e+00\n",
      "Epoch 85/100\n",
      "32/32 [==============================] - 0s 1ms/step - loss: 0.7128 - accuracy: 0.0000e+00\n",
      "Epoch 86/100\n",
      "32/32 [==============================] - 0s 1ms/step - loss: 0.7248 - accuracy: 0.0000e+00\n",
      "Epoch 87/100\n",
      "32/32 [==============================] - 0s 1ms/step - loss: 0.7212 - accuracy: 0.0000e+00\n",
      "Epoch 88/100\n",
      "32/32 [==============================] - 0s 1ms/step - loss: 0.7158 - accuracy: 0.0000e+00\n",
      "Epoch 89/100\n",
      "32/32 [==============================] - 0s 1ms/step - loss: 0.7284 - accuracy: 0.0000e+00\n",
      "Epoch 90/100\n",
      "32/32 [==============================] - 0s 1ms/step - loss: 0.7087 - accuracy: 0.0000e+00\n",
      "Epoch 91/100\n",
      "32/32 [==============================] - 0s 1ms/step - loss: 0.7050 - accuracy: 0.0000e+00\n",
      "Epoch 92/100\n",
      "32/32 [==============================] - 0s 1ms/step - loss: 0.7131 - accuracy: 0.0000e+00\n",
      "Epoch 93/100\n",
      "32/32 [==============================] - 0s 1ms/step - loss: 0.7124 - accuracy: 0.0000e+00\n",
      "Epoch 94/100\n",
      "32/32 [==============================] - 0s 1ms/step - loss: 0.7197 - accuracy: 0.0000e+00\n",
      "Epoch 95/100\n",
      "32/32 [==============================] - 0s 1ms/step - loss: 0.7043 - accuracy: 0.0000e+00\n",
      "Epoch 96/100\n",
      "32/32 [==============================] - 0s 1ms/step - loss: 0.7038 - accuracy: 0.0000e+00\n",
      "Epoch 97/100\n",
      "32/32 [==============================] - 0s 1ms/step - loss: 0.7040 - accuracy: 0.0000e+00\n",
      "Epoch 98/100\n",
      "32/32 [==============================] - 0s 1ms/step - loss: 0.6961 - accuracy: 0.0000e+00\n",
      "Epoch 99/100\n",
      "32/32 [==============================] - 0s 1ms/step - loss: 0.7113 - accuracy: 0.0000e+00\n",
      "Epoch 100/100\n",
      "32/32 [==============================] - 0s 1ms/step - loss: 0.6957 - accuracy: 0.0000e+00\n"
     ]
    }
   ],
   "source": [
    "# Building our neural network with a non-linear activation function\n",
    "# Set random seed\n",
    "tf.random.set_seed(42)\n",
    "# Create a model with non-linear activation\n",
    "model_5= tf.keras.Sequential([\n",
    "    tf.keras.layers.Dense(1, activation='relu')\n",
    "])\n",
    "model_5.compile(loss=tf.keras.losses.BinaryCrossentropy(),\n",
    "               optimizer= tf.keras.optimizers.Adam(lr=0.001),\n",
    "               metrics=['Accuracy'])\n",
    "history= model_5.fit(X, y, epochs=100)"
   ]
  },
  {
   "cell_type": "code",
   "execution_count": 37,
   "id": "regular-roots",
   "metadata": {},
   "outputs": [
    {
     "name": "stdout",
     "output_type": "stream",
     "text": [
      "Epoch 1/100\n",
      "32/32 [==============================] - 0s 1ms/step - loss: 7.9753 - accuracy: 0.4830\n",
      "Epoch 2/100\n",
      "32/32 [==============================] - 0s 2ms/step - loss: 7.8983 - accuracy: 0.4880\n",
      "Epoch 3/100\n",
      "32/32 [==============================] - 0s 1ms/step - loss: 7.8184 - accuracy: 0.4931\n",
      "Epoch 4/100\n",
      "32/32 [==============================] - 0s 2ms/step - loss: 7.7682 - accuracy: 0.4964\n",
      "Epoch 5/100\n",
      "32/32 [==============================] - 0s 2ms/step - loss: 7.9795 - accuracy: 0.4827\n",
      "Epoch 6/100\n",
      "32/32 [==============================] - 0s 2ms/step - loss: 7.2219 - accuracy: 0.5318\n",
      "Epoch 7/100\n",
      "32/32 [==============================] - 0s 2ms/step - loss: 7.6230 - accuracy: 0.5058\n",
      "Epoch 8/100\n",
      "32/32 [==============================] - 0s 1ms/step - loss: 7.7149 - accuracy: 0.4998\n",
      "Epoch 9/100\n",
      "32/32 [==============================] - 0s 2ms/step - loss: 8.0269 - accuracy: 0.4796\n",
      "Epoch 10/100\n",
      "32/32 [==============================] - 0s 1ms/step - loss: 7.4648 - accuracy: 0.5161\n",
      "Epoch 11/100\n",
      "32/32 [==============================] - 0s 2ms/step - loss: 7.6242 - accuracy: 0.5057\n",
      "Epoch 12/100\n",
      "32/32 [==============================] - 0s 2ms/step - loss: 7.4561 - accuracy: 0.5166\n",
      "Epoch 13/100\n",
      "32/32 [==============================] - 0s 2ms/step - loss: 7.1428 - accuracy: 0.5369\n",
      "Epoch 14/100\n",
      "32/32 [==============================] - 0s 2ms/step - loss: 7.5461 - accuracy: 0.5108\n",
      "Epoch 15/100\n",
      "32/32 [==============================] - 0s 2ms/step - loss: 7.4680 - accuracy: 0.5159\n",
      "Epoch 16/100\n",
      "32/32 [==============================] - 0s 1ms/step - loss: 7.7601 - accuracy: 0.4969\n",
      "Epoch 17/100\n",
      "32/32 [==============================] - 0s 1ms/step - loss: 7.7622 - accuracy: 0.4968\n",
      "Epoch 18/100\n",
      "32/32 [==============================] - 0s 1ms/step - loss: 7.7250 - accuracy: 0.4992\n",
      "Epoch 19/100\n",
      "32/32 [==============================] - 0s 2ms/step - loss: 8.1296 - accuracy: 0.4730\n",
      "Epoch 20/100\n",
      "32/32 [==============================] - 0s 1ms/step - loss: 7.8179 - accuracy: 0.4932\n",
      "Epoch 21/100\n",
      "32/32 [==============================] - 0s 2ms/step - loss: 7.8540 - accuracy: 0.4908\n",
      "Epoch 22/100\n",
      "32/32 [==============================] - 0s 1ms/step - loss: 7.6321 - accuracy: 0.5052\n",
      "Epoch 23/100\n",
      "32/32 [==============================] - 0s 1ms/step - loss: 7.6680 - accuracy: 0.5029\n",
      "Epoch 24/100\n",
      "32/32 [==============================] - 0s 1ms/step - loss: 7.6182 - accuracy: 0.5061\n",
      "Epoch 25/100\n",
      "32/32 [==============================] - 0s 1ms/step - loss: 7.7239 - accuracy: 0.4993\n",
      "Epoch 26/100\n",
      "32/32 [==============================] - 0s 1ms/step - loss: 7.7557 - accuracy: 0.4972\n",
      "Epoch 27/100\n",
      "32/32 [==============================] - 0s 1ms/step - loss: 8.0653 - accuracy: 0.4771\n",
      "Epoch 28/100\n",
      "32/32 [==============================] - 0s 1ms/step - loss: 7.9861 - accuracy: 0.4823\n",
      "Epoch 29/100\n",
      "32/32 [==============================] - 0s 2ms/step - loss: 7.5336 - accuracy: 0.5116\n",
      "Epoch 30/100\n",
      "32/32 [==============================] - 0s 2ms/step - loss: 7.7347 - accuracy: 0.4986\n",
      "Epoch 31/100\n",
      "32/32 [==============================] - 0s 1ms/step - loss: 7.7617 - accuracy: 0.4968\n",
      "Epoch 32/100\n",
      "32/32 [==============================] - 0s 1ms/step - loss: 7.4408 - accuracy: 0.5176\n",
      "Epoch 33/100\n",
      "32/32 [==============================] - 0s 1ms/step - loss: 7.9254 - accuracy: 0.4862\n",
      "Epoch 34/100\n",
      "32/32 [==============================] - 0s 2ms/step - loss: 7.6042 - accuracy: 0.5070\n",
      "Epoch 35/100\n",
      "32/32 [==============================] - 0s 2ms/step - loss: 7.9993 - accuracy: 0.4814\n",
      "Epoch 36/100\n",
      "32/32 [==============================] - 0s 2ms/step - loss: 7.5842 - accuracy: 0.5083\n",
      "Epoch 37/100\n",
      "32/32 [==============================] - 0s 1ms/step - loss: 7.6787 - accuracy: 0.5022\n",
      "Epoch 38/100\n",
      "32/32 [==============================] - 0s 1ms/step - loss: 7.6740 - accuracy: 0.5025\n",
      "Epoch 39/100\n",
      "32/32 [==============================] - 0s 1ms/step - loss: 7.4733 - accuracy: 0.5155\n",
      "Epoch 40/100\n",
      "32/32 [==============================] - 0s 2ms/step - loss: 7.8495 - accuracy: 0.4911\n",
      "Epoch 41/100\n",
      "32/32 [==============================] - 0s 1ms/step - loss: 8.2446 - accuracy: 0.4655\n",
      "Epoch 42/100\n",
      "32/32 [==============================] - 0s 1ms/step - loss: 7.9345 - accuracy: 0.4856\n",
      "Epoch 43/100\n",
      "32/32 [==============================] - 0s 1ms/step - loss: 7.7842 - accuracy: 0.4954\n",
      "Epoch 44/100\n",
      "32/32 [==============================] - 0s 2ms/step - loss: 7.3126 - accuracy: 0.5259\n",
      "Epoch 45/100\n",
      "32/32 [==============================] - 0s 2ms/step - loss: 7.3197 - accuracy: 0.5255\n",
      "Epoch 46/100\n",
      "32/32 [==============================] - 0s 2ms/step - loss: 7.4585 - accuracy: 0.5165\n",
      "Epoch 47/100\n",
      "32/32 [==============================] - 0s 2ms/step - loss: 7.9568 - accuracy: 0.4842\n",
      "Epoch 48/100\n",
      "32/32 [==============================] - 0s 1ms/step - loss: 7.8862 - accuracy: 0.4887\n",
      "Epoch 49/100\n",
      "32/32 [==============================] - 0s 1ms/step - loss: 7.5472 - accuracy: 0.5107\n",
      "Epoch 50/100\n",
      "32/32 [==============================] - 0s 1ms/step - loss: 7.3799 - accuracy: 0.5216\n",
      "Epoch 51/100\n",
      "32/32 [==============================] - 0s 1ms/step - loss: 7.3495 - accuracy: 0.5235\n",
      "Epoch 52/100\n",
      "32/32 [==============================] - 0s 1ms/step - loss: 7.7936 - accuracy: 0.4947\n",
      "Epoch 53/100\n",
      "32/32 [==============================] - 0s 2ms/step - loss: 7.7570 - accuracy: 0.4971\n",
      "Epoch 54/100\n",
      "32/32 [==============================] - 0s 1ms/step - loss: 7.7828 - accuracy: 0.4954\n",
      "Epoch 55/100\n",
      "32/32 [==============================] - 0s 1ms/step - loss: 7.9357 - accuracy: 0.4855\n",
      "Epoch 56/100\n",
      "32/32 [==============================] - 0s 1ms/step - loss: 7.4286 - accuracy: 0.5184\n",
      "Epoch 57/100\n",
      "32/32 [==============================] - 0s 1ms/step - loss: 7.5070 - accuracy: 0.5133\n",
      "Epoch 58/100\n",
      "32/32 [==============================] - 0s 1ms/step - loss: 7.8944 - accuracy: 0.4882\n",
      "Epoch 59/100\n",
      "32/32 [==============================] - 0s 2ms/step - loss: 8.3480 - accuracy: 0.4588\n",
      "Epoch 60/100\n",
      "32/32 [==============================] - 0s 2ms/step - loss: 8.1568 - accuracy: 0.4712\n",
      "Epoch 61/100\n",
      "32/32 [==============================] - 0s 1ms/step - loss: 7.4900 - accuracy: 0.5144\n",
      "Epoch 62/100\n",
      "32/32 [==============================] - 0s 1ms/step - loss: 7.9939 - accuracy: 0.4818\n",
      "Epoch 63/100\n",
      "32/32 [==============================] - 0s 1ms/step - loss: 7.8445 - accuracy: 0.4914\n",
      "Epoch 64/100\n",
      "32/32 [==============================] - 0s 2ms/step - loss: 7.7632 - accuracy: 0.4967\n",
      "Epoch 65/100\n",
      "32/32 [==============================] - 0s 1ms/step - loss: 7.7199 - accuracy: 0.4995\n",
      "Epoch 66/100\n",
      "32/32 [==============================] - 0s 1ms/step - loss: 7.9908 - accuracy: 0.4820\n",
      "Epoch 67/100\n",
      "32/32 [==============================] - 0s 1ms/step - loss: 7.7850 - accuracy: 0.4953\n",
      "Epoch 68/100\n",
      "32/32 [==============================] - 0s 1ms/step - loss: 7.7342 - accuracy: 0.4986\n",
      "Epoch 69/100\n",
      "32/32 [==============================] - 0s 1ms/step - loss: 7.6709 - accuracy: 0.5027\n",
      "Epoch 70/100\n",
      "32/32 [==============================] - 0s 1ms/step - loss: 7.7723 - accuracy: 0.4961\n",
      "Epoch 71/100\n",
      "32/32 [==============================] - 0s 1ms/step - loss: 7.3569 - accuracy: 0.5231\n",
      "Epoch 72/100\n",
      "32/32 [==============================] - 0s 1ms/step - loss: 7.6486 - accuracy: 0.5041\n",
      "Epoch 73/100\n",
      "32/32 [==============================] - 0s 1ms/step - loss: 7.6712 - accuracy: 0.5027\n",
      "Epoch 74/100\n",
      "32/32 [==============================] - 0s 2ms/step - loss: 7.6661 - accuracy: 0.5030\n",
      "Epoch 75/100\n",
      "32/32 [==============================] - 0s 1ms/step - loss: 7.8858 - accuracy: 0.4888\n",
      "Epoch 76/100\n",
      "32/32 [==============================] - 0s 1ms/step - loss: 7.3837 - accuracy: 0.5213\n",
      "Epoch 77/100\n",
      "32/32 [==============================] - 0s 1ms/step - loss: 8.0544 - accuracy: 0.4778\n",
      "Epoch 78/100\n",
      "32/32 [==============================] - 0s 1ms/step - loss: 7.4542 - accuracy: 0.5167\n",
      "Epoch 79/100\n",
      "32/32 [==============================] - 0s 1ms/step - loss: 7.4387 - accuracy: 0.5177\n",
      "Epoch 80/100\n",
      "32/32 [==============================] - 0s 1ms/step - loss: 7.6888 - accuracy: 0.5015\n",
      "Epoch 81/100\n",
      "32/32 [==============================] - 0s 1ms/step - loss: 7.6354 - accuracy: 0.5050\n",
      "Epoch 82/100\n",
      "32/32 [==============================] - 0s 1ms/step - loss: 7.4057 - accuracy: 0.5199\n",
      "Epoch 83/100\n"
     ]
    },
    {
     "name": "stdout",
     "output_type": "stream",
     "text": [
      "32/32 [==============================] - 0s 1ms/step - loss: 7.2750 - accuracy: 0.5284\n",
      "Epoch 84/100\n",
      "32/32 [==============================] - 0s 1ms/step - loss: 7.4647 - accuracy: 0.5161\n",
      "Epoch 85/100\n",
      "32/32 [==============================] - 0s 1ms/step - loss: 7.5689 - accuracy: 0.5093\n",
      "Epoch 86/100\n",
      "32/32 [==============================] - 0s 1ms/step - loss: 7.8381 - accuracy: 0.4919\n",
      "Epoch 87/100\n",
      "32/32 [==============================] - 0s 1ms/step - loss: 8.0268 - accuracy: 0.4796\n",
      "Epoch 88/100\n",
      "32/32 [==============================] - 0s 1ms/step - loss: 7.8147 - accuracy: 0.4934\n",
      "Epoch 89/100\n",
      "32/32 [==============================] - 0s 1ms/step - loss: 8.1743 - accuracy: 0.4701\n",
      "Epoch 90/100\n",
      "32/32 [==============================] - 0s 1ms/step - loss: 7.4337 - accuracy: 0.5181\n",
      "Epoch 91/100\n",
      "32/32 [==============================] - 0s 1ms/step - loss: 7.4169 - accuracy: 0.5192\n",
      "Epoch 92/100\n",
      "32/32 [==============================] - 0s 1ms/step - loss: 8.2149 - accuracy: 0.4674\n",
      "Epoch 93/100\n",
      "32/32 [==============================] - 0s 1ms/step - loss: 7.5723 - accuracy: 0.5091\n",
      "Epoch 94/100\n",
      "32/32 [==============================] - 0s 1ms/step - loss: 7.7455 - accuracy: 0.4979\n",
      "Epoch 95/100\n",
      "32/32 [==============================] - 0s 1ms/step - loss: 7.3008 - accuracy: 0.5267\n",
      "Epoch 96/100\n",
      "32/32 [==============================] - 0s 1ms/step - loss: 7.4538 - accuracy: 0.5168\n",
      "Epoch 97/100\n",
      "32/32 [==============================] - 0s 1ms/step - loss: 7.4086 - accuracy: 0.5197\n",
      "Epoch 98/100\n",
      "32/32 [==============================] - 0s 1ms/step - loss: 7.2743 - accuracy: 0.5284\n",
      "Epoch 99/100\n",
      "32/32 [==============================] - 0s 1ms/step - loss: 7.9076 - accuracy: 0.4873\n",
      "Epoch 100/100\n",
      "32/32 [==============================] - 0s 1ms/step - loss: 7.4822 - accuracy: 0.5149\n"
     ]
    }
   ],
   "source": [
    "# Multi-layer neural network \n",
    "# Set the random seed\n",
    "tf.random.set_seed(42)\n",
    "\n",
    "model_6= tf.keras.Sequential([\n",
    "    tf.keras.layers.Dense(4, activation='relu'),\n",
    "    tf.keras.layers.Dense(4, activation='relu'),\n",
    "    tf.keras.layers.Dense(1)\n",
    "])\n",
    "\n",
    "model_6.compile(loss='binary_crossentropy',\n",
    "               optimizer= tf.keras.optimizers.Adam(lr=0.001),\n",
    "               metrics=['accuracy'])\n",
    "\n",
    "history= model_6.fit(X, y, epochs=100)"
   ]
  },
  {
   "cell_type": "code",
   "execution_count": 38,
   "id": "german-stationery",
   "metadata": {},
   "outputs": [
    {
     "name": "stdout",
     "output_type": "stream",
     "text": [
      "32/32 [==============================] - 0s 980us/step - loss: 7.7125 - accuracy: 0.5000\n"
     ]
    },
    {
     "data": {
      "text/plain": [
       "[7.712474346160889, 0.5]"
      ]
     },
     "execution_count": 38,
     "metadata": {},
     "output_type": "execute_result"
    }
   ],
   "source": [
    "# Evaluate the model\n",
    "model_6.evaluate(X, y)"
   ]
  },
  {
   "cell_type": "code",
   "execution_count": 39,
   "id": "statutory-moldova",
   "metadata": {},
   "outputs": [
    {
     "name": "stdout",
     "output_type": "stream",
     "text": [
      "Doing binary classification\n"
     ]
    },
    {
     "data": {
      "image/png": "[encoded data removed]",
      "text/plain": [
       "<Figure size 432x288 with 1 Axes>"
      ]
     },
     "metadata": {
      "needs_background": "light"
     },
     "output_type": "display_data"
    }
   ],
   "source": [
    "# Visualizing the prediction\n",
    "plot_decision_boundary(model_6, X, y, )"
   ]
  },
  {
   "cell_type": "code",
   "execution_count": 40,
   "id": "intimate-validation",
   "metadata": {},
   "outputs": [
    {
     "name": "stdout",
     "output_type": "stream",
     "text": [
      "Epoch 1/250\n",
      "32/32 [==============================] - 0s 1ms/step - loss: 0.6954 - accuracy: 0.4875\n",
      "Epoch 2/250\n",
      "32/32 [==============================] - 0s 1ms/step - loss: 0.6870 - accuracy: 0.5110\n",
      "Epoch 3/250\n",
      "32/32 [==============================] - 0s 1ms/step - loss: 0.6801 - accuracy: 0.5470\n",
      "Epoch 4/250\n",
      "32/32 [==============================] - 0s 1ms/step - loss: 0.6841 - accuracy: 0.5004\n",
      "Epoch 5/250\n",
      "32/32 [==============================] - 0s 1ms/step - loss: 0.6817 - accuracy: 0.5259\n",
      "Epoch 6/250\n",
      "32/32 [==============================] - 0s 1ms/step - loss: 0.6789 - accuracy: 0.5237\n",
      "Epoch 7/250\n",
      "32/32 [==============================] - 0s 1ms/step - loss: 0.6806 - accuracy: 0.5427\n",
      "Epoch 8/250\n",
      "32/32 [==============================] - 0s 1ms/step - loss: 0.6808 - accuracy: 0.5396\n",
      "Epoch 9/250\n",
      "32/32 [==============================] - 0s 1ms/step - loss: 0.6795 - accuracy: 0.5360\n",
      "Epoch 10/250\n",
      "32/32 [==============================] - 0s 2ms/step - loss: 0.6769 - accuracy: 0.5418\n",
      "Epoch 11/250\n",
      "32/32 [==============================] - 0s 1ms/step - loss: 0.6753 - accuracy: 0.5484\n",
      "Epoch 12/250\n",
      "32/32 [==============================] - 0s 1ms/step - loss: 0.6771 - accuracy: 0.5517\n",
      "Epoch 13/250\n",
      "32/32 [==============================] - 0s 1ms/step - loss: 0.6748 - accuracy: 0.5580\n",
      "Epoch 14/250\n",
      "32/32 [==============================] - 0s 2ms/step - loss: 0.6737 - accuracy: 0.5541\n",
      "Epoch 15/250\n",
      "32/32 [==============================] - 0s 2ms/step - loss: 0.6737 - accuracy: 0.5445\n",
      "Epoch 16/250\n",
      "32/32 [==============================] - 0s 1ms/step - loss: 0.6687 - accuracy: 0.5845\n",
      "Epoch 17/250\n",
      "32/32 [==============================] - 0s 1ms/step - loss: 0.6705 - accuracy: 0.5666\n",
      "Epoch 18/250\n",
      "32/32 [==============================] - 0s 1ms/step - loss: 0.6680 - accuracy: 0.5749\n",
      "Epoch 19/250\n",
      "32/32 [==============================] - 0s 1ms/step - loss: 0.6737 - accuracy: 0.5550\n",
      "Epoch 20/250\n",
      "32/32 [==============================] - 0s 1ms/step - loss: 0.6670 - accuracy: 0.5703\n",
      "Epoch 21/250\n",
      "32/32 [==============================] - 0s 1ms/step - loss: 0.6662 - accuracy: 0.5738\n",
      "Epoch 22/250\n",
      "32/32 [==============================] - 0s 1ms/step - loss: 0.6685 - accuracy: 0.5607\n",
      "Epoch 23/250\n",
      "32/32 [==============================] - 0s 1ms/step - loss: 0.6724 - accuracy: 0.5509\n",
      "Epoch 24/250\n",
      "32/32 [==============================] - 0s 1ms/step - loss: 0.6619 - accuracy: 0.5866\n",
      "Epoch 25/250\n",
      "32/32 [==============================] - 0s 1ms/step - loss: 0.6687 - accuracy: 0.5587\n",
      "Epoch 26/250\n",
      "32/32 [==============================] - 0s 1ms/step - loss: 0.6651 - accuracy: 0.5808\n",
      "Epoch 27/250\n",
      "32/32 [==============================] - 0s 1ms/step - loss: 0.6683 - accuracy: 0.5723\n",
      "Epoch 28/250\n",
      "32/32 [==============================] - 0s 1ms/step - loss: 0.6659 - accuracy: 0.5661\n",
      "Epoch 29/250\n",
      "32/32 [==============================] - 0s 1ms/step - loss: 0.6600 - accuracy: 0.5636\n",
      "Epoch 30/250\n",
      "32/32 [==============================] - 0s 1ms/step - loss: 0.6668 - accuracy: 0.5603\n",
      "Epoch 31/250\n",
      "32/32 [==============================] - 0s 1ms/step - loss: 0.6572 - accuracy: 0.5885\n",
      "Epoch 32/250\n",
      "32/32 [==============================] - 0s 1ms/step - loss: 0.6679 - accuracy: 0.5565\n",
      "Epoch 33/250\n",
      "32/32 [==============================] - 0s 1ms/step - loss: 0.6603 - accuracy: 0.5878\n",
      "Epoch 34/250\n",
      "32/32 [==============================] - 0s 1ms/step - loss: 0.6523 - accuracy: 0.6115\n",
      "Epoch 35/250\n",
      "32/32 [==============================] - 0s 1ms/step - loss: 0.6543 - accuracy: 0.6027\n",
      "Epoch 36/250\n",
      "32/32 [==============================] - 0s 1ms/step - loss: 0.6632 - accuracy: 0.5721\n",
      "Epoch 37/250\n",
      "32/32 [==============================] - 0s 2ms/step - loss: 0.6635 - accuracy: 0.5558\n",
      "Epoch 38/250\n",
      "32/32 [==============================] - 0s 1ms/step - loss: 0.6528 - accuracy: 0.5943\n",
      "Epoch 39/250\n",
      "32/32 [==============================] - 0s 1ms/step - loss: 0.6560 - accuracy: 0.5743\n",
      "Epoch 40/250\n",
      "32/32 [==============================] - 0s 1ms/step - loss: 0.6538 - accuracy: 0.5764\n",
      "Epoch 41/250\n",
      "32/32 [==============================] - 0s 1ms/step - loss: 0.6616 - accuracy: 0.5616\n",
      "Epoch 42/250\n",
      "32/32 [==============================] - 0s 1ms/step - loss: 0.6561 - accuracy: 0.5617\n",
      "Epoch 43/250\n",
      "32/32 [==============================] - 0s 1ms/step - loss: 0.6607 - accuracy: 0.5523\n",
      "Epoch 44/250\n",
      "32/32 [==============================] - 0s 2ms/step - loss: 0.6458 - accuracy: 0.5966\n",
      "Epoch 45/250\n",
      "32/32 [==============================] - 0s 1ms/step - loss: 0.6503 - accuracy: 0.5751\n",
      "Epoch 46/250\n",
      "32/32 [==============================] - 0s 2ms/step - loss: 0.6513 - accuracy: 0.5722\n",
      "Epoch 47/250\n",
      "32/32 [==============================] - 0s 1ms/step - loss: 0.6496 - accuracy: 0.5939\n",
      "Epoch 48/250\n",
      "32/32 [==============================] - 0s 1ms/step - loss: 0.6492 - accuracy: 0.5807\n",
      "Epoch 49/250\n",
      "32/32 [==============================] - 0s 1ms/step - loss: 0.6372 - accuracy: 0.5996\n",
      "Epoch 50/250\n",
      "32/32 [==============================] - 0s 1ms/step - loss: 0.6373 - accuracy: 0.6055\n",
      "Epoch 51/250\n",
      "32/32 [==============================] - 0s 2ms/step - loss: 0.6409 - accuracy: 0.5957\n",
      "Epoch 52/250\n",
      "32/32 [==============================] - 0s 1ms/step - loss: 0.6393 - accuracy: 0.6196\n",
      "Epoch 53/250\n",
      "32/32 [==============================] - 0s 1ms/step - loss: 0.6363 - accuracy: 0.5992\n",
      "Epoch 54/250\n",
      "32/32 [==============================] - 0s 2ms/step - loss: 0.6275 - accuracy: 0.6319\n",
      "Epoch 55/250\n",
      "32/32 [==============================] - 0s 1ms/step - loss: 0.6178 - accuracy: 0.6533\n",
      "Epoch 56/250\n",
      "32/32 [==============================] - 0s 1ms/step - loss: 0.6301 - accuracy: 0.6978\n",
      "Epoch 57/250\n",
      "32/32 [==============================] - 0s 1ms/step - loss: 0.6227 - accuracy: 0.6982\n",
      "Epoch 58/250\n",
      "32/32 [==============================] - 0s 1ms/step - loss: 0.6148 - accuracy: 0.7170\n",
      "Epoch 59/250\n",
      "32/32 [==============================] - 0s 1ms/step - loss: 0.6107 - accuracy: 0.7226\n",
      "Epoch 60/250\n",
      "32/32 [==============================] - 0s 1ms/step - loss: 0.6235 - accuracy: 0.7071\n",
      "Epoch 61/250\n",
      "32/32 [==============================] - 0s 1ms/step - loss: 0.6168 - accuracy: 0.7065\n",
      "Epoch 62/250\n",
      "32/32 [==============================] - 0s 1ms/step - loss: 0.6070 - accuracy: 0.7284\n",
      "Epoch 63/250\n",
      "32/32 [==============================] - 0s 1ms/step - loss: 0.5969 - accuracy: 0.7543\n",
      "Epoch 64/250\n",
      "32/32 [==============================] - 0s 1ms/step - loss: 0.6030 - accuracy: 0.7442\n",
      "Epoch 65/250\n",
      "32/32 [==============================] - 0s 1ms/step - loss: 0.5927 - accuracy: 0.7332\n",
      "Epoch 66/250\n",
      "32/32 [==============================] - 0s 1ms/step - loss: 0.5919 - accuracy: 0.7251\n",
      "Epoch 67/250\n",
      "32/32 [==============================] - 0s 1ms/step - loss: 0.5845 - accuracy: 0.7195\n",
      "Epoch 68/250\n",
      "32/32 [==============================] - 0s 1ms/step - loss: 0.5664 - accuracy: 0.7750\n",
      "Epoch 69/250\n",
      "32/32 [==============================] - 0s 1ms/step - loss: 0.5593 - accuracy: 0.8049\n",
      "Epoch 70/250\n",
      "32/32 [==============================] - 0s 1ms/step - loss: 0.5635 - accuracy: 0.7975\n",
      "Epoch 71/250\n",
      "32/32 [==============================] - 0s 1ms/step - loss: 0.5457 - accuracy: 0.8164\n",
      "Epoch 72/250\n",
      "32/32 [==============================] - 0s 1ms/step - loss: 0.5448 - accuracy: 0.8228\n",
      "Epoch 73/250\n",
      "32/32 [==============================] - 0s 1ms/step - loss: 0.5341 - accuracy: 0.8497\n",
      "Epoch 74/250\n",
      "32/32 [==============================] - 0s 1ms/step - loss: 0.5257 - accuracy: 0.8428\n",
      "Epoch 75/250\n",
      "32/32 [==============================] - 0s 1ms/step - loss: 0.5142 - accuracy: 0.8761\n",
      "Epoch 76/250\n",
      "32/32 [==============================] - 0s 1ms/step - loss: 0.5013 - accuracy: 0.8919\n",
      "Epoch 77/250\n",
      "32/32 [==============================] - 0s 1ms/step - loss: 0.4946 - accuracy: 0.9306\n",
      "Epoch 78/250\n",
      "32/32 [==============================] - 0s 1ms/step - loss: 0.4805 - accuracy: 0.9116\n",
      "Epoch 79/250\n",
      "32/32 [==============================] - 0s 1ms/step - loss: 0.4702 - accuracy: 0.9457\n",
      "Epoch 80/250\n",
      "32/32 [==============================] - 0s 1ms/step - loss: 0.4683 - accuracy: 0.9563\n",
      "Epoch 81/250\n",
      "32/32 [==============================] - 0s 1ms/step - loss: 0.4624 - accuracy: 0.9470\n",
      "Epoch 82/250\n",
      "32/32 [==============================] - 0s 1ms/step - loss: 0.4416 - accuracy: 0.9538\n",
      "Epoch 83/250\n"
     ]
    },
    {
     "name": "stdout",
     "output_type": "stream",
     "text": [
      "32/32 [==============================] - 0s 2ms/step - loss: 0.4355 - accuracy: 0.9636\n",
      "Epoch 84/250\n",
      "32/32 [==============================] - 0s 1ms/step - loss: 0.4244 - accuracy: 0.9741\n",
      "Epoch 85/250\n",
      "32/32 [==============================] - 0s 1ms/step - loss: 0.4236 - accuracy: 0.9669\n",
      "Epoch 86/250\n",
      "32/32 [==============================] - 0s 1ms/step - loss: 0.4142 - accuracy: 0.9745\n",
      "Epoch 87/250\n",
      "32/32 [==============================] - 0s 1ms/step - loss: 0.3976 - accuracy: 0.9760\n",
      "Epoch 88/250\n",
      "32/32 [==============================] - 0s 1ms/step - loss: 0.3855 - accuracy: 0.9732\n",
      "Epoch 89/250\n",
      "32/32 [==============================] - 0s 1ms/step - loss: 0.3781 - accuracy: 0.9812\n",
      "Epoch 90/250\n",
      "32/32 [==============================] - 0s 1ms/step - loss: 0.3682 - accuracy: 0.9782\n",
      "Epoch 91/250\n",
      "32/32 [==============================] - 0s 1ms/step - loss: 0.3650 - accuracy: 0.9808\n",
      "Epoch 92/250\n",
      "32/32 [==============================] - 0s 1ms/step - loss: 0.3615 - accuracy: 0.9817\n",
      "Epoch 93/250\n",
      "32/32 [==============================] - 0s 1ms/step - loss: 0.3542 - accuracy: 0.9783\n",
      "Epoch 94/250\n",
      "32/32 [==============================] - 0s 1ms/step - loss: 0.3457 - accuracy: 0.9845\n",
      "Epoch 95/250\n",
      "32/32 [==============================] - 0s 1ms/step - loss: 0.3346 - accuracy: 0.9831\n",
      "Epoch 96/250\n",
      "32/32 [==============================] - 0s 1ms/step - loss: 0.3241 - accuracy: 0.9846\n",
      "Epoch 97/250\n",
      "32/32 [==============================] - 0s 1ms/step - loss: 0.3207 - accuracy: 0.9856\n",
      "Epoch 98/250\n",
      "32/32 [==============================] - 0s 1ms/step - loss: 0.3153 - accuracy: 0.9941\n",
      "Epoch 99/250\n",
      "32/32 [==============================] - 0s 1ms/step - loss: 0.3047 - accuracy: 0.9864\n",
      "Epoch 100/250\n",
      "32/32 [==============================] - 0s 1ms/step - loss: 0.2957 - accuracy: 0.9887\n",
      "Epoch 101/250\n",
      "32/32 [==============================] - 0s 1ms/step - loss: 0.2926 - accuracy: 0.9928\n",
      "Epoch 102/250\n",
      "32/32 [==============================] - 0s 1ms/step - loss: 0.2815 - accuracy: 0.9915\n",
      "Epoch 103/250\n",
      "32/32 [==============================] - 0s 1ms/step - loss: 0.2847 - accuracy: 0.9912\n",
      "Epoch 104/250\n",
      "32/32 [==============================] - 0s 1ms/step - loss: 0.2805 - accuracy: 0.9848\n",
      "Epoch 105/250\n",
      "32/32 [==============================] - 0s 1ms/step - loss: 0.2673 - accuracy: 0.9937\n",
      "Epoch 106/250\n",
      "32/32 [==============================] - 0s 1ms/step - loss: 0.2679 - accuracy: 0.9887\n",
      "Epoch 107/250\n",
      "32/32 [==============================] - 0s 1ms/step - loss: 0.2613 - accuracy: 0.9862\n",
      "Epoch 108/250\n",
      "32/32 [==============================] - 0s 1ms/step - loss: 0.2525 - accuracy: 0.9926\n",
      "Epoch 109/250\n",
      "32/32 [==============================] - 0s 1ms/step - loss: 0.2447 - accuracy: 0.9959\n",
      "Epoch 110/250\n",
      "32/32 [==============================] - 0s 1ms/step - loss: 0.2410 - accuracy: 0.9908\n",
      "Epoch 111/250\n",
      "32/32 [==============================] - 0s 1ms/step - loss: 0.2312 - accuracy: 0.9949\n",
      "Epoch 112/250\n",
      "32/32 [==============================] - 0s 1ms/step - loss: 0.2291 - accuracy: 0.9958\n",
      "Epoch 113/250\n",
      "32/32 [==============================] - 0s 1ms/step - loss: 0.2275 - accuracy: 0.9936\n",
      "Epoch 114/250\n",
      "32/32 [==============================] - 0s 1ms/step - loss: 0.2254 - accuracy: 0.9909\n",
      "Epoch 115/250\n",
      "32/32 [==============================] - 0s 1ms/step - loss: 0.2235 - accuracy: 0.9915\n",
      "Epoch 116/250\n",
      "32/32 [==============================] - 0s 1ms/step - loss: 0.2123 - accuracy: 0.9935\n",
      "Epoch 117/250\n",
      "32/32 [==============================] - 0s 1ms/step - loss: 0.2109 - accuracy: 0.9943\n",
      "Epoch 118/250\n",
      "32/32 [==============================] - 0s 1ms/step - loss: 0.2130 - accuracy: 0.9895\n",
      "Epoch 119/250\n",
      "32/32 [==============================] - 0s 1ms/step - loss: 0.2057 - accuracy: 0.9944\n",
      "Epoch 120/250\n",
      "32/32 [==============================] - 0s 1ms/step - loss: 0.2026 - accuracy: 0.9923\n",
      "Epoch 121/250\n",
      "32/32 [==============================] - 0s 1ms/step - loss: 0.2012 - accuracy: 0.9918\n",
      "Epoch 122/250\n",
      "32/32 [==============================] - 0s 1ms/step - loss: 0.1981 - accuracy: 0.9874\n",
      "Epoch 123/250\n",
      "32/32 [==============================] - 0s 1ms/step - loss: 0.1882 - accuracy: 0.9929\n",
      "Epoch 124/250\n",
      "32/32 [==============================] - 0s 1ms/step - loss: 0.1903 - accuracy: 0.9917\n",
      "Epoch 125/250\n",
      "32/32 [==============================] - 0s 1ms/step - loss: 0.1837 - accuracy: 0.9881\n",
      "Epoch 126/250\n",
      "32/32 [==============================] - 0s 1ms/step - loss: 0.1788 - accuracy: 0.9919\n",
      "Epoch 127/250\n",
      "32/32 [==============================] - 0s 1ms/step - loss: 0.1816 - accuracy: 0.9920\n",
      "Epoch 128/250\n",
      "32/32 [==============================] - 0s 1ms/step - loss: 0.1783 - accuracy: 0.9925\n",
      "Epoch 129/250\n",
      "32/32 [==============================] - 0s 1ms/step - loss: 0.1677 - accuracy: 0.9968\n",
      "Epoch 130/250\n",
      "32/32 [==============================] - 0s 1ms/step - loss: 0.1752 - accuracy: 0.9893\n",
      "Epoch 131/250\n",
      "32/32 [==============================] - 0s 1ms/step - loss: 0.1578 - accuracy: 0.9939\n",
      "Epoch 132/250\n",
      "32/32 [==============================] - 0s 1ms/step - loss: 0.1605 - accuracy: 0.9917\n",
      "Epoch 133/250\n",
      "32/32 [==============================] - 0s 1ms/step - loss: 0.1633 - accuracy: 0.9911\n",
      "Epoch 134/250\n",
      "32/32 [==============================] - 0s 1ms/step - loss: 0.1617 - accuracy: 0.9916\n",
      "Epoch 135/250\n",
      "32/32 [==============================] - 0s 1ms/step - loss: 0.1507 - accuracy: 0.9898\n",
      "Epoch 136/250\n",
      "32/32 [==============================] - 0s 1ms/step - loss: 0.1579 - accuracy: 0.9875\n",
      "Epoch 137/250\n",
      "32/32 [==============================] - 0s 1ms/step - loss: 0.1539 - accuracy: 0.9934\n",
      "Epoch 138/250\n",
      "32/32 [==============================] - 0s 1ms/step - loss: 0.1445 - accuracy: 0.9959\n",
      "Epoch 139/250\n",
      "32/32 [==============================] - 0s 1ms/step - loss: 0.1437 - accuracy: 0.9937\n",
      "Epoch 140/250\n",
      "32/32 [==============================] - 0s 1ms/step - loss: 0.1402 - accuracy: 0.9944\n",
      "Epoch 141/250\n",
      "32/32 [==============================] - 0s 1ms/step - loss: 0.1372 - accuracy: 0.9927\n",
      "Epoch 142/250\n",
      "32/32 [==============================] - 0s 1ms/step - loss: 0.1327 - accuracy: 0.9952\n",
      "Epoch 143/250\n",
      "32/32 [==============================] - 0s 1ms/step - loss: 0.1354 - accuracy: 0.9956\n",
      "Epoch 144/250\n",
      "32/32 [==============================] - 0s 1ms/step - loss: 0.1370 - accuracy: 0.9910\n",
      "Epoch 145/250\n",
      "32/32 [==============================] - 0s 1ms/step - loss: 0.1349 - accuracy: 0.9923\n",
      "Epoch 146/250\n",
      "32/32 [==============================] - 0s 1ms/step - loss: 0.1316 - accuracy: 0.9929\n",
      "Epoch 147/250\n",
      "32/32 [==============================] - 0s 1ms/step - loss: 0.1334 - accuracy: 0.9882\n",
      "Epoch 148/250\n",
      "32/32 [==============================] - 0s 1ms/step - loss: 0.1328 - accuracy: 0.9911\n",
      "Epoch 149/250\n",
      "32/32 [==============================] - 0s 1ms/step - loss: 0.1254 - accuracy: 0.9923\n",
      "Epoch 150/250\n",
      "32/32 [==============================] - 0s 1ms/step - loss: 0.1161 - accuracy: 0.9912\n",
      "Epoch 151/250\n",
      "32/32 [==============================] - 0s 1ms/step - loss: 0.1227 - accuracy: 0.9939\n",
      "Epoch 152/250\n",
      "32/32 [==============================] - 0s 1ms/step - loss: 0.1198 - accuracy: 0.9944\n",
      "Epoch 153/250\n",
      "32/32 [==============================] - 0s 1ms/step - loss: 0.1122 - accuracy: 0.9975\n",
      "Epoch 154/250\n",
      "32/32 [==============================] - 0s 1ms/step - loss: 0.1155 - accuracy: 0.9918\n",
      "Epoch 155/250\n",
      "32/32 [==============================] - 0s 1ms/step - loss: 0.1167 - accuracy: 0.9908\n",
      "Epoch 156/250\n",
      "32/32 [==============================] - 0s 1ms/step - loss: 0.1132 - accuracy: 0.9938\n",
      "Epoch 157/250\n",
      "32/32 [==============================] - 0s 1ms/step - loss: 0.1091 - accuracy: 0.9966\n",
      "Epoch 158/250\n",
      "32/32 [==============================] - 0s 1ms/step - loss: 0.1157 - accuracy: 0.9924\n",
      "Epoch 159/250\n",
      "32/32 [==============================] - 0s 1ms/step - loss: 0.1049 - accuracy: 0.9920\n",
      "Epoch 160/250\n",
      "32/32 [==============================] - 0s 1ms/step - loss: 0.1071 - accuracy: 0.9933\n",
      "Epoch 161/250\n",
      "32/32 [==============================] - 0s 1ms/step - loss: 0.1063 - accuracy: 0.9946\n",
      "Epoch 162/250\n",
      "32/32 [==============================] - 0s 1ms/step - loss: 0.1058 - accuracy: 0.9923\n",
      "Epoch 163/250\n",
      "32/32 [==============================] - 0s 1ms/step - loss: 0.1001 - accuracy: 0.9957\n",
      "Epoch 164/250\n"
     ]
    },
    {
     "name": "stdout",
     "output_type": "stream",
     "text": [
      "32/32 [==============================] - 0s 1ms/step - loss: 0.0924 - accuracy: 0.9933\n",
      "Epoch 165/250\n",
      "32/32 [==============================] - 0s 1ms/step - loss: 0.1055 - accuracy: 0.9858\n",
      "Epoch 166/250\n",
      "32/32 [==============================] - 0s 1ms/step - loss: 0.0978 - accuracy: 0.9952\n",
      "Epoch 167/250\n",
      "32/32 [==============================] - 0s 1ms/step - loss: 0.0973 - accuracy: 0.9934\n",
      "Epoch 168/250\n",
      "32/32 [==============================] - 0s 1ms/step - loss: 0.0988 - accuracy: 0.9912\n",
      "Epoch 169/250\n",
      "32/32 [==============================] - 0s 1ms/step - loss: 0.0966 - accuracy: 0.9897\n",
      "Epoch 170/250\n",
      "32/32 [==============================] - 0s 1ms/step - loss: 0.0959 - accuracy: 0.9942\n",
      "Epoch 171/250\n",
      "32/32 [==============================] - 0s 1ms/step - loss: 0.0971 - accuracy: 0.9906\n",
      "Epoch 172/250\n",
      "32/32 [==============================] - 0s 1ms/step - loss: 0.0904 - accuracy: 0.9938\n",
      "Epoch 173/250\n",
      "32/32 [==============================] - 0s 1ms/step - loss: 0.0909 - accuracy: 0.9924\n",
      "Epoch 174/250\n",
      "32/32 [==============================] - 0s 1ms/step - loss: 0.0866 - accuracy: 0.9940\n",
      "Epoch 175/250\n",
      "32/32 [==============================] - 0s 1ms/step - loss: 0.0943 - accuracy: 0.9881\n",
      "Epoch 176/250\n",
      "32/32 [==============================] - 0s 1ms/step - loss: 0.0882 - accuracy: 0.9923\n",
      "Epoch 177/250\n",
      "32/32 [==============================] - 0s 1ms/step - loss: 0.0933 - accuracy: 0.9931\n",
      "Epoch 178/250\n",
      "32/32 [==============================] - 0s 1ms/step - loss: 0.0930 - accuracy: 0.9897\n",
      "Epoch 179/250\n",
      "32/32 [==============================] - 0s 1ms/step - loss: 0.0811 - accuracy: 0.9926\n",
      "Epoch 180/250\n",
      "32/32 [==============================] - 0s 1ms/step - loss: 0.0877 - accuracy: 0.9873\n",
      "Epoch 181/250\n",
      "32/32 [==============================] - 0s 1ms/step - loss: 0.0816 - accuracy: 0.9959\n",
      "Epoch 182/250\n",
      "32/32 [==============================] - 0s 1ms/step - loss: 0.0858 - accuracy: 0.9911\n",
      "Epoch 183/250\n",
      "32/32 [==============================] - 0s 1ms/step - loss: 0.0841 - accuracy: 0.9906\n",
      "Epoch 184/250\n",
      "32/32 [==============================] - 0s 1ms/step - loss: 0.0852 - accuracy: 0.9910\n",
      "Epoch 185/250\n",
      "32/32 [==============================] - 0s 1ms/step - loss: 0.0894 - accuracy: 0.9919\n",
      "Epoch 186/250\n",
      "32/32 [==============================] - 0s 1ms/step - loss: 0.0830 - accuracy: 0.9884\n",
      "Epoch 187/250\n",
      "32/32 [==============================] - 0s 1ms/step - loss: 0.0813 - accuracy: 0.9943\n",
      "Epoch 188/250\n",
      "32/32 [==============================] - 0s 1ms/step - loss: 0.0789 - accuracy: 0.9919\n",
      "Epoch 189/250\n",
      "32/32 [==============================] - 0s 1ms/step - loss: 0.0799 - accuracy: 0.9904\n",
      "Epoch 190/250\n",
      "32/32 [==============================] - 0s 1ms/step - loss: 0.0795 - accuracy: 0.9910\n",
      "Epoch 191/250\n",
      "32/32 [==============================] - 0s 1ms/step - loss: 0.0806 - accuracy: 0.9915\n",
      "Epoch 192/250\n",
      "32/32 [==============================] - 0s 1ms/step - loss: 0.0773 - accuracy: 0.9906\n",
      "Epoch 193/250\n",
      "32/32 [==============================] - 0s 1ms/step - loss: 0.0701 - accuracy: 0.9963\n",
      "Epoch 194/250\n",
      "32/32 [==============================] - 0s 1ms/step - loss: 0.0741 - accuracy: 0.9946\n",
      "Epoch 195/250\n",
      "32/32 [==============================] - 0s 1ms/step - loss: 0.0738 - accuracy: 0.9924\n",
      "Epoch 196/250\n",
      "32/32 [==============================] - 0s 1ms/step - loss: 0.0691 - accuracy: 0.9929\n",
      "Epoch 197/250\n",
      "32/32 [==============================] - 0s 1ms/step - loss: 0.0637 - accuracy: 0.9964\n",
      "Epoch 198/250\n",
      "32/32 [==============================] - 0s 1ms/step - loss: 0.0661 - accuracy: 0.9918\n",
      "Epoch 199/250\n",
      "32/32 [==============================] - 0s 1ms/step - loss: 0.0748 - accuracy: 0.9872\n",
      "Epoch 200/250\n",
      "32/32 [==============================] - 0s 1ms/step - loss: 0.0691 - accuracy: 0.9905\n",
      "Epoch 201/250\n",
      "32/32 [==============================] - 0s 1ms/step - loss: 0.0669 - accuracy: 0.9932\n",
      "Epoch 202/250\n",
      "32/32 [==============================] - 0s 1ms/step - loss: 0.0693 - accuracy: 0.9934\n",
      "Epoch 203/250\n",
      "32/32 [==============================] - 0s 1ms/step - loss: 0.0623 - accuracy: 0.9985\n",
      "Epoch 204/250\n",
      "32/32 [==============================] - 0s 1ms/step - loss: 0.0698 - accuracy: 0.9903\n",
      "Epoch 205/250\n",
      "32/32 [==============================] - 0s 1ms/step - loss: 0.0666 - accuracy: 0.9916\n",
      "Epoch 206/250\n",
      "32/32 [==============================] - 0s 1ms/step - loss: 0.0647 - accuracy: 0.9958\n",
      "Epoch 207/250\n",
      "32/32 [==============================] - 0s 1ms/step - loss: 0.0673 - accuracy: 0.9914\n",
      "Epoch 208/250\n",
      "32/32 [==============================] - 0s 1ms/step - loss: 0.0668 - accuracy: 0.9934\n",
      "Epoch 209/250\n",
      "32/32 [==============================] - 0s 1ms/step - loss: 0.0675 - accuracy: 0.9931\n",
      "Epoch 210/250\n",
      "32/32 [==============================] - 0s 1ms/step - loss: 0.0654 - accuracy: 0.9932\n",
      "Epoch 211/250\n",
      "32/32 [==============================] - 0s 1ms/step - loss: 0.0657 - accuracy: 0.9923\n",
      "Epoch 212/250\n",
      "32/32 [==============================] - 0s 1ms/step - loss: 0.0638 - accuracy: 0.9924\n",
      "Epoch 213/250\n",
      "32/32 [==============================] - 0s 1ms/step - loss: 0.0668 - accuracy: 0.9908\n",
      "Epoch 214/250\n",
      "32/32 [==============================] - 0s 1ms/step - loss: 0.0595 - accuracy: 0.9917\n",
      "Epoch 215/250\n",
      "32/32 [==============================] - 0s 1ms/step - loss: 0.0601 - accuracy: 0.9914\n",
      "Epoch 216/250\n",
      "32/32 [==============================] - 0s 1ms/step - loss: 0.0629 - accuracy: 0.9907\n",
      "Epoch 217/250\n",
      "32/32 [==============================] - 0s 1ms/step - loss: 0.0638 - accuracy: 0.9877\n",
      "Epoch 218/250\n",
      "32/32 [==============================] - 0s 1ms/step - loss: 0.0604 - accuracy: 0.9905\n",
      "Epoch 219/250\n",
      "32/32 [==============================] - 0s 1ms/step - loss: 0.0584 - accuracy: 0.9939\n",
      "Epoch 220/250\n",
      "32/32 [==============================] - 0s 1ms/step - loss: 0.0564 - accuracy: 0.9960\n",
      "Epoch 221/250\n",
      "32/32 [==============================] - 0s 1ms/step - loss: 0.0556 - accuracy: 0.9940\n",
      "Epoch 222/250\n",
      "32/32 [==============================] - 0s 1ms/step - loss: 0.0544 - accuracy: 0.9935\n",
      "Epoch 223/250\n",
      "32/32 [==============================] - 0s 1ms/step - loss: 0.0594 - accuracy: 0.9915\n",
      "Epoch 224/250\n",
      "32/32 [==============================] - 0s 1ms/step - loss: 0.0609 - accuracy: 0.9906\n",
      "Epoch 225/250\n",
      "32/32 [==============================] - 0s 1ms/step - loss: 0.0518 - accuracy: 0.9951\n",
      "Epoch 226/250\n",
      "32/32 [==============================] - 0s 1ms/step - loss: 0.0564 - accuracy: 0.9957\n",
      "Epoch 227/250\n",
      "32/32 [==============================] - 0s 2ms/step - loss: 0.0540 - accuracy: 0.9954\n",
      "Epoch 228/250\n",
      "32/32 [==============================] - 0s 1ms/step - loss: 0.0547 - accuracy: 0.9945\n",
      "Epoch 229/250\n",
      "32/32 [==============================] - 0s 1ms/step - loss: 0.0493 - accuracy: 0.9935\n",
      "Epoch 230/250\n",
      "32/32 [==============================] - 0s 1ms/step - loss: 0.0547 - accuracy: 0.9945\n",
      "Epoch 231/250\n",
      "32/32 [==============================] - 0s 1ms/step - loss: 0.0528 - accuracy: 0.9920\n",
      "Epoch 232/250\n",
      "32/32 [==============================] - 0s 1ms/step - loss: 0.0577 - accuracy: 0.9876\n",
      "Epoch 233/250\n",
      "32/32 [==============================] - 0s 1ms/step - loss: 0.0500 - accuracy: 0.9951\n",
      "Epoch 234/250\n",
      "32/32 [==============================] - 0s 1ms/step - loss: 0.0540 - accuracy: 0.9936\n",
      "Epoch 235/250\n",
      "32/32 [==============================] - 0s 1ms/step - loss: 0.0484 - accuracy: 0.9938\n",
      "Epoch 236/250\n",
      "32/32 [==============================] - 0s 1ms/step - loss: 0.0505 - accuracy: 0.9961\n",
      "Epoch 237/250\n",
      "32/32 [==============================] - 0s 1ms/step - loss: 0.0488 - accuracy: 0.9921\n",
      "Epoch 238/250\n",
      "32/32 [==============================] - 0s 1ms/step - loss: 0.0500 - accuracy: 0.9935\n",
      "Epoch 239/250\n",
      "32/32 [==============================] - 0s 1ms/step - loss: 0.0516 - accuracy: 0.9953\n",
      "Epoch 240/250\n",
      "32/32 [==============================] - 0s 1ms/step - loss: 0.0480 - accuracy: 0.9962\n",
      "Epoch 241/250\n",
      "32/32 [==============================] - 0s 1ms/step - loss: 0.0506 - accuracy: 0.9917\n",
      "Epoch 242/250\n",
      "32/32 [==============================] - 0s 1ms/step - loss: 0.0513 - accuracy: 0.9949\n",
      "Epoch 243/250\n",
      "32/32 [==============================] - 0s 1ms/step - loss: 0.0462 - accuracy: 0.9953\n",
      "Epoch 244/250\n",
      "32/32 [==============================] - 0s 1ms/step - loss: 0.0518 - accuracy: 0.9945\n",
      "Epoch 245/250\n"
     ]
    },
    {
     "name": "stdout",
     "output_type": "stream",
     "text": [
      "32/32 [==============================] - 0s 1ms/step - loss: 0.0479 - accuracy: 0.9941\n",
      "Epoch 246/250\n",
      "32/32 [==============================] - 0s 1ms/step - loss: 0.0485 - accuracy: 0.9916\n",
      "Epoch 247/250\n",
      "32/32 [==============================] - 0s 1ms/step - loss: 0.0472 - accuracy: 0.9962\n",
      "Epoch 248/250\n",
      "32/32 [==============================] - 0s 1ms/step - loss: 0.0454 - accuracy: 0.9947\n",
      "Epoch 249/250\n",
      "32/32 [==============================] - 0s 1ms/step - loss: 0.0425 - accuracy: 0.9965\n",
      "Epoch 250/250\n",
      "32/32 [==============================] - 0s 1ms/step - loss: 0.0494 - accuracy: 0.9915\n"
     ]
    }
   ],
   "source": [
    "# Changing the activation function of output layer\n",
    "# Set the random seed\n",
    "tf.random.set_seed(42)\n",
    "\n",
    "model_7= tf.keras.Sequential([\n",
    "    tf.keras.layers.Dense(4, activation='relu'),\n",
    "    tf.keras.layers.Dense(4, activation='relu'),\n",
    "    tf.keras.layers.Dense(1, activation='sigmoid')\n",
    "])\n",
    "\n",
    "model_7.compile(loss='binary_crossentropy',\n",
    "               optimizer= tf.keras.optimizers.Adam(lr=0.001),\n",
    "               metrics=['accuracy'])\n",
    "\n",
    "history= model_7.fit(X, y, epochs=250)"
   ]
  },
  {
   "cell_type": "code",
   "execution_count": 41,
   "id": "confirmed-chancellor",
   "metadata": {},
   "outputs": [
    {
     "name": "stdout",
     "output_type": "stream",
     "text": [
      "32/32 [==============================] - 0s 1ms/step - loss: 0.0459 - accuracy: 0.9920\n"
     ]
    },
    {
     "data": {
      "text/plain": [
       "[0.04593365639448166, 0.9919999837875366]"
      ]
     },
     "execution_count": 41,
     "metadata": {},
     "output_type": "execute_result"
    }
   ],
   "source": [
    "# Evaluate our model\n",
    "model_7.evaluate(X, y)"
   ]
  },
  {
   "cell_type": "code",
   "execution_count": 42,
   "id": "particular-amsterdam",
   "metadata": {},
   "outputs": [
    {
     "name": "stdout",
     "output_type": "stream",
     "text": [
      "Doing binary classification\n"
     ]
    },
    {
     "data": {
      "image/png": "[encoded data removed]",
      "text/plain": [
       "<Figure size 432x288 with 1 Axes>"
      ]
     },
     "metadata": {
      "needs_background": "light"
     },
     "output_type": "display_data"
    }
   ],
   "source": [
    "# visualize the prediction\n",
    "plot_decision_boundary(model_7, X, y)"
   ]
  },
  {
   "cell_type": "markdown",
   "id": "sought-tournament",
   "metadata": {},
   "source": [
    "### Linera and non-linear functions"
   ]
  },
  {
   "cell_type": "code",
   "execution_count": 43,
   "id": "potential-medline",
   "metadata": {},
   "outputs": [
    {
     "data": {
      "text/plain": [
       "<tf.Tensor: shape=(20,), dtype=float32, numpy=\n",
       "array([-10.,  -9.,  -8.,  -7.,  -6.,  -5.,  -4.,  -3.,  -2.,  -1.,   0.,\n",
       "         1.,   2.,   3.,   4.,   5.,   6.,   7.,   8.,   9.],\n",
       "      dtype=float32)>"
      ]
     },
     "execution_count": 43,
     "metadata": {},
     "output_type": "execute_result"
    }
   ],
   "source": [
    "# Create a toy tensor(similar to the data we pass into our model)\n",
    "A= tf.cast(tf.range(-10, 10), tf.float32)\n",
    "A\n"
   ]
  },
  {
   "cell_type": "code",
   "execution_count": 44,
   "id": "interim-insight",
   "metadata": {},
   "outputs": [
    {
     "data": {
      "text/plain": [
       "[<matplotlib.lines.Line2D at 0x7f819bd1a5b0>]"
      ]
     },
     "execution_count": 44,
     "metadata": {},
     "output_type": "execute_result"
    },
    {
     "data": {
      "image/png": "[encoded data removed]",
      "text/plain": [
       "<Figure size 432x288 with 1 Axes>"
      ]
     },
     "metadata": {
      "needs_background": "light"
     },
     "output_type": "display_data"
    }
   ],
   "source": [
    "# Visualize our toy tensor\n",
    "plt.plot(A)"
   ]
  },
  {
   "cell_type": "code",
   "execution_count": 45,
   "id": "italic-hypothetical",
   "metadata": {},
   "outputs": [],
   "source": [
    "# Replicating sigmoid\n",
    "def sigmoid(A):\n",
    "    return 1/(1+tf.exp(-A))"
   ]
  },
  {
   "cell_type": "code",
   "execution_count": 46,
   "id": "adequate-african",
   "metadata": {},
   "outputs": [
    {
     "data": {
      "image/png": "[encoded data removed]",
      "text/plain": [
       "<Figure size 432x288 with 1 Axes>"
      ]
     },
     "metadata": {
      "needs_background": "light"
     },
     "output_type": "display_data"
    }
   ],
   "source": [
    "plt.plot(sigmoid(A));"
   ]
  },
  {
   "cell_type": "markdown",
   "id": "passing-restaurant",
   "metadata": {},
   "source": [
    "### Evaluating and Improving our classification"
   ]
  },
  {
   "cell_type": "code",
   "execution_count": 47,
   "id": "intelligent-million",
   "metadata": {},
   "outputs": [
    {
     "data": {
      "text/plain": [
       "1000"
      ]
     },
     "execution_count": 47,
     "metadata": {},
     "output_type": "execute_result"
    }
   ],
   "source": [
    "len(X)"
   ]
  },
  {
   "cell_type": "code",
   "execution_count": 48,
   "id": "ranking-belle",
   "metadata": {},
   "outputs": [
    {
     "data": {
      "text/plain": [
       "((800, 2), (200, 2), (800,), (200,))"
      ]
     },
     "execution_count": 48,
     "metadata": {},
     "output_type": "execute_result"
    }
   ],
   "source": [
    "# Split train and test set\n",
    "X_train, y_train= X[:800], y[:800]\n",
    "X_test, y_test= X[800: ], y[800:]\n",
    "X_train.shape, X_test.shape, y_train.shape, y_test.shape"
   ]
  },
  {
   "cell_type": "code",
   "execution_count": 49,
   "id": "wired-shadow",
   "metadata": {},
   "outputs": [
    {
     "name": "stdout",
     "output_type": "stream",
     "text": [
      "Epoch 1/100\n",
      "25/25 [==============================] - 0s 1ms/step - loss: 0.6840 - accuracy: 0.5196\n",
      "Epoch 2/100\n",
      "25/25 [==============================] - 0s 2ms/step - loss: 0.6816 - accuracy: 0.5344\n",
      "Epoch 3/100\n",
      "25/25 [==============================] - 0s 2ms/step - loss: 0.6753 - accuracy: 0.5371\n",
      "Epoch 4/100\n",
      "25/25 [==============================] - 0s 1ms/step - loss: 0.6685 - accuracy: 0.5943\n",
      "Epoch 5/100\n",
      "25/25 [==============================] - 0s 2ms/step - loss: 0.6624 - accuracy: 0.5837\n",
      "Epoch 6/100\n",
      "25/25 [==============================] - 0s 2ms/step - loss: 0.6512 - accuracy: 0.5798\n",
      "Epoch 7/100\n",
      "25/25 [==============================] - 0s 1ms/step - loss: 0.6428 - accuracy: 0.6507\n",
      "Epoch 8/100\n",
      "25/25 [==============================] - 0s 1ms/step - loss: 0.6139 - accuracy: 0.7259\n",
      "Epoch 9/100\n",
      "25/25 [==============================] - 0s 2ms/step - loss: 0.6021 - accuracy: 0.7919\n",
      "Epoch 10/100\n",
      "25/25 [==============================] - 0s 1ms/step - loss: 0.5724 - accuracy: 0.7704\n",
      "Epoch 11/100\n",
      "25/25 [==============================] - 0s 2ms/step - loss: 0.5513 - accuracy: 0.7452\n",
      "Epoch 12/100\n",
      "25/25 [==============================] - 0s 2ms/step - loss: 0.4921 - accuracy: 0.7979\n",
      "Epoch 13/100\n",
      "25/25 [==============================] - 0s 1ms/step - loss: 0.4734 - accuracy: 0.7859\n",
      "Epoch 14/100\n",
      "25/25 [==============================] - 0s 1ms/step - loss: 0.4316 - accuracy: 0.8306\n",
      "Epoch 15/100\n",
      "25/25 [==============================] - 0s 1ms/step - loss: 0.3666 - accuracy: 0.9094\n",
      "Epoch 16/100\n",
      "25/25 [==============================] - 0s 2ms/step - loss: 0.3373 - accuracy: 0.9302\n",
      "Epoch 17/100\n",
      "25/25 [==============================] - 0s 2ms/step - loss: 0.2898 - accuracy: 0.9376\n",
      "Epoch 18/100\n",
      "25/25 [==============================] - 0s 2ms/step - loss: 0.2796 - accuracy: 0.9426\n",
      "Epoch 19/100\n",
      "25/25 [==============================] - 0s 1ms/step - loss: 0.2304 - accuracy: 0.9659\n",
      "Epoch 20/100\n",
      "25/25 [==============================] - 0s 1ms/step - loss: 0.2201 - accuracy: 0.9624\n",
      "Epoch 21/100\n",
      "25/25 [==============================] - 0s 1ms/step - loss: 0.1995 - accuracy: 0.9793\n",
      "Epoch 22/100\n",
      "25/25 [==============================] - 0s 1ms/step - loss: 0.1815 - accuracy: 0.9702\n",
      "Epoch 23/100\n",
      "25/25 [==============================] - 0s 1ms/step - loss: 0.1516 - accuracy: 0.9859\n",
      "Epoch 24/100\n",
      "25/25 [==============================] - 0s 1ms/step - loss: 0.1504 - accuracy: 0.9802\n",
      "Epoch 25/100\n",
      "25/25 [==============================] - 0s 2ms/step - loss: 0.1455 - accuracy: 0.9749\n",
      "Epoch 26/100\n",
      "25/25 [==============================] - 0s 2ms/step - loss: 0.1405 - accuracy: 0.9720\n",
      "Epoch 27/100\n",
      "25/25 [==============================] - 0s 1ms/step - loss: 0.1182 - accuracy: 0.9855\n",
      "Epoch 28/100\n",
      "25/25 [==============================] - 0s 1ms/step - loss: 0.1202 - accuracy: 0.9837\n",
      "Epoch 29/100\n",
      "25/25 [==============================] - 0s 1ms/step - loss: 0.1081 - accuracy: 0.9842\n",
      "Epoch 30/100\n",
      "25/25 [==============================] - 0s 1ms/step - loss: 0.1094 - accuracy: 0.9836\n",
      "Epoch 31/100\n",
      "25/25 [==============================] - 0s 2ms/step - loss: 0.1078 - accuracy: 0.9857\n",
      "Epoch 32/100\n",
      "25/25 [==============================] - 0s 1ms/step - loss: 0.1090 - accuracy: 0.9793\n",
      "Epoch 33/100\n",
      "25/25 [==============================] - 0s 2ms/step - loss: 0.1016 - accuracy: 0.9822\n",
      "Epoch 34/100\n",
      "25/25 [==============================] - 0s 1ms/step - loss: 0.0844 - accuracy: 0.9878\n",
      "Epoch 35/100\n",
      "25/25 [==============================] - 0s 2ms/step - loss: 0.0957 - accuracy: 0.9885\n",
      "Epoch 36/100\n",
      "25/25 [==============================] - 0s 1ms/step - loss: 0.0826 - accuracy: 0.9893\n",
      "Epoch 37/100\n",
      "25/25 [==============================] - 0s 2ms/step - loss: 0.0842 - accuracy: 0.9831\n",
      "Epoch 38/100\n",
      "25/25 [==============================] - 0s 1ms/step - loss: 0.0788 - accuracy: 0.9877\n",
      "Epoch 39/100\n",
      "25/25 [==============================] - 0s 2ms/step - loss: 0.0788 - accuracy: 0.9804\n",
      "Epoch 40/100\n",
      "25/25 [==============================] - 0s 1ms/step - loss: 0.0726 - accuracy: 0.9907\n",
      "Epoch 41/100\n",
      "25/25 [==============================] - 0s 2ms/step - loss: 0.0799 - accuracy: 0.9871\n",
      "Epoch 42/100\n",
      "25/25 [==============================] - 0s 1ms/step - loss: 0.0622 - accuracy: 0.9927\n",
      "Epoch 43/100\n",
      "25/25 [==============================] - 0s 2ms/step - loss: 0.0567 - accuracy: 0.9961\n",
      "Epoch 44/100\n",
      "25/25 [==============================] - 0s 1ms/step - loss: 0.0906 - accuracy: 0.9720\n",
      "Epoch 45/100\n",
      "25/25 [==============================] - 0s 1ms/step - loss: 0.0634 - accuracy: 0.9901\n",
      "Epoch 46/100\n",
      "25/25 [==============================] - 0s 1ms/step - loss: 0.0586 - accuracy: 0.9872\n",
      "Epoch 47/100\n",
      "25/25 [==============================] - 0s 1ms/step - loss: 0.0650 - accuracy: 0.9877\n",
      "Epoch 48/100\n",
      "25/25 [==============================] - 0s 1ms/step - loss: 0.0750 - accuracy: 0.9729\n",
      "Epoch 49/100\n",
      "25/25 [==============================] - 0s 1ms/step - loss: 0.0592 - accuracy: 0.9877\n",
      "Epoch 50/100\n",
      "25/25 [==============================] - 0s 2ms/step - loss: 0.0585 - accuracy: 0.9851\n",
      "Epoch 51/100\n",
      "25/25 [==============================] - 0s 1ms/step - loss: 0.0627 - accuracy: 0.9891\n",
      "Epoch 52/100\n",
      "25/25 [==============================] - 0s 1ms/step - loss: 0.0630 - accuracy: 0.9881\n",
      "Epoch 53/100\n",
      "25/25 [==============================] - 0s 2ms/step - loss: 0.0540 - accuracy: 0.9873\n",
      "Epoch 54/100\n",
      "25/25 [==============================] - 0s 1ms/step - loss: 0.0574 - accuracy: 0.9839\n",
      "Epoch 55/100\n",
      "25/25 [==============================] - 0s 1ms/step - loss: 0.0577 - accuracy: 0.9882\n",
      "Epoch 56/100\n",
      "25/25 [==============================] - 0s 1ms/step - loss: 0.0713 - accuracy: 0.9758\n",
      "Epoch 57/100\n",
      "25/25 [==============================] - 0s 1ms/step - loss: 0.0614 - accuracy: 0.9807\n",
      "Epoch 58/100\n",
      "25/25 [==============================] - 0s 1ms/step - loss: 0.0481 - accuracy: 0.9881\n",
      "Epoch 59/100\n",
      "25/25 [==============================] - 0s 1ms/step - loss: 0.0527 - accuracy: 0.9876\n",
      "Epoch 60/100\n",
      "25/25 [==============================] - 0s 1ms/step - loss: 0.0514 - accuracy: 0.9911\n",
      "Epoch 61/100\n",
      "25/25 [==============================] - 0s 1ms/step - loss: 0.0546 - accuracy: 0.9881\n",
      "Epoch 62/100\n",
      "25/25 [==============================] - 0s 1ms/step - loss: 0.0468 - accuracy: 0.9928\n",
      "Epoch 63/100\n",
      "25/25 [==============================] - 0s 1ms/step - loss: 0.0499 - accuracy: 0.9895\n",
      "Epoch 64/100\n",
      "25/25 [==============================] - 0s 1ms/step - loss: 0.0482 - accuracy: 0.9896\n",
      "Epoch 65/100\n",
      "25/25 [==============================] - 0s 1ms/step - loss: 0.0604 - accuracy: 0.9814\n",
      "Epoch 66/100\n",
      "25/25 [==============================] - 0s 1ms/step - loss: 0.0423 - accuracy: 0.9872\n",
      "Epoch 67/100\n",
      "25/25 [==============================] - 0s 1ms/step - loss: 0.0516 - accuracy: 0.9834\n",
      "Epoch 68/100\n",
      "25/25 [==============================] - 0s 1ms/step - loss: 0.0551 - accuracy: 0.9859\n",
      "Epoch 69/100\n",
      "25/25 [==============================] - 0s 1ms/step - loss: 0.0522 - accuracy: 0.9829\n",
      "Epoch 70/100\n",
      "25/25 [==============================] - 0s 1ms/step - loss: 0.0709 - accuracy: 0.9717\n",
      "Epoch 71/100\n",
      "25/25 [==============================] - 0s 1ms/step - loss: 0.0400 - accuracy: 0.9896\n",
      "Epoch 72/100\n",
      "25/25 [==============================] - 0s 1ms/step - loss: 0.0362 - accuracy: 0.9904\n",
      "Epoch 73/100\n",
      "25/25 [==============================] - 0s 1ms/step - loss: 0.0485 - accuracy: 0.9897\n",
      "Epoch 74/100\n",
      "25/25 [==============================] - 0s 1ms/step - loss: 0.0599 - accuracy: 0.9759\n",
      "Epoch 75/100\n",
      "25/25 [==============================] - 0s 1ms/step - loss: 0.0784 - accuracy: 0.9781\n",
      "Epoch 76/100\n",
      "25/25 [==============================] - 0s 1ms/step - loss: 0.0428 - accuracy: 0.9938\n",
      "Epoch 77/100\n",
      "25/25 [==============================] - 0s 1ms/step - loss: 0.0411 - accuracy: 0.9919\n",
      "Epoch 78/100\n",
      "25/25 [==============================] - 0s 1ms/step - loss: 0.0383 - accuracy: 0.9958\n",
      "Epoch 79/100\n",
      "25/25 [==============================] - 0s 1ms/step - loss: 0.0395 - accuracy: 0.9900\n",
      "Epoch 80/100\n",
      "25/25 [==============================] - 0s 1ms/step - loss: 0.0386 - accuracy: 0.9889\n",
      "Epoch 81/100\n",
      "25/25 [==============================] - 0s 1ms/step - loss: 0.0386 - accuracy: 0.9926\n",
      "Epoch 82/100\n",
      "25/25 [==============================] - 0s 1ms/step - loss: 0.0429 - accuracy: 0.9940\n",
      "Epoch 83/100\n"
     ]
    },
    {
     "name": "stdout",
     "output_type": "stream",
     "text": [
      "25/25 [==============================] - 0s 1ms/step - loss: 0.0444 - accuracy: 0.9861\n",
      "Epoch 84/100\n",
      "25/25 [==============================] - 0s 2ms/step - loss: 0.0445 - accuracy: 0.9841\n",
      "Epoch 85/100\n",
      "25/25 [==============================] - 0s 1ms/step - loss: 0.0492 - accuracy: 0.9837\n",
      "Epoch 86/100\n",
      "25/25 [==============================] - 0s 1ms/step - loss: 0.0350 - accuracy: 0.9960\n",
      "Epoch 87/100\n",
      "25/25 [==============================] - 0s 1ms/step - loss: 0.0373 - accuracy: 0.9854\n",
      "Epoch 88/100\n",
      "25/25 [==============================] - 0s 1ms/step - loss: 0.0364 - accuracy: 0.9886\n",
      "Epoch 89/100\n",
      "25/25 [==============================] - 0s 1ms/step - loss: 0.0433 - accuracy: 0.9892\n",
      "Epoch 90/100\n",
      "25/25 [==============================] - 0s 1ms/step - loss: 0.0492 - accuracy: 0.9836\n",
      "Epoch 91/100\n",
      "25/25 [==============================] - 0s 1ms/step - loss: 0.0474 - accuracy: 0.9835\n",
      "Epoch 92/100\n",
      "25/25 [==============================] - 0s 1ms/step - loss: 0.0440 - accuracy: 0.9882\n",
      "Epoch 93/100\n",
      "25/25 [==============================] - 0s 1ms/step - loss: 0.0266 - accuracy: 0.9947\n",
      "Epoch 94/100\n",
      "25/25 [==============================] - 0s 1ms/step - loss: 0.0297 - accuracy: 0.9956\n",
      "Epoch 95/100\n",
      "25/25 [==============================] - 0s 1ms/step - loss: 0.0319 - accuracy: 0.9959\n",
      "Epoch 96/100\n",
      "25/25 [==============================] - 0s 1ms/step - loss: 0.0395 - accuracy: 0.9878\n",
      "Epoch 97/100\n",
      "25/25 [==============================] - 0s 1ms/step - loss: 0.0441 - accuracy: 0.9854\n",
      "Epoch 98/100\n",
      "25/25 [==============================] - 0s 1ms/step - loss: 0.0295 - accuracy: 0.9964\n",
      "Epoch 99/100\n",
      "25/25 [==============================] - 0s 1ms/step - loss: 0.0279 - accuracy: 0.9932\n",
      "Epoch 100/100\n",
      "25/25 [==============================] - 0s 1ms/step - loss: 0.0365 - accuracy: 0.9888\n"
     ]
    }
   ],
   "source": [
    "# Fit on training data and evaluate on testing data\n",
    "tf.random.set_seed(42)\n",
    "#1. Build the model\n",
    "model_8= tf.keras.Sequential([\n",
    "    tf.keras.layers.Dense(4, activation= 'relu'),\n",
    "    tf.keras.layers.Dense(4, activation='relu'),\n",
    "    tf.keras.layers.Dense(1, activation='sigmoid')\n",
    "])\n",
    "\n",
    "# 2. Compile the model\n",
    "model_8.compile(loss='binary_crossentropy',\n",
    "               optimizer=tf.keras.optimizers.Adam(lr=0.01), \n",
    "               metrics=['accuracy'])\n",
    "#fit the model\n",
    "history= model_8.fit(X_train, y_train, epochs=100)"
   ]
  },
  {
   "cell_type": "code",
   "execution_count": 50,
   "id": "raised-institute",
   "metadata": {},
   "outputs": [
    {
     "name": "stdout",
     "output_type": "stream",
     "text": [
      "7/7 [==============================] - 0s 1ms/step - loss: 0.0245 - accuracy: 0.9950\n"
     ]
    },
    {
     "data": {
      "text/plain": [
       "[0.024508746340870857, 0.9950000047683716]"
      ]
     },
     "execution_count": 50,
     "metadata": {},
     "output_type": "execute_result"
    }
   ],
   "source": [
    "# Evaluate the model on test data set\n",
    "model_8.evaluate(X_test, y_test)"
   ]
  },
  {
   "cell_type": "code",
   "execution_count": 51,
   "id": "normal-census",
   "metadata": {},
   "outputs": [
    {
     "name": "stdout",
     "output_type": "stream",
     "text": [
      "Doing binary classification\n",
      "Doing binary classification\n"
     ]
    },
    {
     "data": {
      "image/png": "[encoded data removed]",
      "text/plain": [
       "<Figure size 864x432 with 2 Axes>"
      ]
     },
     "metadata": {
      "needs_background": "light"
     },
     "output_type": "display_data"
    }
   ],
   "source": [
    "#Plot the decision boundaries for training and test set\n",
    "plt.figure(figsize=(12, 6))\n",
    "plt.subplot(1, 2, 1)\n",
    "plt.title(\"Training\")\n",
    "plot_decision_boundary(model_8, X=X_train, y=y_train)\n",
    "plt.subplot(1, 2, 2)\n",
    "plt.title(\"Testing\")\n",
    "plot_decision_boundary(model_8, X=X_test, y= y_test)\n"
   ]
  },
  {
   "cell_type": "markdown",
   "id": "unauthorized-beatles",
   "metadata": {},
   "source": [
    "### Plot the loss(training) curve"
   ]
  },
  {
   "cell_type": "code",
   "execution_count": 52,
   "id": "southeast-export",
   "metadata": {},
   "outputs": [
    {
     "data": {
      "text/html": [
       "<div>\n",
       "<style scoped>\n",
       "    .dataframe tbody tr th:only-of-type {\n",
       "        vertical-align: middle;\n",
       "    }\n",
       "\n",
       "    .dataframe tbody tr th {\n",
       "        vertical-align: top;\n",
       "    }\n",
       "\n",
       "    .dataframe thead th {\n",
       "        text-align: right;\n",
       "    }\n",
       "</style>\n",
       "<table border=\"1\" class=\"dataframe\">\n",
       "  <thead>\n",
       "    <tr style=\"text-align: right;\">\n",
       "      <th></th>\n",
       "      <th>loss</th>\n",
       "      <th>accuracy</th>\n",
       "    </tr>\n",
       "  </thead>\n",
       "  <tbody>\n",
       "    <tr>\n",
       "      <th>0</th>\n",
       "      <td>0.684651</td>\n",
       "      <td>0.54250</td>\n",
       "    </tr>\n",
       "    <tr>\n",
       "      <th>1</th>\n",
       "      <td>0.677721</td>\n",
       "      <td>0.55250</td>\n",
       "    </tr>\n",
       "    <tr>\n",
       "      <th>2</th>\n",
       "      <td>0.673595</td>\n",
       "      <td>0.55125</td>\n",
       "    </tr>\n",
       "    <tr>\n",
       "      <th>3</th>\n",
       "      <td>0.668149</td>\n",
       "      <td>0.57750</td>\n",
       "    </tr>\n",
       "    <tr>\n",
       "      <th>4</th>\n",
       "      <td>0.663269</td>\n",
       "      <td>0.58500</td>\n",
       "    </tr>\n",
       "    <tr>\n",
       "      <th>...</th>\n",
       "      <td>...</td>\n",
       "      <td>...</td>\n",
       "    </tr>\n",
       "    <tr>\n",
       "      <th>95</th>\n",
       "      <td>0.038384</td>\n",
       "      <td>0.98875</td>\n",
       "    </tr>\n",
       "    <tr>\n",
       "      <th>96</th>\n",
       "      <td>0.037549</td>\n",
       "      <td>0.99000</td>\n",
       "    </tr>\n",
       "    <tr>\n",
       "      <th>97</th>\n",
       "      <td>0.036139</td>\n",
       "      <td>0.99250</td>\n",
       "    </tr>\n",
       "    <tr>\n",
       "      <th>98</th>\n",
       "      <td>0.035137</td>\n",
       "      <td>0.99250</td>\n",
       "    </tr>\n",
       "    <tr>\n",
       "      <th>99</th>\n",
       "      <td>0.035668</td>\n",
       "      <td>0.98625</td>\n",
       "    </tr>\n",
       "  </tbody>\n",
       "</table>\n",
       "<p>100 rows × 2 columns</p>\n",
       "</div>"
      ],
      "text/plain": [
       "        loss  accuracy\n",
       "0   0.684651   0.54250\n",
       "1   0.677721   0.55250\n",
       "2   0.673595   0.55125\n",
       "3   0.668149   0.57750\n",
       "4   0.663269   0.58500\n",
       "..       ...       ...\n",
       "95  0.038384   0.98875\n",
       "96  0.037549   0.99000\n",
       "97  0.036139   0.99250\n",
       "98  0.035137   0.99250\n",
       "99  0.035668   0.98625\n",
       "\n",
       "[100 rows x 2 columns]"
      ]
     },
     "execution_count": 52,
     "metadata": {},
     "output_type": "execute_result"
    }
   ],
   "source": [
    "# Convert the history object into DataFrame\n",
    "pd.DataFrame(history.history)"
   ]
  },
  {
   "cell_type": "code",
   "execution_count": 53,
   "id": "congressional-joyce",
   "metadata": {},
   "outputs": [
    {
     "data": {
      "text/plain": [
       "Text(0.5, 1.0, 'Model_8 loss curve')"
      ]
     },
     "execution_count": 53,
     "metadata": {},
     "output_type": "execute_result"
    },
    {
     "data": {
      "image/png": "[encoded data removed]",
      "text/plain": [
       "<Figure size 432x288 with 1 Axes>"
      ]
     },
     "metadata": {
      "needs_background": "light"
     },
     "output_type": "display_data"
    }
   ],
   "source": [
    "# Plot the curves\n",
    "pd.DataFrame(history.history).plot()\n",
    "plt.title('Model_8 loss curve')"
   ]
  },
  {
   "cell_type": "markdown",
   "id": "physical-postcard",
   "metadata": {},
   "source": [
    "### Finding the best learning rate"
   ]
  },
  {
   "cell_type": "code",
   "execution_count": 54,
   "id": "motivated-warning",
   "metadata": {},
   "outputs": [
    {
     "name": "stdout",
     "output_type": "stream",
     "text": [
      "Epoch 1/100\n",
      "25/25 [==============================] - 0s 1ms/step - loss: 0.6909 - accuracy: 0.5016\n",
      "Epoch 2/100\n",
      "25/25 [==============================] - 0s 1ms/step - loss: 0.6929 - accuracy: 0.5065\n",
      "Epoch 3/100\n",
      "25/25 [==============================] - 0s 1ms/step - loss: 0.6925 - accuracy: 0.5094\n",
      "Epoch 4/100\n",
      "25/25 [==============================] - 0s 1ms/step - loss: 0.6945 - accuracy: 0.4864\n",
      "Epoch 5/100\n",
      "25/25 [==============================] - 0s 2ms/step - loss: 0.6968 - accuracy: 0.4857\n",
      "Epoch 6/100\n",
      "25/25 [==============================] - 0s 1ms/step - loss: 0.6848 - accuracy: 0.5191\n",
      "Epoch 7/100\n",
      "25/25 [==============================] - 0s 1ms/step - loss: 0.6799 - accuracy: 0.5292\n",
      "Epoch 8/100\n",
      "25/25 [==============================] - 0s 2ms/step - loss: 0.6845 - accuracy: 0.5055\n",
      "Epoch 9/100\n",
      "25/25 [==============================] - 0s 2ms/step - loss: 0.6934 - accuracy: 0.4750\n",
      "Epoch 10/100\n",
      "25/25 [==============================] - 0s 1ms/step - loss: 0.6906 - accuracy: 0.4965\n",
      "Epoch 11/100\n",
      "25/25 [==============================] - 0s 1ms/step - loss: 0.6864 - accuracy: 0.5259\n",
      "Epoch 12/100\n",
      "25/25 [==============================] - 0s 2ms/step - loss: 0.6859 - accuracy: 0.5104\n",
      "Epoch 13/100\n",
      "25/25 [==============================] - 0s 1ms/step - loss: 0.6856 - accuracy: 0.5138\n",
      "Epoch 14/100\n",
      "25/25 [==============================] - 0s 2ms/step - loss: 0.6910 - accuracy: 0.4744\n",
      "Epoch 15/100\n",
      "25/25 [==============================] - 0s 2ms/step - loss: 0.6833 - accuracy: 0.5307\n",
      "Epoch 16/100\n",
      "25/25 [==============================] - 0s 1ms/step - loss: 0.6856 - accuracy: 0.5072\n",
      "Epoch 17/100\n",
      "25/25 [==============================] - 0s 1ms/step - loss: 0.6858 - accuracy: 0.4996\n",
      "Epoch 18/100\n",
      "25/25 [==============================] - 0s 1ms/step - loss: 0.6847 - accuracy: 0.5168\n",
      "Epoch 19/100\n",
      "25/25 [==============================] - 0s 2ms/step - loss: 0.6806 - accuracy: 0.5278\n",
      "Epoch 20/100\n",
      "25/25 [==============================] - 0s 1ms/step - loss: 0.6790 - accuracy: 0.5394\n",
      "Epoch 21/100\n",
      "25/25 [==============================] - 0s 1ms/step - loss: 0.6810 - accuracy: 0.5379\n",
      "Epoch 22/100\n",
      "25/25 [==============================] - 0s 1ms/step - loss: 0.6804 - accuracy: 0.5430\n",
      "Epoch 23/100\n",
      "25/25 [==============================] - 0s 1ms/step - loss: 0.6828 - accuracy: 0.5314\n",
      "Epoch 24/100\n",
      "25/25 [==============================] - 0s 1ms/step - loss: 0.6744 - accuracy: 0.5556\n",
      "Epoch 25/100\n",
      "25/25 [==============================] - 0s 987us/step - loss: 0.6765 - accuracy: 0.5559\n",
      "Epoch 26/100\n",
      "25/25 [==============================] - 0s 1ms/step - loss: 0.6818 - accuracy: 0.5207\n",
      "Epoch 27/100\n",
      "25/25 [==============================] - 0s 1ms/step - loss: 0.6721 - accuracy: 0.5742\n",
      "Epoch 28/100\n",
      "25/25 [==============================] - 0s 1ms/step - loss: 0.6762 - accuracy: 0.5452\n",
      "Epoch 29/100\n",
      "25/25 [==============================] - 0s 1ms/step - loss: 0.6764 - accuracy: 0.5424\n",
      "Epoch 30/100\n",
      "25/25 [==============================] - 0s 1ms/step - loss: 0.6744 - accuracy: 0.5542\n",
      "Epoch 31/100\n",
      "25/25 [==============================] - 0s 1ms/step - loss: 0.6772 - accuracy: 0.5404\n",
      "Epoch 32/100\n",
      "25/25 [==============================] - 0s 2ms/step - loss: 0.6696 - accuracy: 0.5664\n",
      "Epoch 33/100\n",
      "25/25 [==============================] - 0s 1ms/step - loss: 0.6705 - accuracy: 0.5502\n",
      "Epoch 34/100\n",
      "25/25 [==============================] - 0s 1ms/step - loss: 0.6657 - accuracy: 0.5524\n",
      "Epoch 35/100\n",
      "25/25 [==============================] - 0s 2ms/step - loss: 0.6695 - accuracy: 0.5621\n",
      "Epoch 36/100\n",
      "25/25 [==============================] - 0s 1ms/step - loss: 0.6652 - accuracy: 0.5660\n",
      "Epoch 37/100\n",
      "25/25 [==============================] - 0s 1ms/step - loss: 0.6552 - accuracy: 0.5703\n",
      "Epoch 38/100\n",
      "25/25 [==============================] - 0s 2ms/step - loss: 0.6531 - accuracy: 0.5819\n",
      "Epoch 39/100\n",
      "25/25 [==============================] - 0s 2ms/step - loss: 0.6485 - accuracy: 0.6921\n",
      "Epoch 40/100\n",
      "25/25 [==============================] - 0s 1ms/step - loss: 0.6142 - accuracy: 0.7194\n",
      "Epoch 41/100\n",
      "25/25 [==============================] - 0s 1ms/step - loss: 0.5983 - accuracy: 0.7564\n",
      "Epoch 42/100\n",
      "25/25 [==============================] - 0s 2ms/step - loss: 0.5866 - accuracy: 0.7109\n",
      "Epoch 43/100\n",
      "25/25 [==============================] - 0s 1ms/step - loss: 0.5444 - accuracy: 0.7511\n",
      "Epoch 44/100\n",
      "25/25 [==============================] - 0s 1ms/step - loss: 0.4765 - accuracy: 0.7952\n",
      "Epoch 45/100\n",
      "25/25 [==============================] - 0s 1ms/step - loss: 0.3716 - accuracy: 0.8875\n",
      "Epoch 46/100\n",
      "25/25 [==============================] - 0s 2ms/step - loss: 0.2789 - accuracy: 0.9369\n",
      "Epoch 47/100\n",
      "25/25 [==============================] - 0s 2ms/step - loss: 0.2261 - accuracy: 0.9392\n",
      "Epoch 48/100\n",
      "25/25 [==============================] - 0s 1ms/step - loss: 0.1354 - accuracy: 0.9691\n",
      "Epoch 49/100\n",
      "25/25 [==============================] - 0s 1ms/step - loss: 0.1294 - accuracy: 0.9682\n",
      "Epoch 50/100\n",
      "25/25 [==============================] - 0s 1ms/step - loss: 0.1028 - accuracy: 0.9710\n",
      "Epoch 51/100\n",
      "25/25 [==============================] - 0s 2ms/step - loss: 0.1123 - accuracy: 0.9665\n",
      "Epoch 52/100\n",
      "25/25 [==============================] - 0s 1ms/step - loss: 0.1396 - accuracy: 0.9507\n",
      "Epoch 53/100\n",
      "25/25 [==============================] - 0s 1ms/step - loss: 0.0664 - accuracy: 0.9919\n",
      "Epoch 54/100\n",
      "25/25 [==============================] - 0s 2ms/step - loss: 0.0996 - accuracy: 0.9652\n",
      "Epoch 55/100\n",
      "25/25 [==============================] - 0s 1ms/step - loss: 0.0749 - accuracy: 0.9637\n",
      "Epoch 56/100\n",
      "25/25 [==============================] - 0s 1ms/step - loss: 0.0925 - accuracy: 0.9599\n",
      "Epoch 57/100\n",
      "25/25 [==============================] - 0s 1ms/step - loss: 0.0959 - accuracy: 0.9559\n",
      "Epoch 58/100\n",
      "25/25 [==============================] - 0s 1ms/step - loss: 0.0589 - accuracy: 0.9791\n",
      "Epoch 59/100\n",
      "25/25 [==============================] - 0s 1ms/step - loss: 0.1396 - accuracy: 0.9414\n",
      "Epoch 60/100\n",
      "25/25 [==============================] - 0s 1ms/step - loss: 0.1984 - accuracy: 0.9402\n",
      "Epoch 61/100\n",
      "25/25 [==============================] - 0s 1ms/step - loss: 0.3837 - accuracy: 0.8748\n",
      "Epoch 62/100\n",
      "25/25 [==============================] - 0s 1ms/step - loss: 0.2513 - accuracy: 0.9518\n",
      "Epoch 63/100\n",
      "25/25 [==============================] - 0s 1ms/step - loss: 0.0806 - accuracy: 0.9760\n",
      "Epoch 64/100\n",
      "25/25 [==============================] - 0s 1ms/step - loss: 0.0640 - accuracy: 0.9842\n",
      "Epoch 65/100\n",
      "25/25 [==============================] - 0s 1ms/step - loss: 0.1304 - accuracy: 0.9506\n",
      "Epoch 66/100\n",
      "25/25 [==============================] - 0s 1ms/step - loss: 0.3355 - accuracy: 0.8778\n",
      "Epoch 67/100\n",
      "25/25 [==============================] - 0s 2ms/step - loss: 0.1010 - accuracy: 0.9681\n",
      "Epoch 68/100\n",
      "25/25 [==============================] - 0s 1ms/step - loss: 0.0727 - accuracy: 0.9721\n",
      "Epoch 69/100\n",
      "25/25 [==============================] - 0s 1ms/step - loss: 0.1173 - accuracy: 0.9654\n",
      "Epoch 70/100\n",
      "25/25 [==============================] - 0s 1ms/step - loss: 0.1558 - accuracy: 0.9360\n",
      "Epoch 71/100\n",
      "25/25 [==============================] - 0s 1ms/step - loss: 0.4303 - accuracy: 0.8378\n",
      "Epoch 72/100\n",
      "25/25 [==============================] - 0s 1ms/step - loss: 0.1882 - accuracy: 0.9261\n",
      "Epoch 73/100\n",
      "25/25 [==============================] - 0s 1ms/step - loss: 0.2430 - accuracy: 0.9164\n",
      "Epoch 74/100\n",
      "25/25 [==============================] - 0s 1ms/step - loss: 0.1056 - accuracy: 0.9649\n",
      "Epoch 75/100\n",
      "25/25 [==============================] - 0s 1ms/step - loss: 0.1084 - accuracy: 0.9617\n",
      "Epoch 76/100\n",
      "25/25 [==============================] - 0s 1ms/step - loss: 0.1842 - accuracy: 0.9264\n",
      "Epoch 77/100\n",
      "25/25 [==============================] - 0s 1ms/step - loss: 0.2154 - accuracy: 0.8986\n",
      "Epoch 78/100\n",
      "25/25 [==============================] - 0s 1ms/step - loss: 0.2980 - accuracy: 0.8940\n",
      "Epoch 79/100\n",
      "25/25 [==============================] - 0s 1ms/step - loss: 0.5676 - accuracy: 0.6766\n",
      "Epoch 80/100\n",
      "25/25 [==============================] - 0s 1ms/step - loss: 0.5818 - accuracy: 0.7261\n",
      "Epoch 81/100\n",
      "25/25 [==============================] - 0s 1ms/step - loss: 0.4796 - accuracy: 0.7721\n",
      "Epoch 82/100\n",
      "25/25 [==============================] - 0s 1ms/step - loss: 0.5401 - accuracy: 0.7006\n"
     ]
    },
    {
     "name": "stdout",
     "output_type": "stream",
     "text": [
      "Epoch 83/100\n",
      "25/25 [==============================] - 0s 1ms/step - loss: 0.6821 - accuracy: 0.5367\n",
      "Epoch 84/100\n",
      "25/25 [==============================] - 0s 1ms/step - loss: 0.7051 - accuracy: 0.5069\n",
      "Epoch 85/100\n",
      "25/25 [==============================] - 0s 1ms/step - loss: 0.7127 - accuracy: 0.5162\n",
      "Epoch 86/100\n",
      "25/25 [==============================] - 0s 1ms/step - loss: 0.7420 - accuracy: 0.5080\n",
      "Epoch 87/100\n",
      "25/25 [==============================] - 0s 1ms/step - loss: 0.7941 - accuracy: 0.5224\n",
      "Epoch 88/100\n",
      "25/25 [==============================] - 0s 1ms/step - loss: 0.7580 - accuracy: 0.4976\n",
      "Epoch 89/100\n",
      "25/25 [==============================] - 0s 1ms/step - loss: 0.7708 - accuracy: 0.5050\n",
      "Epoch 90/100\n",
      "25/25 [==============================] - 0s 1ms/step - loss: 0.7315 - accuracy: 0.5469\n",
      "Epoch 91/100\n",
      "25/25 [==============================] - 0s 1ms/step - loss: 0.8386 - accuracy: 0.5043\n",
      "Epoch 92/100\n",
      "25/25 [==============================] - 0s 1ms/step - loss: 0.7281 - accuracy: 0.4850\n",
      "Epoch 93/100\n",
      "25/25 [==============================] - 0s 1ms/step - loss: 0.7307 - accuracy: 0.5075\n",
      "Epoch 94/100\n",
      "25/25 [==============================] - 0s 1ms/step - loss: 0.7881 - accuracy: 0.4738\n",
      "Epoch 95/100\n",
      "25/25 [==============================] - 0s 1ms/step - loss: 0.8853 - accuracy: 0.4668\n",
      "Epoch 96/100\n",
      "25/25 [==============================] - 0s 1ms/step - loss: 0.8300 - accuracy: 0.4703\n",
      "Epoch 97/100\n",
      "25/25 [==============================] - 0s 1ms/step - loss: 0.7690 - accuracy: 0.4644\n",
      "Epoch 98/100\n",
      "25/25 [==============================] - 0s 2ms/step - loss: 0.9181 - accuracy: 0.4847\n",
      "Epoch 99/100\n",
      "25/25 [==============================] - 0s 1ms/step - loss: 1.0102 - accuracy: 0.4745\n",
      "Epoch 100/100\n",
      "25/25 [==============================] - 0s 1ms/step - loss: 0.8394 - accuracy: 0.4538\n"
     ]
    }
   ],
   "source": [
    "# Learning rate callback\n",
    "# set the random seed\n",
    "tf.random.set_seed(42)\n",
    "# Create a model\n",
    "model_9= tf.keras.Sequential([\n",
    "    tf.keras.layers.Dense(4, activation='relu'),\n",
    "    tf.keras.layers.Dense(4, activation='relu'),\n",
    "    tf.keras.layers.Dense(1, activation='sigmoid')\n",
    "])\n",
    "\n",
    "model_9.compile(loss='binary_crossentropy',\n",
    "               optimizer=tf.keras.optimizers.Adam(),\n",
    "               metrics=['accuracy'])\n",
    "\n",
    "# Create a learning rate callback\n",
    "lr_scheduler= tf.keras.callbacks.LearningRateScheduler(lambda epoch:1e-4 *10**(epoch/20) )\n",
    "\n",
    "# Fit the model (passing lr_scheduler callback)\n",
    "history_9= model_9.fit(X_train, y_train, epochs=100, callbacks=[lr_scheduler])"
   ]
  },
  {
   "cell_type": "code",
   "execution_count": 55,
   "id": "hazardous-biology",
   "metadata": {},
   "outputs": [
    {
     "data": {
      "text/plain": [
       "<matplotlib.axes._subplots.AxesSubplot at 0x7f819ae5b8e0>"
      ]
     },
     "execution_count": 55,
     "metadata": {},
     "output_type": "execute_result"
    },
    {
     "data": {
      "image/png": "[encoded data removed]",
      "text/plain": [
       "<Figure size 432x288 with 1 Axes>"
      ]
     },
     "metadata": {
      "needs_background": "light"
     },
     "output_type": "display_data"
    }
   ],
   "source": [
    "# Check out the history\n",
    "pd.DataFrame(history_9.history).plot()"
   ]
  },
  {
   "cell_type": "code",
   "execution_count": 56,
   "id": "rocky-stamp",
   "metadata": {},
   "outputs": [
    {
     "data": {
      "text/plain": [
       "Text(0.5, 1.0, 'Learning rate vs. Loss')"
      ]
     },
     "execution_count": 56,
     "metadata": {},
     "output_type": "execute_result"
    },
    {
     "data": {
      "image/png": "[encoded data removed]",
      "text/plain": [
       "<Figure size 720x504 with 1 Axes>"
      ]
     },
     "metadata": {
      "needs_background": "light"
     },
     "output_type": "display_data"
    }
   ],
   "source": [
    "# Plot the learning rate versus the loss\n",
    "lrs= 1e-4*(10**(tf.range(100)/20))\n",
    "plt.figure(figsize=(10, 7))\n",
    "plt.semilogx(lrs, history_9.history['loss'])\n",
    "plt.xlabel('Learning rate')\n",
    "plt.ylabel('Loss')\n",
    "plt.title('Learning rate vs. Loss')"
   ]
  },
  {
   "cell_type": "code",
   "execution_count": 57,
   "id": "willing-prevention",
   "metadata": {},
   "outputs": [
    {
     "name": "stdout",
     "output_type": "stream",
     "text": [
      "Epoch 1/20\n",
      "25/25 [==============================] - 0s 1ms/step - loss: 0.6834 - accuracy: 0.5400\n",
      "Epoch 2/20\n",
      "25/25 [==============================] - 0s 1ms/step - loss: 0.6778 - accuracy: 0.5511\n",
      "Epoch 3/20\n",
      "25/25 [==============================] - 0s 2ms/step - loss: 0.6638 - accuracy: 0.5568\n",
      "Epoch 4/20\n",
      "25/25 [==============================] - 0s 2ms/step - loss: 0.6416 - accuracy: 0.6380\n",
      "Epoch 5/20\n",
      "25/25 [==============================] - 0s 1ms/step - loss: 0.5957 - accuracy: 0.7609\n",
      "Epoch 6/20\n",
      "25/25 [==============================] - 0s 1ms/step - loss: 0.5134 - accuracy: 0.8213\n",
      "Epoch 7/20\n",
      "25/25 [==============================] - 0s 1ms/step - loss: 0.4595 - accuracy: 0.8078\n",
      "Epoch 8/20\n",
      "25/25 [==============================] - 0s 2ms/step - loss: 0.3685 - accuracy: 0.8941\n",
      "Epoch 9/20\n",
      "25/25 [==============================] - 0s 1ms/step - loss: 0.3248 - accuracy: 0.9016\n",
      "Epoch 10/20\n",
      "25/25 [==============================] - 0s 1ms/step - loss: 0.2665 - accuracy: 0.9386\n",
      "Epoch 11/20\n",
      "25/25 [==============================] - 0s 1ms/step - loss: 0.2211 - accuracy: 0.9536\n",
      "Epoch 12/20\n",
      "25/25 [==============================] - 0s 2ms/step - loss: 0.1679 - accuracy: 0.9799\n",
      "Epoch 13/20\n",
      "25/25 [==============================] - 0s 1ms/step - loss: 0.1479 - accuracy: 0.9869\n",
      "Epoch 14/20\n",
      "25/25 [==============================] - 0s 1ms/step - loss: 0.1435 - accuracy: 0.9790\n",
      "Epoch 15/20\n",
      "25/25 [==============================] - 0s 2ms/step - loss: 0.1123 - accuracy: 0.9895\n",
      "Epoch 16/20\n",
      "25/25 [==============================] - 0s 1ms/step - loss: 0.1022 - accuracy: 0.9964\n",
      "Epoch 17/20\n",
      "25/25 [==============================] - 0s 1ms/step - loss: 0.0805 - accuracy: 0.9975\n",
      "Epoch 18/20\n",
      "25/25 [==============================] - 0s 2ms/step - loss: 0.0816 - accuracy: 0.9977\n",
      "Epoch 19/20\n",
      "25/25 [==============================] - 0s 1ms/step - loss: 0.0789 - accuracy: 0.9922\n",
      "Epoch 20/20\n",
      "25/25 [==============================] - 0s 1ms/step - loss: 0.0878 - accuracy: 0.9824\n"
     ]
    }
   ],
   "source": [
    "## Trying a higher learning rate with the same model\n",
    "tf.random.set_seed(42)\n",
    "# 1. Create  a model\n",
    "model_10= tf.keras.Sequential([\n",
    "    tf.keras.layers.Dense(4, activation='relu'),\n",
    "    tf.keras.layers.Dense(4, activation='relu'),\n",
    "    tf.keras.layers.Dense(1, activation='sigmoid')\n",
    "])\n",
    "# 2. compile the model with ideal learning rate\n",
    "model_10.compile(loss='binary_crossentropy',\n",
    "                optimizer=tf.keras.optimizers.Adam(lr=0.02),\n",
    "                metrics=['accuracy'])\n",
    "\n",
    "# 3. Fit the model for 20 epochs\n",
    "history_10= model_10.fit(X_train, y_train, epochs=20)\n"
   ]
  },
  {
   "cell_type": "code",
   "execution_count": 58,
   "id": "revised-effects",
   "metadata": {},
   "outputs": [
    {
     "name": "stdout",
     "output_type": "stream",
     "text": [
      "7/7 [==============================] - 0s 1ms/step - loss: 0.0574 - accuracy: 0.9900\n"
     ]
    },
    {
     "data": {
      "text/plain": [
       "[0.05740181356668472, 0.9900000095367432]"
      ]
     },
     "execution_count": 58,
     "metadata": {},
     "output_type": "execute_result"
    }
   ],
   "source": [
    "# Evaluate model_10 on test dataset\n",
    "model_10.evaluate(X_test, y_test)"
   ]
  },
  {
   "cell_type": "code",
   "execution_count": 59,
   "id": "suited-forum",
   "metadata": {},
   "outputs": [
    {
     "name": "stdout",
     "output_type": "stream",
     "text": [
      "7/7 [==============================] - 0s 2ms/step - loss: 0.0245 - accuracy: 0.9950\n"
     ]
    },
    {
     "data": {
      "text/plain": [
       "[0.024508746340870857, 0.9950000047683716]"
      ]
     },
     "execution_count": 59,
     "metadata": {},
     "output_type": "execute_result"
    }
   ],
   "source": [
    "# Evaluate model_8\n",
    "model_8.evaluate(X_test, y_test)"
   ]
  },
  {
   "cell_type": "code",
   "execution_count": 60,
   "id": "incorporated-webcam",
   "metadata": {},
   "outputs": [
    {
     "name": "stdout",
     "output_type": "stream",
     "text": [
      "Doing binary classification\n",
      "Doing binary classification\n"
     ]
    },
    {
     "data": {
      "image/png": "[encoded data removed]",
      "text/plain": [
       "<Figure size 720x360 with 2 Axes>"
      ]
     },
     "metadata": {
      "needs_background": "light"
     },
     "output_type": "display_data"
    }
   ],
   "source": [
    "# Plot the decision boundaries for training and test sets\n",
    "plt.figure(figsize=(10,5))\n",
    "plt.subplot(1,2,1)\n",
    "plt.title('Train')\n",
    "plot_decision_boundary(model_10, X=X_train, y=y_train)\n",
    "plt.subplot(1, 2, 2)\n",
    "plt.title(\"Test\")\n",
    "plot_decision_boundary(model_10, X=X_test, y=y_test)\n",
    "plt.show()"
   ]
  },
  {
   "cell_type": "markdown",
   "id": "divided-single",
   "metadata": {},
   "source": [
    "### More classification evaluation methods: Accuracy, Precision, Recall, F1-score, Confusion matrix\n"
   ]
  },
  {
   "cell_type": "code",
   "execution_count": 61,
   "id": "mexican-breath",
   "metadata": {},
   "outputs": [
    {
     "name": "stdout",
     "output_type": "stream",
     "text": [
      "7/7 [==============================] - 0s 2ms/step - loss: 0.0574 - accuracy: 0.9900\n",
      "Model loss on the test set: 0.05740181356668472\n",
      "Model accuracy on the test set:  99.00\n"
     ]
    }
   ],
   "source": [
    "## Check the accuracy of our model\n",
    "loss, accuracy= model_10.evaluate(X_test, y_test)\n",
    "print(f\"Model loss on the test set: {loss}\")\n",
    "print(f\"Model accuracy on the test set: {(accuracy)*100: .2f}\")"
   ]
  },
  {
   "cell_type": "code",
   "execution_count": 62,
   "id": "governing-primary",
   "metadata": {},
   "outputs": [
    {
     "ename": "ValueError",
     "evalue": "Classification metrics can't handle a mix of binary and continuous targets",
     "output_type": "error",
     "traceback": [
      "\u001b[0;31m---------------------------------------------------------------------------\u001b[0m",
      "\u001b[0;31mValueError\u001b[0m                                Traceback (most recent call last)",
      "\u001b[0;32m<ipython-input-62-7c4cb86b1afb>\u001b[0m in \u001b[0;36m<module>\u001b[0;34m\u001b[0m\n\u001b[1;32m      3\u001b[0m \u001b[0;31m# Make predictions\u001b[0m\u001b[0;34m\u001b[0m\u001b[0;34m\u001b[0m\u001b[0;34m\u001b[0m\u001b[0m\n\u001b[1;32m      4\u001b[0m \u001b[0my_preds\u001b[0m\u001b[0;34m=\u001b[0m \u001b[0mmodel_10\u001b[0m\u001b[0;34m.\u001b[0m\u001b[0mpredict\u001b[0m\u001b[0;34m(\u001b[0m\u001b[0mX_test\u001b[0m\u001b[0;34m)\u001b[0m\u001b[0;34m\u001b[0m\u001b[0;34m\u001b[0m\u001b[0m\n\u001b[0;32m----> 5\u001b[0;31m \u001b[0mconfusion_matrix\u001b[0m\u001b[0;34m(\u001b[0m\u001b[0my_test\u001b[0m\u001b[0;34m,\u001b[0m \u001b[0my_preds\u001b[0m\u001b[0;34m)\u001b[0m\u001b[0;34m\u001b[0m\u001b[0;34m\u001b[0m\u001b[0m\n\u001b[0m",
      "\u001b[0;32m~/.local/lib/python3.8/site-packages/sklearn/utils/validation.py\u001b[0m in \u001b[0;36minner_f\u001b[0;34m(*args, **kwargs)\u001b[0m\n\u001b[1;32m     61\u001b[0m             \u001b[0mextra_args\u001b[0m \u001b[0;34m=\u001b[0m \u001b[0mlen\u001b[0m\u001b[0;34m(\u001b[0m\u001b[0margs\u001b[0m\u001b[0;34m)\u001b[0m \u001b[0;34m-\u001b[0m \u001b[0mlen\u001b[0m\u001b[0;34m(\u001b[0m\u001b[0mall_args\u001b[0m\u001b[0;34m)\u001b[0m\u001b[0;34m\u001b[0m\u001b[0;34m\u001b[0m\u001b[0m\n\u001b[1;32m     62\u001b[0m             \u001b[0;32mif\u001b[0m \u001b[0mextra_args\u001b[0m \u001b[0;34m<=\u001b[0m \u001b[0;36m0\u001b[0m\u001b[0;34m:\u001b[0m\u001b[0;34m\u001b[0m\u001b[0;34m\u001b[0m\u001b[0m\n\u001b[0;32m---> 63\u001b[0;31m                 \u001b[0;32mreturn\u001b[0m \u001b[0mf\u001b[0m\u001b[0;34m(\u001b[0m\u001b[0;34m*\u001b[0m\u001b[0margs\u001b[0m\u001b[0;34m,\u001b[0m \u001b[0;34m**\u001b[0m\u001b[0mkwargs\u001b[0m\u001b[0;34m)\u001b[0m\u001b[0;34m\u001b[0m\u001b[0;34m\u001b[0m\u001b[0m\n\u001b[0m\u001b[1;32m     64\u001b[0m \u001b[0;34m\u001b[0m\u001b[0m\n\u001b[1;32m     65\u001b[0m             \u001b[0;31m# extra_args > 0\u001b[0m\u001b[0;34m\u001b[0m\u001b[0;34m\u001b[0m\u001b[0;34m\u001b[0m\u001b[0m\n",
      "\u001b[0;32m~/.local/lib/python3.8/site-packages/sklearn/metrics/_classification.py\u001b[0m in \u001b[0;36mconfusion_matrix\u001b[0;34m(y_true, y_pred, labels, sample_weight, normalize)\u001b[0m\n\u001b[1;32m    294\u001b[0m \u001b[0;34m\u001b[0m\u001b[0m\n\u001b[1;32m    295\u001b[0m     \"\"\"\n\u001b[0;32m--> 296\u001b[0;31m     \u001b[0my_type\u001b[0m\u001b[0;34m,\u001b[0m \u001b[0my_true\u001b[0m\u001b[0;34m,\u001b[0m \u001b[0my_pred\u001b[0m \u001b[0;34m=\u001b[0m \u001b[0m_check_targets\u001b[0m\u001b[0;34m(\u001b[0m\u001b[0my_true\u001b[0m\u001b[0;34m,\u001b[0m \u001b[0my_pred\u001b[0m\u001b[0;34m)\u001b[0m\u001b[0;34m\u001b[0m\u001b[0;34m\u001b[0m\u001b[0m\n\u001b[0m\u001b[1;32m    297\u001b[0m     \u001b[0;32mif\u001b[0m \u001b[0my_type\u001b[0m \u001b[0;32mnot\u001b[0m \u001b[0;32min\u001b[0m \u001b[0;34m(\u001b[0m\u001b[0;34m\"binary\"\u001b[0m\u001b[0;34m,\u001b[0m \u001b[0;34m\"multiclass\"\u001b[0m\u001b[0;34m)\u001b[0m\u001b[0;34m:\u001b[0m\u001b[0;34m\u001b[0m\u001b[0;34m\u001b[0m\u001b[0m\n\u001b[1;32m    298\u001b[0m         \u001b[0;32mraise\u001b[0m \u001b[0mValueError\u001b[0m\u001b[0;34m(\u001b[0m\u001b[0;34m\"%s is not supported\"\u001b[0m \u001b[0;34m%\u001b[0m \u001b[0my_type\u001b[0m\u001b[0;34m)\u001b[0m\u001b[0;34m\u001b[0m\u001b[0;34m\u001b[0m\u001b[0m\n",
      "\u001b[0;32m~/.local/lib/python3.8/site-packages/sklearn/metrics/_classification.py\u001b[0m in \u001b[0;36m_check_targets\u001b[0;34m(y_true, y_pred)\u001b[0m\n\u001b[1;32m     90\u001b[0m \u001b[0;34m\u001b[0m\u001b[0m\n\u001b[1;32m     91\u001b[0m     \u001b[0;32mif\u001b[0m \u001b[0mlen\u001b[0m\u001b[0;34m(\u001b[0m\u001b[0my_type\u001b[0m\u001b[0;34m)\u001b[0m \u001b[0;34m>\u001b[0m \u001b[0;36m1\u001b[0m\u001b[0;34m:\u001b[0m\u001b[0;34m\u001b[0m\u001b[0;34m\u001b[0m\u001b[0m\n\u001b[0;32m---> 92\u001b[0;31m         raise ValueError(\"Classification metrics can't handle a mix of {0} \"\n\u001b[0m\u001b[1;32m     93\u001b[0m                          \"and {1} targets\".format(type_true, type_pred))\n\u001b[1;32m     94\u001b[0m \u001b[0;34m\u001b[0m\u001b[0m\n",
      "\u001b[0;31mValueError\u001b[0m: Classification metrics can't handle a mix of binary and continuous targets"
     ]
    }
   ],
   "source": [
    "## Create a confusion matrix\n",
    "from sklearn.metrics import confusion_matrix\n",
    "# Make predictions\n",
    "y_preds= model_10.predict(X_test)\n",
    "confusion_matrix(y_test, y_preds)"
   ]
  },
  {
   "cell_type": "code",
   "execution_count": 63,
   "id": "administrative-hypothetical",
   "metadata": {},
   "outputs": [
    {
     "data": {
      "text/plain": [
       "<tf.Tensor: shape=(10, 1), dtype=float32, numpy=\n",
       "array([[1.],\n",
       "       [1.],\n",
       "       [1.],\n",
       "       [1.],\n",
       "       [0.],\n",
       "       [0.],\n",
       "       [1.],\n",
       "       [0.],\n",
       "       [1.],\n",
       "       [0.]], dtype=float32)>"
      ]
     },
     "execution_count": 63,
     "metadata": {},
     "output_type": "execute_result"
    }
   ],
   "source": [
    "# Convert the prediction probability to binary format \n",
    "tf.round(y_preds)[:10]"
   ]
  },
  {
   "cell_type": "code",
   "execution_count": 64,
   "id": "proof-lighting",
   "metadata": {},
   "outputs": [
    {
     "data": {
      "text/plain": [
       "array([[99,  2],\n",
       "       [ 0, 99]])"
      ]
     },
     "execution_count": 64,
     "metadata": {},
     "output_type": "execute_result"
    }
   ],
   "source": [
    "confusion_matrix(y_test, tf.round(y_preds))"
   ]
  },
  {
   "cell_type": "code",
   "execution_count": 65,
   "id": "outdoor-raleigh",
   "metadata": {},
   "outputs": [
    {
     "data": {
      "image/png": "[encoded data removed]",
      "text/plain": [
       "<Figure size 720x720 with 2 Axes>"
      ]
     },
     "metadata": {
      "needs_background": "light"
     },
     "output_type": "display_data"
    }
   ],
   "source": [
    "# Making a pretty confusion_matrix\n",
    "import itertools\n",
    "figsize=(10, 10)\n",
    "# Create the confusion matrix\n",
    "cm= confusion_matrix(y_test, tf.round(y_preds))\n",
    "cm_norm= cm.astype(\"float\")/cm.sum(axis= 1)[:, np.newaxis] # normalize our confusion_matrix\n",
    "n_classes= cm.shape[0]\n",
    "\n",
    "# Let's pretify it\n",
    "fig, ax= plt.subplots(figsize= figsize)\n",
    "# Create a matrix plot\n",
    "cax= ax.matshow(cm, cmap= plt.cm.Blues)\n",
    "fig.colorbar(cax)\n",
    "\n",
    "#create classes\n",
    "classes = False\n",
    "if classes:\n",
    "    labels= classes\n",
    "else:\n",
    "    labels= np.arange(cm.shape[0])\n",
    "    \n",
    "# Label the axes\n",
    "ax.set(title='Confusion Matrix',\n",
    "      xlabel='Predicted Label',\n",
    "      ylabel='True Label',\n",
    "      xticks= np.arange(n_classes),\n",
    "       yticks= np.arange(n_classes),\n",
    "       xticklabels=labels, \n",
    "       yticklabels= labels\n",
    "      )\n",
    "# Set the threshold for different colors\n",
    "threshold= (cm.max()+cm.min())/2.\n",
    "# Plot the text on each cell\n",
    "for i, j in itertools.product(range(cm.shape[0]), range(cm.shape[1])):\n",
    "    plt.text(j, i, f\" {cm[i, j]} ({cm_norm[i, j]*100: .1f}%)\",\n",
    "            horizontalalignment='center',\n",
    "            color='white' if cm[i, j]> threshold else 'black',\n",
    "             size=15)\n"
   ]
  },
  {
   "cell_type": "markdown",
   "id": "hidden-villa",
   "metadata": {},
   "source": [
    "### Working with a larger example: Multi-class classification"
   ]
  },
  {
   "cell_type": "code",
   "execution_count": 66,
   "id": "living-stone",
   "metadata": {},
   "outputs": [],
   "source": [
    "import tensorflow as tf\n",
    "from tensorflow.keras.datasets import fashion_mnist\n",
    "(train_data, train_labels), (test_data, test_labels) = fashion_mnist.load_data()\n",
    "\n"
   ]
  },
  {
   "cell_type": "code",
   "execution_count": 67,
   "id": "english-arcade",
   "metadata": {},
   "outputs": [
    {
     "name": "stdout",
     "output_type": "stream",
     "text": [
      "Training Sample: \n",
      " [[  0   0   0   0   0   0   0   0   0   0   0   0   0   0   0   0   0   0\n",
      "    0   0   0   0   0   0   0   0   0   0]\n",
      " [  0   0   0   0   0   0   0   0   0   0   0   0   0   0   0   0   0   0\n",
      "    0   0   0   0   0   0   0   0   0   0]\n",
      " [  0   0   0   0   0   0   0   0   0   0   0   0   0   0   0   0   0   0\n",
      "    0   0   0   0   0   0   0   0   0   0]\n",
      " [  0   0   0   0   0   0   0   0   0   0   0   0   1   0   0  13  73   0\n",
      "    0   1   4   0   0   0   0   1   1   0]\n",
      " [  0   0   0   0   0   0   0   0   0   0   0   0   3   0  36 136 127  62\n",
      "   54   0   0   0   1   3   4   0   0   3]\n",
      " [  0   0   0   0   0   0   0   0   0   0   0   0   6   0 102 204 176 134\n",
      "  144 123  23   0   0   0   0  12  10   0]\n",
      " [  0   0   0   0   0   0   0   0   0   0   0   0   0   0 155 236 207 178\n",
      "  107 156 161 109  64  23  77 130  72  15]\n",
      " [  0   0   0   0   0   0   0   0   0   0   0   1   0  69 207 223 218 216\n",
      "  216 163 127 121 122 146 141  88 172  66]\n",
      " [  0   0   0   0   0   0   0   0   0   1   1   1   0 200 232 232 233 229\n",
      "  223 223 215 213 164 127 123 196 229   0]\n",
      " [  0   0   0   0   0   0   0   0   0   0   0   0   0 183 225 216 223 228\n",
      "  235 227 224 222 224 221 223 245 173   0]\n",
      " [  0   0   0   0   0   0   0   0   0   0   0   0   0 193 228 218 213 198\n",
      "  180 212 210 211 213 223 220 243 202   0]\n",
      " [  0   0   0   0   0   0   0   0   0   1   3   0  12 219 220 212 218 192\n",
      "  169 227 208 218 224 212 226 197 209  52]\n",
      " [  0   0   0   0   0   0   0   0   0   0   6   0  99 244 222 220 218 203\n",
      "  198 221 215 213 222 220 245 119 167  56]\n",
      " [  0   0   0   0   0   0   0   0   0   4   0   0  55 236 228 230 228 240\n",
      "  232 213 218 223 234 217 217 209  92   0]\n",
      " [  0   0   1   4   6   7   2   0   0   0   0   0 237 226 217 223 222 219\n",
      "  222 221 216 223 229 215 218 255  77   0]\n",
      " [  0   3   0   0   0   0   0   0   0  62 145 204 228 207 213 221 218 208\n",
      "  211 218 224 223 219 215 224 244 159   0]\n",
      " [  0   0   0   0  18  44  82 107 189 228 220 222 217 226 200 205 211 230\n",
      "  224 234 176 188 250 248 233 238 215   0]\n",
      " [  0  57 187 208 224 221 224 208 204 214 208 209 200 159 245 193 206 223\n",
      "  255 255 221 234 221 211 220 232 246   0]\n",
      " [  3 202 228 224 221 211 211 214 205 205 205 220 240  80 150 255 229 221\n",
      "  188 154 191 210 204 209 222 228 225   0]\n",
      " [ 98 233 198 210 222 229 229 234 249 220 194 215 217 241  65  73 106 117\n",
      "  168 219 221 215 217 223 223 224 229  29]\n",
      " [ 75 204 212 204 193 205 211 225 216 185 197 206 198 213 240 195 227 245\n",
      "  239 223 218 212 209 222 220 221 230  67]\n",
      " [ 48 203 183 194 213 197 185 190 194 192 202 214 219 221 220 236 225 216\n",
      "  199 206 186 181 177 172 181 205 206 115]\n",
      " [  0 122 219 193 179 171 183 196 204 210 213 207 211 210 200 196 194 191\n",
      "  195 191 198 192 176 156 167 177 210  92]\n",
      " [  0   0  74 189 212 191 175 172 175 181 185 188 189 188 193 198 204 209\n",
      "  210 210 211 188 188 194 192 216 170   0]\n",
      " [  2   0   0   0  66 200 222 237 239 242 246 243 244 221 220 193 191 179\n",
      "  182 182 181 176 166 168  99  58   0   0]\n",
      " [  0   0   0   0   0   0   0  40  61  44  72  41  35   0   0   0   0   0\n",
      "    0   0   0   0   0   0   0   0   0   0]\n",
      " [  0   0   0   0   0   0   0   0   0   0   0   0   0   0   0   0   0   0\n",
      "    0   0   0   0   0   0   0   0   0   0]\n",
      " [  0   0   0   0   0   0   0   0   0   0   0   0   0   0   0   0   0   0\n",
      "    0   0   0   0   0   0   0   0   0   0]] \n",
      "\n",
      "Training Label: \n",
      " 9 \n",
      "\n"
     ]
    }
   ],
   "source": [
    "# Show the first training example\n",
    "print(f\"Training Sample: \\n {train_data[0]} \\n\")\n",
    "print(f\"Training Label: \\n {train_labels[0]} \\n\")"
   ]
  },
  {
   "cell_type": "code",
   "execution_count": 68,
   "id": "unauthorized-elder",
   "metadata": {},
   "outputs": [
    {
     "data": {
      "text/plain": [
       "((28, 28), ())"
      ]
     },
     "execution_count": 68,
     "metadata": {},
     "output_type": "execute_result"
    }
   ],
   "source": [
    "# Check the shape of a single example\n",
    "train_data[0].shape, train_labels[0].shape"
   ]
  },
  {
   "cell_type": "code",
   "execution_count": 69,
   "id": "aquatic-order",
   "metadata": {},
   "outputs": [
    {
     "data": {
      "text/plain": [
       "<matplotlib.image.AxesImage at 0x7f819baa8b80>"
      ]
     },
     "execution_count": 69,
     "metadata": {},
     "output_type": "execute_result"
    },
    {
     "data": {
      "image/png": "[encoded data removed]",
      "text/plain": [
       "<Figure size 432x288 with 1 Axes>"
      ]
     },
     "metadata": {
      "needs_background": "light"
     },
     "output_type": "display_data"
    }
   ],
   "source": [
    "# Plot a single sample\n",
    "import matplotlib.pyplot as plt\n",
    "plt.imshow(train_data[98])"
   ]
  },
  {
   "cell_type": "code",
   "execution_count": 70,
   "id": "communist-punishment",
   "metadata": {},
   "outputs": [
    {
     "data": {
      "text/plain": [
       "1"
      ]
     },
     "execution_count": 70,
     "metadata": {},
     "output_type": "execute_result"
    }
   ],
   "source": [
    "# Check out sample's label\n",
    "train_labels[98]"
   ]
  },
  {
   "cell_type": "code",
   "execution_count": 71,
   "id": "civic-induction",
   "metadata": {},
   "outputs": [],
   "source": [
    "# Create a small list so we can index onto our training labels so the are human readable\n",
    "class_names= ['T-shirt/top', 'Trouser', 'Pullover', 'Dress', 'Coat', 'Sandal', 'Shirt', 'Sneaker', 'Bag', \\\n",
    "              'Ankle Boot']"
   ]
  },
  {
   "cell_type": "code",
   "execution_count": 72,
   "id": "lightweight-theory",
   "metadata": {},
   "outputs": [
    {
     "data": {
      "text/plain": [
       "10"
      ]
     },
     "execution_count": 72,
     "metadata": {},
     "output_type": "execute_result"
    }
   ],
   "source": [
    "len(class_names)"
   ]
  },
  {
   "cell_type": "code",
   "execution_count": 73,
   "id": "absolute-professional",
   "metadata": {},
   "outputs": [
    {
     "data": {
      "text/plain": [
       "Text(0.5, 1.0, 'Bag')"
      ]
     },
     "execution_count": 73,
     "metadata": {},
     "output_type": "execute_result"
    },
    {
     "data": {
      "image/png": "[encoded data removed]",
      "text/plain": [
       "<Figure size 432x288 with 1 Axes>"
      ]
     },
     "metadata": {
      "needs_background": "light"
     },
     "output_type": "display_data"
    }
   ],
   "source": [
    "# Plot an example image and its label\n",
    "index=6000\n",
    "plt.imshow(train_data[index], cmap= plt.cm.binary)\n",
    "plt.title(class_names[train_labels[index]])"
   ]
  },
  {
   "cell_type": "code",
   "execution_count": 74,
   "id": "paperback-manor",
   "metadata": {},
   "outputs": [
    {
     "data": {
      "image/png": "[encoded data removed]",
      "text/plain": [
       "<Figure size 504x504 with 4 Axes>"
      ]
     },
     "metadata": {
      "needs_background": "light"
     },
     "output_type": "display_data"
    }
   ],
   "source": [
    "# Plot multiple random images of fashion MNIST\n",
    "import random \n",
    "plt.figure(figsize=(7, 7))\n",
    "for i in range(4):\n",
    "    ax= plt.subplot(2, 2, i+1)\n",
    "    rand_index= random.choice(range(len(train_data)))\n",
    "    plt.imshow(train_data[rand_index], cmap= plt.cm.binary)\n",
    "    plt.title(class_names[train_labels[rand_index]])\n",
    "    plt.axis(False)"
   ]
  },
  {
   "cell_type": "code",
   "execution_count": 75,
   "id": "sacred-assets",
   "metadata": {},
   "outputs": [
    {
     "data": {
      "text/plain": [
       "(28, 28)"
      ]
     },
     "execution_count": 75,
     "metadata": {},
     "output_type": "execute_result"
    }
   ],
   "source": [
    "### Building a multi-class classification model\n",
    "# Input shape: (28*28), the shape of image\n",
    "# Output shape: 10, one per class of clothing\n",
    "\n",
    "train_data[0].shape\n"
   ]
  },
  {
   "cell_type": "code",
   "execution_count": 83,
   "id": "compliant-plaintiff",
   "metadata": {},
   "outputs": [
    {
     "data": {
      "text/plain": [
       "<tf.Tensor: shape=(10, 10), dtype=float32, numpy=\n",
       "array([[0., 0., 0., 0., 0., 0., 0., 0., 0., 1.],\n",
       "       [1., 0., 0., 0., 0., 0., 0., 0., 0., 0.],\n",
       "       [1., 0., 0., 0., 0., 0., 0., 0., 0., 0.],\n",
       "       [0., 0., 0., 1., 0., 0., 0., 0., 0., 0.],\n",
       "       [1., 0., 0., 0., 0., 0., 0., 0., 0., 0.],\n",
       "       [0., 0., 1., 0., 0., 0., 0., 0., 0., 0.],\n",
       "       [0., 0., 0., 0., 0., 0., 0., 1., 0., 0.],\n",
       "       [0., 0., 1., 0., 0., 0., 0., 0., 0., 0.],\n",
       "       [0., 0., 0., 0., 0., 1., 0., 0., 0., 0.],\n",
       "       [0., 0., 0., 0., 0., 1., 0., 0., 0., 0.]], dtype=float32)>"
      ]
     },
     "execution_count": 83,
     "metadata": {},
     "output_type": "execute_result"
    }
   ],
   "source": [
    "tf.one_hot(train_labels[:10], depth=10)"
   ]
  },
  {
   "cell_type": "code",
   "execution_count": 78,
   "id": "chinese-fundamental",
   "metadata": {},
   "outputs": [
    {
     "name": "stdout",
     "output_type": "stream",
     "text": [
      "Epoch 1/10\n",
      "1875/1875 [==============================] - 6s 3ms/step - loss: 2.8183 - accuracy: 0.1348 - val_loss: 1.7726 - val_accuracy: 0.2123\n",
      "Epoch 2/10\n",
      "1875/1875 [==============================] - 4s 2ms/step - loss: 1.7280 - accuracy: 0.2359 - val_loss: 1.6434 - val_accuracy: 0.2845\n",
      "Epoch 3/10\n",
      "1875/1875 [==============================] - 4s 2ms/step - loss: 1.6328 - accuracy: 0.2821 - val_loss: 1.6045 - val_accuracy: 0.2853\n",
      "Epoch 4/10\n",
      "1875/1875 [==============================] - 4s 2ms/step - loss: 1.5992 - accuracy: 0.2860 - val_loss: 1.6178 - val_accuracy: 0.2838\n",
      "Epoch 5/10\n",
      "1875/1875 [==============================] - 4s 2ms/step - loss: 1.6097 - accuracy: 0.2826 - val_loss: 1.5945 - val_accuracy: 0.2868\n",
      "Epoch 6/10\n",
      "1875/1875 [==============================] - 4s 2ms/step - loss: 1.5883 - accuracy: 0.2863 - val_loss: 1.5755 - val_accuracy: 0.2831\n",
      "Epoch 7/10\n",
      "1875/1875 [==============================] - 4s 2ms/step - loss: 1.5785 - accuracy: 0.3017 - val_loss: 1.5792 - val_accuracy: 0.3027\n",
      "Epoch 8/10\n",
      "1875/1875 [==============================] - 4s 2ms/step - loss: 1.5778 - accuracy: 0.2995 - val_loss: 1.5972 - val_accuracy: 0.3057\n",
      "Epoch 9/10\n",
      "1875/1875 [==============================] - 4s 2ms/step - loss: 1.5795 - accuracy: 0.3097 - val_loss: 1.5653 - val_accuracy: 0.3348\n",
      "Epoch 10/10\n",
      "1875/1875 [==============================] - 4s 2ms/step - loss: 1.5675 - accuracy: 0.3220 - val_loss: 1.5831 - val_accuracy: 0.3458\n"
     ]
    }
   ],
   "source": [
    "# Buidling the model\n",
    "# 1. Set random seed\n",
    "tf.random.set_seed(42)\n",
    "# 2. Create the model\n",
    "model_11= tf.keras.Sequential([\n",
    "    tf.keras.layers.Flatten(input_shape=(28, 28)),\n",
    "    tf.keras.layers.Dense(4, activation='relu'),\n",
    "    tf.keras.layers.Dense(4, activation='relu'),\n",
    "    tf.keras.layers.Dense(10, activation='softmax')\n",
    "])\n",
    "\n",
    "# 2. Compile the model\n",
    "model_11.compile(loss='SparseCategoricalCrossentropy',\n",
    "                optimizer= tf.keras.optimizers.Adam(),\n",
    "                metrics=['accuracy'])\n",
    "# 3. Fit the model\n",
    "non_norm_history= model_11.fit(train_data,\n",
    "                              train_labels,\n",
    "                              epochs=10,\n",
    "                              validation_data=(test_data, test_labels))\n"
   ]
  },
  {
   "cell_type": "code",
   "execution_count": 84,
   "id": "molecular-surrey",
   "metadata": {},
   "outputs": [
    {
     "name": "stdout",
     "output_type": "stream",
     "text": [
      "Model: \"sequential_14\"\n",
      "_________________________________________________________________\n",
      "Layer (type)                 Output Shape              Param #   \n",
      "=================================================================\n",
      "flatten_1 (Flatten)          (None, 784)               0         \n",
      "_________________________________________________________________\n",
      "dense_36 (Dense)             (None, 4)                 3140      \n",
      "_________________________________________________________________\n",
      "dense_37 (Dense)             (None, 4)                 20        \n",
      "_________________________________________________________________\n",
      "dense_38 (Dense)             (None, 10)                50        \n",
      "=================================================================\n",
      "Total params: 3,210\n",
      "Trainable params: 3,210\n",
      "Non-trainable params: 0\n",
      "_________________________________________________________________\n"
     ]
    }
   ],
   "source": [
    "model_11.summary()"
   ]
  },
  {
   "cell_type": "code",
   "execution_count": 85,
   "id": "solved-bosnia",
   "metadata": {},
   "outputs": [
    {
     "data": {
      "text/plain": [
       "(0, 255)"
      ]
     },
     "execution_count": 85,
     "metadata": {},
     "output_type": "execute_result"
    }
   ],
   "source": [
    "# Check the min and max of data\n",
    "train_data.min(), train_data.max()"
   ]
  },
  {
   "cell_type": "markdown",
   "id": "burning-luther",
   "metadata": {},
   "source": [
    "### Neural networks prefer data to be scaled or normalized; they like to have the numbers between 0 and 1. "
   ]
  },
  {
   "cell_type": "code",
   "execution_count": 86,
   "id": "passing-instrument",
   "metadata": {},
   "outputs": [
    {
     "data": {
      "text/plain": [
       "(0.0, 1.0)"
      ]
     },
     "execution_count": 86,
     "metadata": {},
     "output_type": "execute_result"
    }
   ],
   "source": [
    "train_data_norm= train_data/255.0\n",
    "test_data_norm= test_data/255.0\n",
    "train_data_norm.min(), train_data_norm.max()"
   ]
  },
  {
   "cell_type": "code",
   "execution_count": 87,
   "id": "consistent-rainbow",
   "metadata": {},
   "outputs": [
    {
     "name": "stdout",
     "output_type": "stream",
     "text": [
      "Epoch 1/10\n",
      "1875/1875 [==============================] - 5s 2ms/step - loss: 1.4476 - accuracy: 0.5004 - val_loss: 0.6937 - val_accuracy: 0.7617\n",
      "Epoch 2/10\n",
      "1875/1875 [==============================] - 4s 2ms/step - loss: 0.6479 - accuracy: 0.7706 - val_loss: 0.6400 - val_accuracy: 0.7820\n",
      "Epoch 3/10\n",
      "1875/1875 [==============================] - 4s 2ms/step - loss: 0.5984 - accuracy: 0.7902 - val_loss: 0.6247 - val_accuracy: 0.7783\n",
      "Epoch 4/10\n",
      "1875/1875 [==============================] - 4s 2ms/step - loss: 0.5767 - accuracy: 0.7986 - val_loss: 0.6078 - val_accuracy: 0.7881\n",
      "Epoch 5/10\n",
      "1875/1875 [==============================] - 4s 2ms/step - loss: 0.5611 - accuracy: 0.8017 - val_loss: 0.6169 - val_accuracy: 0.7881\n",
      "Epoch 6/10\n",
      "1875/1875 [==============================] - 4s 2ms/step - loss: 0.5562 - accuracy: 0.8030 - val_loss: 0.5855 - val_accuracy: 0.7951\n",
      "Epoch 7/10\n",
      "1875/1875 [==============================] - 4s 2ms/step - loss: 0.5458 - accuracy: 0.8076 - val_loss: 0.6097 - val_accuracy: 0.7836\n",
      "Epoch 8/10\n",
      "1875/1875 [==============================] - 4s 2ms/step - loss: 0.5432 - accuracy: 0.8086 - val_loss: 0.5787 - val_accuracy: 0.7971\n",
      "Epoch 9/10\n",
      "1875/1875 [==============================] - 4s 2ms/step - loss: 0.5457 - accuracy: 0.8065 - val_loss: 0.5698 - val_accuracy: 0.7977\n",
      "Epoch 10/10\n",
      "1875/1875 [==============================] - 4s 2ms/step - loss: 0.5289 - accuracy: 0.8149 - val_loss: 0.5658 - val_accuracy: 0.8014\n"
     ]
    }
   ],
   "source": [
    "# Now that our data is normalized\n",
    "# 1. Set random seed\n",
    "tf.random.set_seed(42)\n",
    "# 2. Create the model\n",
    "model_12= tf.keras.Sequential([\n",
    "    tf.keras.layers.Flatten(input_shape=(28, 28)),\n",
    "    tf.keras.layers.Dense(4, activation='relu'),\n",
    "    tf.keras.layers.Dense(4, activation='relu'),\n",
    "    tf.keras.layers.Dense(10, activation='softmax')\n",
    "])\n",
    "\n",
    "# 2. Compile the model\n",
    "model_12.compile(loss='SparseCategoricalCrossentropy',\n",
    "                optimizer= tf.keras.optimizers.Adam(),\n",
    "                metrics=['accuracy'])\n",
    "# 3. Fit the model\n",
    "norm_history= model_12.fit(train_data_norm,\n",
    "                              train_labels,\n",
    "                              epochs=10,\n",
    "                              validation_data=(test_data_norm, test_labels))"
   ]
  },
  {
   "cell_type": "code",
   "execution_count": 88,
   "id": "primary-tunnel",
   "metadata": {},
   "outputs": [
    {
     "data": {
      "text/plain": [
       "<matplotlib.axes._subplots.AxesSubplot at 0x7f819b6a26a0>"
      ]
     },
     "execution_count": 88,
     "metadata": {},
     "output_type": "execute_result"
    },
    {
     "data": {
      "image/png": "[encoded data removed]",
      "text/plain": [
       "<Figure size 432x288 with 1 Axes>"
      ]
     },
     "metadata": {
      "needs_background": "light"
     },
     "output_type": "display_data"
    },
    {
     "data": {
      "image/png": "[encoded data removed]",
      "text/plain": [
       "<Figure size 432x288 with 1 Axes>"
      ]
     },
     "metadata": {
      "needs_background": "light"
     },
     "output_type": "display_data"
    }
   ],
   "source": [
    "# Plot non-normalized data loss curve\n",
    "pd.DataFrame(non_norm_history.history).plot(title='Non-normalized data')\n",
    "# Plot normalized data loss curve\n",
    "pd.DataFrame(norm_history.history).plot(title='Normalized data')"
   ]
  },
  {
   "cell_type": "markdown",
   "id": "delayed-identity",
   "metadata": {},
   "source": [
    "### Finding the ideal learning rate"
   ]
  },
  {
   "cell_type": "code",
   "execution_count": 90,
   "id": "union-control",
   "metadata": {},
   "outputs": [
    {
     "name": "stdout",
     "output_type": "stream",
     "text": [
      "Epoch 1/40\n",
      "1875/1875 [==============================] - 10s 5ms/step - loss: 1.4476 - accuracy: 0.5004 - val_loss: 0.6937 - val_accuracy: 0.7617\n",
      "Epoch 2/40\n",
      "1875/1875 [==============================] - 7s 4ms/step - loss: 0.6479 - accuracy: 0.7707 - val_loss: 0.6400 - val_accuracy: 0.7808\n",
      "Epoch 3/40\n",
      "1875/1875 [==============================] - 6s 3ms/step - loss: 0.5978 - accuracy: 0.7901 - val_loss: 0.6278 - val_accuracy: 0.7770\n",
      "Epoch 4/40\n",
      "1875/1875 [==============================] - 6s 3ms/step - loss: 0.5768 - accuracy: 0.7978 - val_loss: 0.6122 - val_accuracy: 0.7871\n",
      "Epoch 5/40\n",
      "1875/1875 [==============================] - 6s 3ms/step - loss: 0.5630 - accuracy: 0.7995 - val_loss: 0.6061 - val_accuracy: 0.7913\n",
      "Epoch 6/40\n",
      "1875/1875 [==============================] - 5s 3ms/step - loss: 0.5577 - accuracy: 0.8003 - val_loss: 0.5917 - val_accuracy: 0.7940\n",
      "Epoch 7/40\n",
      "1875/1875 [==============================] - 4s 2ms/step - loss: 0.5506 - accuracy: 0.8043 - val_loss: 0.5898 - val_accuracy: 0.7896\n",
      "Epoch 8/40\n",
      "1875/1875 [==============================] - 4s 2ms/step - loss: 0.5520 - accuracy: 0.8040 - val_loss: 0.5829 - val_accuracy: 0.7949\n",
      "Epoch 9/40\n",
      "1875/1875 [==============================] - 4s 2ms/step - loss: 0.5538 - accuracy: 0.8010 - val_loss: 0.6036 - val_accuracy: 0.7833\n",
      "Epoch 10/40\n",
      "1875/1875 [==============================] - 4s 2ms/step - loss: 0.5397 - accuracy: 0.8076 - val_loss: 0.5736 - val_accuracy: 0.7974\n",
      "Epoch 11/40\n",
      "1875/1875 [==============================] - 4s 2ms/step - loss: 0.5468 - accuracy: 0.8050 - val_loss: 0.5672 - val_accuracy: 0.8016\n",
      "Epoch 12/40\n",
      "1875/1875 [==============================] - 4s 2ms/step - loss: 0.5449 - accuracy: 0.8057 - val_loss: 0.5773 - val_accuracy: 0.7950\n",
      "Epoch 13/40\n",
      "1875/1875 [==============================] - 6s 3ms/step - loss: 0.5415 - accuracy: 0.8061 - val_loss: 0.5775 - val_accuracy: 0.7992\n",
      "Epoch 14/40\n",
      "1875/1875 [==============================] - 4s 2ms/step - loss: 0.5414 - accuracy: 0.8069 - val_loss: 0.5616 - val_accuracy: 0.8075\n",
      "Epoch 15/40\n",
      "1875/1875 [==============================] - 6s 3ms/step - loss: 0.5454 - accuracy: 0.8030 - val_loss: 0.5773 - val_accuracy: 0.8039\n",
      "Epoch 16/40\n",
      "1875/1875 [==============================] - 4s 2ms/step - loss: 0.5430 - accuracy: 0.8069 - val_loss: 0.5682 - val_accuracy: 0.8015\n",
      "Epoch 17/40\n",
      "1875/1875 [==============================] - 5s 3ms/step - loss: 0.5407 - accuracy: 0.8060 - val_loss: 0.5995 - val_accuracy: 0.7964\n",
      "Epoch 18/40\n",
      "1875/1875 [==============================] - 5s 3ms/step - loss: 0.5482 - accuracy: 0.8056 - val_loss: 0.5544 - val_accuracy: 0.8087\n",
      "Epoch 19/40\n",
      "1875/1875 [==============================] - 4s 2ms/step - loss: 0.5477 - accuracy: 0.8037 - val_loss: 0.6068 - val_accuracy: 0.7864\n",
      "Epoch 20/40\n",
      "1875/1875 [==============================] - 4s 2ms/step - loss: 0.5576 - accuracy: 0.8018 - val_loss: 0.5625 - val_accuracy: 0.8082\n",
      "Epoch 21/40\n",
      "1875/1875 [==============================] - 4s 2ms/step - loss: 0.5541 - accuracy: 0.8053 - val_loss: 0.5993 - val_accuracy: 0.7935\n",
      "Epoch 22/40\n",
      "1875/1875 [==============================] - 4s 2ms/step - loss: 0.5652 - accuracy: 0.7976 - val_loss: 0.5866 - val_accuracy: 0.8007\n",
      "Epoch 23/40\n",
      "1875/1875 [==============================] - 7s 4ms/step - loss: 0.5694 - accuracy: 0.7979 - val_loss: 0.6679 - val_accuracy: 0.7495\n",
      "Epoch 24/40\n",
      "1875/1875 [==============================] - 8s 4ms/step - loss: 0.5799 - accuracy: 0.7949 - val_loss: 0.6203 - val_accuracy: 0.7909\n",
      "Epoch 25/40\n",
      "1875/1875 [==============================] - 8s 4ms/step - loss: 0.5836 - accuracy: 0.7955 - val_loss: 0.6277 - val_accuracy: 0.7924\n",
      "Epoch 26/40\n",
      "1875/1875 [==============================] - 8s 4ms/step - loss: 0.5985 - accuracy: 0.7924 - val_loss: 0.6936 - val_accuracy: 0.7825\n",
      "Epoch 27/40\n",
      "1875/1875 [==============================] - 7s 4ms/step - loss: 0.6087 - accuracy: 0.7860 - val_loss: 0.6187 - val_accuracy: 0.7890\n",
      "Epoch 28/40\n",
      "1875/1875 [==============================] - 7s 4ms/step - loss: 0.6147 - accuracy: 0.7837 - val_loss: 0.6428 - val_accuracy: 0.7833\n",
      "Epoch 29/40\n",
      "1875/1875 [==============================] - 9s 5ms/step - loss: 0.6387 - accuracy: 0.7761 - val_loss: 0.6463 - val_accuracy: 0.7626\n",
      "Epoch 30/40\n",
      "1875/1875 [==============================] - 8s 4ms/step - loss: 0.6589 - accuracy: 0.7691 - val_loss: 0.7795 - val_accuracy: 0.7164\n",
      "Epoch 31/40\n",
      "1875/1875 [==============================] - 7s 4ms/step - loss: 0.6859 - accuracy: 0.7582 - val_loss: 0.7535 - val_accuracy: 0.7401\n",
      "Epoch 32/40\n",
      "1875/1875 [==============================] - 6s 3ms/step - loss: 0.7021 - accuracy: 0.7568 - val_loss: 0.8784 - val_accuracy: 0.7169\n",
      "Epoch 33/40\n",
      "1875/1875 [==============================] - 6s 3ms/step - loss: 0.7476 - accuracy: 0.7447 - val_loss: 0.8531 - val_accuracy: 0.7547\n",
      "Epoch 34/40\n",
      "1875/1875 [==============================] - 6s 3ms/step - loss: 0.8562 - accuracy: 0.7039 - val_loss: 0.7376 - val_accuracy: 0.7272\n",
      "Epoch 35/40\n",
      "1875/1875 [==============================] - 6s 3ms/step - loss: 0.8149 - accuracy: 0.7199 - val_loss: 0.9041 - val_accuracy: 0.6776\n",
      "Epoch 36/40\n",
      "1875/1875 [==============================] - 6s 3ms/step - loss: 0.9401 - accuracy: 0.6674 - val_loss: 0.8193 - val_accuracy: 0.7181\n",
      "Epoch 37/40\n",
      "1875/1875 [==============================] - 6s 3ms/step - loss: 0.9018 - accuracy: 0.6875 - val_loss: 0.9964 - val_accuracy: 0.6361\n",
      "Epoch 38/40\n",
      "1875/1875 [==============================] - 6s 3ms/step - loss: 1.0131 - accuracy: 0.6553 - val_loss: 1.3211 - val_accuracy: 0.5302\n",
      "Epoch 39/40\n",
      "1875/1875 [==============================] - 6s 3ms/step - loss: 1.2120 - accuracy: 0.5616 - val_loss: 1.3801 - val_accuracy: 0.4255\n",
      "Epoch 40/40\n",
      "1875/1875 [==============================] - 7s 4ms/step - loss: 1.3969 - accuracy: 0.4062 - val_loss: 1.6284 - val_accuracy: 0.2617\n"
     ]
    }
   ],
   "source": [
    "tf.random.set_seed(42)\n",
    "# Create model\n",
    "model_13= tf.keras.Sequential([\n",
    "    tf.keras.layers.Flatten(input_shape=(28, 28)),\n",
    "    tf.keras.layers.Dense(4, activation='relu'),\n",
    "    tf.keras.layers.Dense(4, activation='relu'),\n",
    "    tf.keras.layers.Dense(10, activation='softmax')\n",
    "])\n",
    "\n",
    "# Compile the model\n",
    "\n",
    "model_13.compile(loss='SparseCategoricalCrossentropy',\n",
    "                optimizer=tf.keras.optimizers.Adam(),\n",
    "                metrics=['accuracy'])\n",
    "# Create the learning rate callback\n",
    "lr_scheduler= tf.keras.callbacks.LearningRateScheduler(lambda epoch: 1e-3 *10**(epoch/20))\n",
    "\n",
    "# Fit the model\n",
    "find_lr_history= model_13.fit(train_data_norm,\n",
    "                             train_labels,\n",
    "                             epochs=40,\n",
    "                             validation_data=(test_data_norm, test_labels),\n",
    "                             callbacks=[lr_scheduler])"
   ]
  },
  {
   "cell_type": "code",
   "execution_count": 91,
   "id": "rural-gabriel",
   "metadata": {},
   "outputs": [
    {
     "data": {
      "text/plain": [
       "Text(0.5, 1.0, 'Finding the ideal learning rate')"
      ]
     },
     "execution_count": 91,
     "metadata": {},
     "output_type": "execute_result"
    },
    {
     "data": {
      "image/png": "[encoded data removed]",
      "text/plain": [
       "<Figure size 432x288 with 1 Axes>"
      ]
     },
     "metadata": {
      "needs_background": "light"
     },
     "output_type": "display_data"
    }
   ],
   "source": [
    "# Plot the learning rate decay curve\n",
    "lrs= 1e-3 *(10**(tf.range(40)/20))\n",
    "plt.semilogx(lrs, find_lr_history.history['loss'])\n",
    "plt.xlabel('Learning rate')\n",
    "plt.ylabel('Loss')\n",
    "plt.title('Finding the ideal learning rate')\n",
    "\n"
   ]
  },
  {
   "cell_type": "code",
   "execution_count": 92,
   "id": "respected-marks",
   "metadata": {},
   "outputs": [
    {
     "name": "stdout",
     "output_type": "stream",
     "text": [
      "Epoch 1/20\n",
      "1875/1875 [==============================] - 7s 3ms/step - loss: 1.4476 - accuracy: 0.5004 - val_loss: 0.6937 - val_accuracy: 0.7617\n",
      "Epoch 2/20\n",
      "1875/1875 [==============================] - 4s 2ms/step - loss: 0.6479 - accuracy: 0.7706 - val_loss: 0.6400 - val_accuracy: 0.7820\n",
      "Epoch 3/20\n",
      "1875/1875 [==============================] - 4s 2ms/step - loss: 0.5984 - accuracy: 0.7902 - val_loss: 0.6247 - val_accuracy: 0.7783\n",
      "Epoch 4/20\n",
      "1875/1875 [==============================] - 4s 2ms/step - loss: 0.5767 - accuracy: 0.7986 - val_loss: 0.6078 - val_accuracy: 0.7881\n",
      "Epoch 5/20\n",
      "1875/1875 [==============================] - 4s 2ms/step - loss: 0.5611 - accuracy: 0.8017 - val_loss: 0.6169 - val_accuracy: 0.7881\n",
      "Epoch 6/20\n",
      "1875/1875 [==============================] - 4s 2ms/step - loss: 0.5562 - accuracy: 0.8030 - val_loss: 0.5855 - val_accuracy: 0.7951\n",
      "Epoch 7/20\n",
      "1875/1875 [==============================] - 4s 2ms/step - loss: 0.5458 - accuracy: 0.8076 - val_loss: 0.6097 - val_accuracy: 0.7836\n",
      "Epoch 8/20\n",
      "1875/1875 [==============================] - 4s 2ms/step - loss: 0.5432 - accuracy: 0.8086 - val_loss: 0.5787 - val_accuracy: 0.7971\n",
      "Epoch 9/20\n",
      "1875/1875 [==============================] - 4s 2ms/step - loss: 0.5457 - accuracy: 0.8065 - val_loss: 0.5698 - val_accuracy: 0.7977\n",
      "Epoch 10/20\n",
      "1875/1875 [==============================] - 4s 2ms/step - loss: 0.5289 - accuracy: 0.8149 - val_loss: 0.5658 - val_accuracy: 0.8014\n",
      "Epoch 11/20\n",
      "1875/1875 [==============================] - 4s 2ms/step - loss: 0.5325 - accuracy: 0.8129 - val_loss: 0.5714 - val_accuracy: 0.8002\n",
      "Epoch 12/20\n",
      "1875/1875 [==============================] - 4s 2ms/step - loss: 0.5290 - accuracy: 0.8119 - val_loss: 0.5626 - val_accuracy: 0.8027\n",
      "Epoch 13/20\n",
      "1875/1875 [==============================] - 4s 2ms/step - loss: 0.5244 - accuracy: 0.8154 - val_loss: 0.5619 - val_accuracy: 0.8041\n",
      "Epoch 14/20\n",
      "1875/1875 [==============================] - 4s 2ms/step - loss: 0.5276 - accuracy: 0.8126 - val_loss: 0.5718 - val_accuracy: 0.7991\n",
      "Epoch 15/20\n",
      "1875/1875 [==============================] - 4s 2ms/step - loss: 0.5303 - accuracy: 0.8129 - val_loss: 0.5706 - val_accuracy: 0.8024\n",
      "Epoch 16/20\n",
      "1875/1875 [==============================] - 4s 2ms/step - loss: 0.5216 - accuracy: 0.8164 - val_loss: 0.5731 - val_accuracy: 0.8023\n",
      "Epoch 17/20\n",
      "1875/1875 [==============================] - 4s 2ms/step - loss: 0.5152 - accuracy: 0.8178 - val_loss: 0.5594 - val_accuracy: 0.8030\n",
      "Epoch 18/20\n",
      "1875/1875 [==============================] - 4s 2ms/step - loss: 0.5194 - accuracy: 0.8150 - val_loss: 0.5582 - val_accuracy: 0.8053\n",
      "Epoch 19/20\n",
      "1875/1875 [==============================] - 4s 2ms/step - loss: 0.5119 - accuracy: 0.8162 - val_loss: 0.5644 - val_accuracy: 0.8007\n",
      "Epoch 20/20\n",
      "1875/1875 [==============================] - 4s 2ms/step - loss: 0.5177 - accuracy: 0.8159 - val_loss: 0.5660 - val_accuracy: 0.8075\n"
     ]
    },
    {
     "data": {
      "text/plain": [
       "<tensorflow.python.keras.callbacks.History at 0x7f819b433370>"
      ]
     },
     "execution_count": 92,
     "metadata": {},
     "output_type": "execute_result"
    }
   ],
   "source": [
    "## Let's refit the model with ideal learning rate\n",
    "tf.random.set_seed(42)\n",
    "model_14= tf.keras.Sequential([\n",
    "    tf.keras.layers.Flatten(input_shape=(28, 28)),\n",
    "    tf.keras.layers.Dense(4, activation='relu'),\n",
    "    tf.keras.layers.Dense(4, activation='relu'),\n",
    "    tf.keras.layers.Dense(10, activation='softmax')\n",
    "])\n",
    "\n",
    "model_14.compile(loss='SparseCategoricalCrossentropy',\n",
    "                optimizer=tf.keras.optimizers.Adam(lr=0.001), \n",
    "                metrics=['accuracy'])\n",
    "\n",
    "model_14.fit(train_data_norm,\n",
    "            train_labels,\n",
    "            epochs=20,\n",
    "            validation_data= (test_data_norm, test_labels))\n",
    "\n"
   ]
  },
  {
   "cell_type": "markdown",
   "id": "grateful-dutch",
   "metadata": {},
   "source": [
    "### Evaluating our multi-class classification model"
   ]
  },
  {
   "cell_type": "code",
   "execution_count": null,
   "id": "artificial-sequence",
   "metadata": {},
   "outputs": [],
   "source": []
  }
 ],
 "metadata": {
  "kernelspec": {
   "display_name": "Python 3",
   "language": "python",
   "name": "python3"
  },
  "language_info": {
   "codemirror_mode": {
    "name": "ipython",
    "version": 3
   },
   "file_extension": ".py",
   "mimetype": "text/x-python",
   "name": "python",
   "nbconvert_exporter": "python",
   "pygments_lexer": "ipython3",
   "version": "3.8.10"
  }
 },
 "nbformat": 4,
 "nbformat_minor": 5
}
