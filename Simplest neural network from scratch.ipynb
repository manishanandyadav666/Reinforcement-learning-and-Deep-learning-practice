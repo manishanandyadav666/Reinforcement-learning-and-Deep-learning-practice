{
 "cells": [
  {
   "cell_type": "code",
   "execution_count": 8,
   "metadata": {},
   "outputs": [],
   "source": [
    "# importing the required libraries\n",
    "import numpy as np\n",
    "def sigmoid(x):\n",
    "    return 1/(1+np.exp(-x))\n",
    "def sigmoid_derivative(x):\n",
    "    return x*(1-x)"
   ]
  },
  {
   "cell_type": "code",
   "execution_count": 9,
   "metadata": {},
   "outputs": [],
   "source": [
    "# Creating inputs and outputs\n",
    "training_inputs=np.array([[0,0,1],\n",
    "                          [1,1,1],\n",
    "                          [1,0,1],\n",
    "                          [0,1,1]\n",
    "                         ])\n",
    "training_outputs=np.array([[0,1,1,0]]).T\n"
   ]
  },
  {
   "cell_type": "code",
   "execution_count": 10,
   "metadata": {},
   "outputs": [
    {
     "name": "stdout",
     "output_type": "stream",
     "text": [
      "Random starting weights [[-0.16595599]\n",
      " [ 0.44064899]\n",
      " [-0.99977125]]\n"
     ]
    }
   ],
   "source": [
    "# Assigning some random weights\n",
    "np.random.seed(1)\n",
    "our_weights=2*np.random.random((3,1))-1\n",
    "print('Random starting weights', our_weights)"
   ]
  },
  {
   "cell_type": "code",
   "execution_count": 14,
   "metadata": {},
   "outputs": [
    {
     "name": "stdout",
     "output_type": "stream",
     "text": [
      "The weights after training are [[12.19235029]\n",
      " [-0.20426716]\n",
      " [-5.89222256]]\n",
      "The outputs are: [[0.00275324]\n",
      " [0.99775288]\n",
      " [0.99816729]\n",
      " [0.00224571]]\n"
     ]
    }
   ],
   "source": [
    "# The training\n",
    "for i in range(100000):\n",
    "    input_layer=training_inputs\n",
    "    outputs=sigmoid(np.dot(input_layer,our_weights))\n",
    "    error=training_outputs-outputs\n",
    "    adjustments=error*sigmoid_derivative(outputs)\n",
    "    our_weights+=np.dot(input_layer.T,adjustments)\n",
    "print('The weights after training are',our_weights)\n",
    "print('The outputs are:',outputs)"
   ]
  },
  {
   "cell_type": "code",
   "execution_count": null,
   "metadata": {},
   "outputs": [],
   "source": []
  }
 ],
 "metadata": {
  "kernelspec": {
   "display_name": "Python 3",
   "language": "python",
   "name": "python3"
  },
  "language_info": {
   "codemirror_mode": {
    "name": "ipython",
    "version": 3
   },
   "file_extension": ".py",
   "mimetype": "text/x-python",
   "name": "python",
   "nbconvert_exporter": "python",
   "pygments_lexer": "ipython3",
   "version": "3.7.3"
  }
 },
 "nbformat": 4,
 "nbformat_minor": 2
}
