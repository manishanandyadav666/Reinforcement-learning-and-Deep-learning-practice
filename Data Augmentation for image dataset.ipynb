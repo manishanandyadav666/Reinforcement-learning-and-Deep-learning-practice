{
 "cells": [
  {
   "cell_type": "code",
   "execution_count": 2,
   "metadata": {},
   "outputs": [],
   "source": [
    "# Importing important library for cats vs dogs data from kaggle \n",
    "from keras.preprocessing.image import ImageDataGenerator,array_to_img, img_to_array, load_img\n",
    "datagen=ImageDataGenerator(\n",
    "                  rotation_range=40,\n",
    "                  width_shift_range=0.2,\n",
    "                  height_shift_range=0.2,\n",
    "                  shear_range=0.2,\n",
    "                  zoom_range=0.2,\n",
    "                  horizontal_flip=True,\n",
    "                  fill_mode='nearest'\n",
    "                          )\n"
   ]
  },
  {
   "cell_type": "code",
   "execution_count": 4,
   "metadata": {},
   "outputs": [],
   "source": [
    "# loading the image\n",
    "img=load_img('/home/dell/archive/test1/12500.jpg')"
   ]
  },
  {
   "cell_type": "code",
   "execution_count": 5,
   "metadata": {},
   "outputs": [],
   "source": [
    "# Conversion from image to array\n",
    "x=img_to_array(img)\n",
    "x=x.reshape((1,)+x.shape)\n"
   ]
  },
  {
   "cell_type": "code",
   "execution_count": 7,
   "metadata": {},
   "outputs": [],
   "source": [
    "# Generating more number of images\n",
    "j=0\n",
    "for batch in datagen.flow(x,batch_size=1,save_to_dir='proj',save_prefix='cado',save_format='.jpeg'):\n",
    "    j=j+1\n",
    "    if j>15:\n",
    "        break"
   ]
  },
  {
   "cell_type": "code",
   "execution_count": null,
   "metadata": {},
   "outputs": [],
   "source": []
  }
 ],
 "metadata": {
  "kernelspec": {
   "display_name": "Python 3",
   "language": "python",
   "name": "python3"
  },
  "language_info": {
   "codemirror_mode": {
    "name": "ipython",
    "version": 3
   },
   "file_extension": ".py",
   "mimetype": "text/x-python",
   "name": "python",
   "nbconvert_exporter": "python",
   "pygments_lexer": "ipython3",
   "version": "3.7.3"
  }
 },
 "nbformat": 4,
 "nbformat_minor": 2
}
